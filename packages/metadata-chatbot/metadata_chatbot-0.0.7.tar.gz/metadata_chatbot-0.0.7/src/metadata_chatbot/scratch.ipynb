{
 "cells": [
  {
   "cell_type": "code",
   "execution_count": 5,
   "metadata": {},
   "outputs": [],
   "source": [
    "import boto3\n",
    "bedrock = boto3.client(\n",
    "    service_name=\"bedrock-runtime\",\n",
    "    region_name = 'us-west-2'\n",
    ")"
   ]
  },
  {
   "cell_type": "code",
   "execution_count": 3,
   "metadata": {},
   "outputs": [],
   "source": [
    "from metadata_chatbot.chat import get_summary\n"
   ]
  },
  {
   "cell_type": "code",
   "execution_count": 6,
   "metadata": {},
   "outputs": [
    {
     "data": {
      "text/plain": [
       "'<summary>\\nThis record contains metadata about a behavioral training session for mouse subject 719360 on 2024-04-09. The session involved visual and auditory stimuli presented through a monitor and speaker, with a reward delivery system for water rewards. The mouse performed 552 trials, receiving 27 rewards totaling 0.135 mL of water. Specific details are provided about the rig setup, stimulus parameters, software used, and procedures performed on the subject prior to the session. The metadata indicates this is raw behavioral data from the Allen Institute for Neural Dynamics.\\n</summary>'"
      ]
     },
     "execution_count": 6,
     "metadata": {},
     "output_type": "execute_result"
    }
   ],
   "source": [
    "get_summary(\"b49c00c1-8200-402b-b166-fa5a2ce5023f\", bedrock)"
   ]
  }
 ],
 "metadata": {
  "kernelspec": {
   "display_name": ".venv",
   "language": "python",
   "name": "python3"
  },
  "language_info": {
   "codemirror_mode": {
    "name": "ipython",
    "version": 3
   },
   "file_extension": ".py",
   "mimetype": "text/x-python",
   "name": "python",
   "nbconvert_exporter": "python",
   "pygments_lexer": "ipython3",
   "version": "3.9.13"
  }
 },
 "nbformat": 4,
 "nbformat_minor": 2
}
