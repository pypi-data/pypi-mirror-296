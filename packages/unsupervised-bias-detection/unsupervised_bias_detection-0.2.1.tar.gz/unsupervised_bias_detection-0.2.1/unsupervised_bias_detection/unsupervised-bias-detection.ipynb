{
 "cells": [
  {
   "cell_type": "markdown",
   "metadata": {},
   "source": [
    "## Description of notebook"
   ]
  },
  {
   "cell_type": "markdown",
   "metadata": {},
   "source": [
    "In this notebook, an usupervised bias detection tool is applied on synthetic data of the CUB process from 2014. The synthetic dataset (n=20.000) reflects group level characteristics of students that were registered to receive a college grant on 01-02-2014 by the Dutch Executive Education Agency (DUO). A clustering algorithm is applied to identify groups of similar students that are treated differently."
   ]
  },
  {
   "cell_type": "markdown",
   "metadata": {},
   "source": [
    "## Table of contents"
   ]
  },
  {
   "cell_type": "markdown",
   "metadata": {},
   "source": [
    "0. Import libraries and data\n",
    "1. Data processing\n",
    "2. Clustering\n",
    "3. Analysis of cluster with most bias\n",
    "4. Analysis of all identifief clusters"
   ]
  },
  {
   "cell_type": "markdown",
   "metadata": {},
   "source": [
    "## 0. Import libraries and data"
   ]
  },
  {
   "cell_type": "code",
   "execution_count": 1,
   "metadata": {
    "is_executing": true
   },
   "outputs": [],
   "source": [
    "import warnings\n",
    "import pandas as pd\n",
    "import numpy as np\n",
    "import matplotlib.pyplot as plt\n",
    "from scipy.stats import chi2_contingency, chi2\n",
    "from sklearn.preprocessing import LabelEncoder\n",
    "from unsupervised_bias_detection.clustering import BiasAwareHierarchicalKModes\n",
    "warnings.filterwarnings('ignore')"
   ]
  },
  {
   "cell_type": "code",
   "execution_count": 2,
   "metadata": {
    "ExecuteTime": {
     "end_time": "2024-05-25T17:31:37.271915Z",
     "start_time": "2024-05-25T17:31:36.688460Z"
    }
   },
   "outputs": [],
   "source": [
    "# Load data\n",
    "df = pd.read_csv('Table1_SD_20k.csv', sep=\",\", index_col='Unnamed: 0')"
   ]
  },
  {
   "cell_type": "code",
   "execution_count": 3,
   "metadata": {},
   "outputs": [
    {
     "data": {
      "text/html": [
       "<div>\n",
       "<style scoped>\n",
       "    .dataframe tbody tr th:only-of-type {\n",
       "        vertical-align: middle;\n",
       "    }\n",
       "\n",
       "    .dataframe tbody tr th {\n",
       "        vertical-align: top;\n",
       "    }\n",
       "\n",
       "    .dataframe thead th {\n",
       "        text-align: right;\n",
       "    }\n",
       "</style>\n",
       "<table border=\"1\" class=\"dataframe\">\n",
       "  <thead>\n",
       "    <tr style=\"text-align: right;\">\n",
       "      <th></th>\n",
       "      <th>Education</th>\n",
       "      <th>Age</th>\n",
       "      <th>Distance</th>\n",
       "      <th>Risk category</th>\n",
       "      <th>Outcome house visit</th>\n",
       "      <th>Outcome appeal</th>\n",
       "    </tr>\n",
       "  </thead>\n",
       "  <tbody>\n",
       "    <tr>\n",
       "      <th>0</th>\n",
       "      <td>MBO 3-4</td>\n",
       "      <td>19-20</td>\n",
       "      <td>5-10km</td>\n",
       "      <td>5</td>\n",
       "      <td>Not available</td>\n",
       "      <td>NaN</td>\n",
       "    </tr>\n",
       "    <tr>\n",
       "      <th>1</th>\n",
       "      <td>WO</td>\n",
       "      <td>25-50</td>\n",
       "      <td>50-500km</td>\n",
       "      <td>4</td>\n",
       "      <td>Not available</td>\n",
       "      <td>NaN</td>\n",
       "    </tr>\n",
       "    <tr>\n",
       "      <th>2</th>\n",
       "      <td>MBO 3-4</td>\n",
       "      <td>19-20</td>\n",
       "      <td>50-500km</td>\n",
       "      <td>5</td>\n",
       "      <td>Not available</td>\n",
       "      <td>NaN</td>\n",
       "    </tr>\n",
       "    <tr>\n",
       "      <th>3</th>\n",
       "      <td>WO</td>\n",
       "      <td>21-22</td>\n",
       "      <td>20-50km</td>\n",
       "      <td>6</td>\n",
       "      <td>Not available</td>\n",
       "      <td>NaN</td>\n",
       "    </tr>\n",
       "    <tr>\n",
       "      <th>4</th>\n",
       "      <td>WO</td>\n",
       "      <td>19-20</td>\n",
       "      <td>50-500km</td>\n",
       "      <td>2</td>\n",
       "      <td>Not available</td>\n",
       "      <td>NaN</td>\n",
       "    </tr>\n",
       "  </tbody>\n",
       "</table>\n",
       "</div>"
      ],
      "text/plain": [
       "  Education    Age  Distance  Risk category Outcome house visit Outcome appeal\n",
       "0   MBO 3-4  19-20    5-10km              5       Not available            NaN\n",
       "1        WO  25-50  50-500km              4       Not available            NaN\n",
       "2   MBO 3-4  19-20  50-500km              5       Not available            NaN\n",
       "3        WO  21-22   20-50km              6       Not available            NaN\n",
       "4        WO  19-20  50-500km              2       Not available            NaN"
      ]
     },
     "execution_count": 3,
     "metadata": {},
     "output_type": "execute_result"
    }
   ],
   "source": [
    "df.head()"
   ]
  },
  {
   "cell_type": "code",
   "execution_count": 4,
   "metadata": {},
   "outputs": [
    {
     "data": {
      "text/plain": [
       "(20000, 6)"
      ]
     },
     "execution_count": 4,
     "metadata": {},
     "output_type": "execute_result"
    }
   ],
   "source": [
    "df.shape"
   ]
  },
  {
   "cell_type": "markdown",
   "metadata": {},
   "source": [
    "## 1. Data processing"
   ]
  },
  {
   "cell_type": "code",
   "execution_count": 5,
   "metadata": {},
   "outputs": [],
   "source": [
    "# mapping high risk categories to 0 (low metric value) and low risk categories to 1 (high metric value)\n",
    "mapping = {6:0, 5:0, 4:1, 3:1, 2:1, 1:1}\n",
    "df['Risk category'] = df['Risk category'].map(mapping)"
   ]
  },
  {
   "cell_type": "code",
   "execution_count": 6,
   "metadata": {},
   "outputs": [],
   "source": [
    "# encode columns values to numerical values\n",
    "le1, le2, le3 = LabelEncoder(), LabelEncoder(), LabelEncoder()\n",
    "df['Education'] = le1.fit_transform(df['Education'])\n",
    "df['Age'] = le2.fit_transform(df['Age'])\n",
    "df['Distance'] = le3.fit_transform(df['Distance'])"
   ]
  },
  {
   "cell_type": "code",
   "execution_count": 7,
   "metadata": {},
   "outputs": [
    {
     "data": {
      "text/html": [
       "<div>\n",
       "<style scoped>\n",
       "    .dataframe tbody tr th:only-of-type {\n",
       "        vertical-align: middle;\n",
       "    }\n",
       "\n",
       "    .dataframe tbody tr th {\n",
       "        vertical-align: top;\n",
       "    }\n",
       "\n",
       "    .dataframe thead th {\n",
       "        text-align: right;\n",
       "    }\n",
       "</style>\n",
       "<table border=\"1\" class=\"dataframe\">\n",
       "  <thead>\n",
       "    <tr style=\"text-align: right;\">\n",
       "      <th></th>\n",
       "      <th>Education</th>\n",
       "      <th>Age</th>\n",
       "      <th>Distance</th>\n",
       "      <th>Risk category</th>\n",
       "      <th>Outcome house visit</th>\n",
       "      <th>Outcome appeal</th>\n",
       "    </tr>\n",
       "  </thead>\n",
       "  <tbody>\n",
       "    <tr>\n",
       "      <th>0</th>\n",
       "      <td>2</td>\n",
       "      <td>1</td>\n",
       "      <td>6</td>\n",
       "      <td>0</td>\n",
       "      <td>Not available</td>\n",
       "      <td>NaN</td>\n",
       "    </tr>\n",
       "    <tr>\n",
       "      <th>1</th>\n",
       "      <td>3</td>\n",
       "      <td>4</td>\n",
       "      <td>7</td>\n",
       "      <td>1</td>\n",
       "      <td>Not available</td>\n",
       "      <td>NaN</td>\n",
       "    </tr>\n",
       "    <tr>\n",
       "      <th>2</th>\n",
       "      <td>2</td>\n",
       "      <td>1</td>\n",
       "      <td>7</td>\n",
       "      <td>0</td>\n",
       "      <td>Not available</td>\n",
       "      <td>NaN</td>\n",
       "    </tr>\n",
       "    <tr>\n",
       "      <th>3</th>\n",
       "      <td>3</td>\n",
       "      <td>2</td>\n",
       "      <td>5</td>\n",
       "      <td>0</td>\n",
       "      <td>Not available</td>\n",
       "      <td>NaN</td>\n",
       "    </tr>\n",
       "    <tr>\n",
       "      <th>4</th>\n",
       "      <td>3</td>\n",
       "      <td>1</td>\n",
       "      <td>7</td>\n",
       "      <td>1</td>\n",
       "      <td>Not available</td>\n",
       "      <td>NaN</td>\n",
       "    </tr>\n",
       "  </tbody>\n",
       "</table>\n",
       "</div>"
      ],
      "text/plain": [
       "   Education  Age  Distance  Risk category Outcome house visit Outcome appeal\n",
       "0          2    1         6              0       Not available            NaN\n",
       "1          3    4         7              1       Not available            NaN\n",
       "2          2    1         7              0       Not available            NaN\n",
       "3          3    2         5              0       Not available            NaN\n",
       "4          3    1         7              1       Not available            NaN"
      ]
     },
     "execution_count": 7,
     "metadata": {},
     "output_type": "execute_result"
    }
   ],
   "source": [
    "df.head()"
   ]
  },
  {
   "cell_type": "markdown",
   "metadata": {},
   "source": [
    "## 2. Clustering"
   ]
  },
  {
   "cell_type": "code",
   "execution_count": 8,
   "metadata": {},
   "outputs": [],
   "source": [
    "features=['Education','Age','Distance']\n",
    "X = df[features]\n",
    "y = df['Risk category']\n",
    "hbac = BiasAwareHierarchicalKModes(n_iter=20, min_cluster_size=750).fit(X, y)"
   ]
  },
  {
   "cell_type": "code",
   "execution_count": 9,
   "metadata": {},
   "outputs": [
    {
     "data": {
      "text/plain": [
       "5"
      ]
     },
     "execution_count": 9,
     "metadata": {},
     "output_type": "execute_result"
    }
   ],
   "source": [
    "hbac.n_clusters_"
   ]
  },
  {
   "cell_type": "code",
   "execution_count": 10,
   "metadata": {},
   "outputs": [
    {
     "data": {
      "text/plain": [
       "array([ 0.01711251,  0.00048727, -0.00587807, -0.02072472, -0.0364168 ])"
      ]
     },
     "execution_count": 10,
     "metadata": {},
     "output_type": "execute_result"
    }
   ],
   "source": [
    "hbac.scores_"
   ]
  },
  {
   "cell_type": "markdown",
   "metadata": {},
   "source": [
    "## 3. Analysis of cluster with most bias"
   ]
  },
  {
   "cell_type": "code",
   "execution_count": 11,
   "metadata": {},
   "outputs": [],
   "source": [
    "# Invert numerical labels back to original categorical labels\n",
    "df['Education'] = le1.inverse_transform(df['Education'])\n",
    "df['Age'] = le2.inverse_transform(df['Age'])\n",
    "df['Distance'] = le3.inverse_transform(df['Distance'])"
   ]
  },
  {
   "cell_type": "code",
   "execution_count": 12,
   "metadata": {},
   "outputs": [],
   "source": [
    "# cluster with most bias has label 0\n",
    "df_most_biased_cluster = df[hbac.labels_ == 0]\n",
    "df_other = df[hbac.labels_ != 0]"
   ]
  },
  {
   "cell_type": "code",
   "execution_count": 13,
   "metadata": {},
   "outputs": [],
   "source": [
    "def stat_df_cat(df1, df2, features):\n",
    "    '''\n",
    "    For categorical data only: Takes dataframe of cluster \n",
    "    with highest bias and dataframe of the rest of the \n",
    "    datasets and computes differency in frequency, should \n",
    "    return 95% confidence intervals based on Chi2-test in\n",
    "    the future.\n",
    "    '''   \n",
    "\n",
    "    # initialize dictionaries\n",
    "    diff_dict = {}\n",
    "    # chi2_dict = {}\n",
    "    # cramer_dict = {}\n",
    "    # CI_dict_left = {}\n",
    "    # CI_dict_right = {}\n",
    "\n",
    "    # range through features\n",
    "    for feat in features:\n",
    "        df1_feat = df1[feat].value_counts()\n",
    "        df2_feat = df2[feat].value_counts()\n",
    "\n",
    "        # merge dfs on the feat column\n",
    "        merged_df = pd.merge(df1_feat, df2_feat, on=feat, suffixes=('_df1', '_df2'))\n",
    "        merged_df['diff'] = merged_df['count_df1']-merged_df['count_df2']\n",
    "        diff_dict[feat] = merged_df['diff'].to_dict()\n",
    "\n",
    "        # # Create a contingency table\n",
    "        # contingency_table = merged_df[['count_df1', 'count_df2']].values\n",
    "        # print(contingency_table)\n",
    "\n",
    "        # # Perform chi-square test\n",
    "        # chi2_stat, p_value, dof, expected = chi2_contingency(contingency_table)\n",
    "\n",
    "        # # Calculate Cramér's V\n",
    "        # n = contingency_table.sum()\n",
    "        # phi2 = chi2_stat/n\n",
    "        # r, k = contingency_table.shape\n",
    "        # cramers_v = np.sqrt(phi2 / min(k-1, r-1))\n",
    "\n",
    "        # # Compute 95% confidence interval for Cramér's V\n",
    "        # alpha = 0.05\n",
    "        # chi2_critical = chi2.ppf(1 - alpha, dof)\n",
    "        # ci_lower = np.sqrt((phi2 - (chi2_critical / (2*n))) / min(k-1, r-1))\n",
    "        # ci_upper = np.sqrt((phi2 + (chi2_critical / (2*n))) / min(k-1, r-1))\n",
    "\n",
    "        # # attach to dictionaries\n",
    "        # chi2_dict[feat] = p_value\n",
    "        # cramer_dict[feat]  = cramers_v\n",
    "        # CI_dict_left[feat] = ci_lower\n",
    "        # CI_dict_right[feat] = ci_upper\n",
    "        \n",
    "    # store results in dataframe\n",
    "    pd.set_option('display.float_format', lambda x: '%.5f' % x)\n",
    "    dataframes = [pd.DataFrame(data, index=['Difference']) for key, data in diff_dict.items()]\n",
    "    cluster_analysis_df = pd.concat(dataframes, axis=1).T\n",
    "    # cluster_analysis_df = pd.DataFrame([diff_dict['Education'], chi2_dict, CI_dict_left, CI_dict_right]).T\n",
    "    # cluster_analysis_df.columns = ['difference','p-value','[0.025','0.975]']\n",
    "    # cluster_analysis_df = cluster_analysis_df.sort_values('p-value',ascending=[True])\n",
    "    # n_rows = cluster_analysis_df.shape[0]\n",
    "\n",
    "    # # Get errors; (coef - lower bound of conf interval)\n",
    "    # cluster_analysis_df['errors'] = cluster_analysis_df['difference'] - cluster_analysis_df['[0.025']\n",
    "    # cluster_analysis_df = cluster_analysis_df.iloc[0:n_rows,]\n",
    "    # cluster_analysis_df['num'] = [int(i) for i in np.linspace(n_rows-1,0,n_rows)]\n",
    "\n",
    "    # cluster_analysis_df = cluster_analysis_df.reset_index()\n",
    "    \n",
    "    # return(cluster_analysis_df)\n",
    "    return(cluster_analysis_df)\n",
    "    # return(diff_dict, chi2_dict, cramer_dict, CI_dict_left, CI_dict_right)"
   ]
  },
  {
   "cell_type": "code",
   "execution_count": 14,
   "metadata": {},
   "outputs": [
    {
     "data": {
      "text/html": [
       "<div>\n",
       "<style scoped>\n",
       "    .dataframe tbody tr th:only-of-type {\n",
       "        vertical-align: middle;\n",
       "    }\n",
       "\n",
       "    .dataframe tbody tr th {\n",
       "        vertical-align: top;\n",
       "    }\n",
       "\n",
       "    .dataframe thead th {\n",
       "        text-align: right;\n",
       "    }\n",
       "</style>\n",
       "<table border=\"1\" class=\"dataframe\">\n",
       "  <thead>\n",
       "    <tr style=\"text-align: right;\">\n",
       "      <th></th>\n",
       "      <th>Difference</th>\n",
       "    </tr>\n",
       "  </thead>\n",
       "  <tbody>\n",
       "    <tr>\n",
       "      <th>HBO</th>\n",
       "      <td>4323</td>\n",
       "    </tr>\n",
       "    <tr>\n",
       "      <th>WO</th>\n",
       "      <td>-3458</td>\n",
       "    </tr>\n",
       "    <tr>\n",
       "      <th>MBO 3-4</th>\n",
       "      <td>326</td>\n",
       "    </tr>\n",
       "    <tr>\n",
       "      <th>MBO 1-2</th>\n",
       "      <td>113</td>\n",
       "    </tr>\n",
       "    <tr>\n",
       "      <th>21-22</th>\n",
       "      <td>6041</td>\n",
       "    </tr>\n",
       "    <tr>\n",
       "      <th>19-20</th>\n",
       "      <td>-3497</td>\n",
       "    </tr>\n",
       "    <tr>\n",
       "      <th>23-24</th>\n",
       "      <td>-1144</td>\n",
       "    </tr>\n",
       "    <tr>\n",
       "      <th>25-50</th>\n",
       "      <td>-80</td>\n",
       "    </tr>\n",
       "    <tr>\n",
       "      <th>15-18</th>\n",
       "      <td>-16</td>\n",
       "    </tr>\n",
       "    <tr>\n",
       "      <th>50-500km</th>\n",
       "      <td>2759</td>\n",
       "    </tr>\n",
       "    <tr>\n",
       "      <th>20-50km</th>\n",
       "      <td>-1023</td>\n",
       "    </tr>\n",
       "    <tr>\n",
       "      <th>Not available</th>\n",
       "      <td>-886</td>\n",
       "    </tr>\n",
       "    <tr>\n",
       "      <th>2-5km</th>\n",
       "      <td>150</td>\n",
       "    </tr>\n",
       "    <tr>\n",
       "      <th>10-20km</th>\n",
       "      <td>118</td>\n",
       "    </tr>\n",
       "    <tr>\n",
       "      <th>5-10km</th>\n",
       "      <td>23</td>\n",
       "    </tr>\n",
       "    <tr>\n",
       "      <th>1-2km</th>\n",
       "      <td>45</td>\n",
       "    </tr>\n",
       "    <tr>\n",
       "      <th>1m-1km</th>\n",
       "      <td>83</td>\n",
       "    </tr>\n",
       "    <tr>\n",
       "      <th>0km</th>\n",
       "      <td>35</td>\n",
       "    </tr>\n",
       "  </tbody>\n",
       "</table>\n",
       "</div>"
      ],
      "text/plain": [
       "               Difference\n",
       "HBO                  4323\n",
       "WO                  -3458\n",
       "MBO 3-4               326\n",
       "MBO 1-2               113\n",
       "21-22                6041\n",
       "19-20               -3497\n",
       "23-24               -1144\n",
       "25-50                 -80\n",
       "15-18                 -16\n",
       "50-500km             2759\n",
       "20-50km             -1023\n",
       "Not available        -886\n",
       "2-5km                 150\n",
       "10-20km               118\n",
       "5-10km                 23\n",
       "1-2km                  45\n",
       "1m-1km                 83\n",
       "0km                    35"
      ]
     },
     "execution_count": 14,
     "metadata": {},
     "output_type": "execute_result"
    }
   ],
   "source": [
    "diff_df = stat_df_cat(df_most_biased_cluster,df_other,features=features)\n",
    "diff_df"
   ]
  },
  {
   "cell_type": "code",
   "execution_count": 15,
   "metadata": {},
   "outputs": [
    {
     "data": {
      "text/plain": [
       "Index(['HBO', 'WO', 'MBO 3-4', 'MBO 1-2', '21-22', '19-20', '23-24', '25-50',\n",
       "       '15-18', '50-500km', '20-50km', 'Not available', '2-5km', '10-20km',\n",
       "       '5-10km', '1-2km', '1m-1km', '0km'],\n",
       "      dtype='object')"
      ]
     },
     "execution_count": 15,
     "metadata": {},
     "output_type": "execute_result"
    }
   ],
   "source": [
    "diff_df.index"
   ]
  },
  {
   "cell_type": "code",
   "execution_count": 16,
   "metadata": {},
   "outputs": [
    {
     "data": {
      "text/plain": [
       "Text(0, 0.5, 'Feature')"
      ]
     },
     "execution_count": 16,
     "metadata": {},
     "output_type": "execute_result"
    },
    {
     "data": {
      "image/png": "[encoded data removed]",
      "text/plain": [
       "<Figure size 1000x700 with 1 Axes>"
      ]
     },
     "metadata": {},
     "output_type": "display_data"
    }
   ],
   "source": [
    "# Create the scatter plot\n",
    "fig, ax = plt.subplots(figsize=(10, 7))\n",
    "ax.scatter(diff_df['Difference'], diff_df.index)\n",
    "\n",
    "# Line to define zero on the x-axis\n",
    "ax.axvline(x=0, linestyle='--', color='black', linewidth=1)\n",
    "\n",
    "# Adding title and labels\n",
    "plt.title('Cluster difference (most biased cluster vs rest of dataset)')\n",
    "plt.xlabel('Difference in frequency\\n(bias with most bias - rest of dataset)')\n",
    "plt.ylabel('Feature')"
   ]
  },
  {
   "cell_type": "markdown",
   "metadata": {},
   "source": [
    "## 4. Analysis of all identified clusters"
   ]
  },
  {
   "cell_type": "code",
   "execution_count": 17,
   "metadata": {},
   "outputs": [],
   "source": [
    "df_cluster1 = df[hbac.labels_ == 1]\n",
    "df_cluster2 = df[hbac.labels_ == 2]\n",
    "df_cluster3 = df[hbac.labels_ == 3]\n",
    "df_cluster4 = df[hbac.labels_ == 4]\n",
    "\n",
    "df_most_biased_cluster['Cluster'] = '0'\n",
    "df_cluster1['Cluster'] = '1'\n",
    "df_cluster2['Cluster'] = '2'\n",
    "df_cluster3['Cluster'] = '3'\n",
    "df_cluster4['Cluster'] = '4'"
   ]
  },
  {
   "cell_type": "code",
   "execution_count": 18,
   "metadata": {},
   "outputs": [
    {
     "data": {
      "text/html": [
       "<div>\n",
       "<style scoped>\n",
       "    .dataframe tbody tr th:only-of-type {\n",
       "        vertical-align: middle;\n",
       "    }\n",
       "\n",
       "    .dataframe tbody tr th {\n",
       "        vertical-align: top;\n",
       "    }\n",
       "\n",
       "    .dataframe thead th {\n",
       "        text-align: right;\n",
       "    }\n",
       "</style>\n",
       "<table border=\"1\" class=\"dataframe\">\n",
       "  <thead>\n",
       "    <tr style=\"text-align: right;\">\n",
       "      <th></th>\n",
       "      <th>Education</th>\n",
       "      <th>Age</th>\n",
       "      <th>Distance</th>\n",
       "      <th>Risk category</th>\n",
       "      <th>Outcome house visit</th>\n",
       "      <th>Outcome appeal</th>\n",
       "      <th>Cluster</th>\n",
       "    </tr>\n",
       "  </thead>\n",
       "  <tbody>\n",
       "    <tr>\n",
       "      <th>0</th>\n",
       "      <td>MBO 3-4</td>\n",
       "      <td>19-20</td>\n",
       "      <td>50-500km</td>\n",
       "      <td>0</td>\n",
       "      <td>Not available</td>\n",
       "      <td>NaN</td>\n",
       "      <td>0</td>\n",
       "    </tr>\n",
       "    <tr>\n",
       "      <th>1</th>\n",
       "      <td>HBO</td>\n",
       "      <td>19-20</td>\n",
       "      <td>50-500km</td>\n",
       "      <td>1</td>\n",
       "      <td>Not available</td>\n",
       "      <td>NaN</td>\n",
       "      <td>0</td>\n",
       "    </tr>\n",
       "    <tr>\n",
       "      <th>2</th>\n",
       "      <td>MBO 3-4</td>\n",
       "      <td>15-18</td>\n",
       "      <td>50-500km</td>\n",
       "      <td>1</td>\n",
       "      <td>Not available</td>\n",
       "      <td>NaN</td>\n",
       "      <td>0</td>\n",
       "    </tr>\n",
       "    <tr>\n",
       "      <th>3</th>\n",
       "      <td>MBO 1-2</td>\n",
       "      <td>15-18</td>\n",
       "      <td>10-20km</td>\n",
       "      <td>0</td>\n",
       "      <td>Not available</td>\n",
       "      <td>NaN</td>\n",
       "      <td>0</td>\n",
       "    </tr>\n",
       "    <tr>\n",
       "      <th>4</th>\n",
       "      <td>WO</td>\n",
       "      <td>21-22</td>\n",
       "      <td>2-5km</td>\n",
       "      <td>0</td>\n",
       "      <td>Not available</td>\n",
       "      <td>NaN</td>\n",
       "      <td>0</td>\n",
       "    </tr>\n",
       "  </tbody>\n",
       "</table>\n",
       "</div>"
      ],
      "text/plain": [
       "  Education    Age  Distance  Risk category Outcome house visit   \n",
       "0   MBO 3-4  19-20  50-500km              0       Not available  \\\n",
       "1       HBO  19-20  50-500km              1       Not available   \n",
       "2   MBO 3-4  15-18  50-500km              1       Not available   \n",
       "3   MBO 1-2  15-18   10-20km              0       Not available   \n",
       "4        WO  21-22     2-5km              0       Not available   \n",
       "\n",
       "  Outcome appeal Cluster  \n",
       "0            NaN       0  \n",
       "1            NaN       0  \n",
       "2            NaN       0  \n",
       "3            NaN       0  \n",
       "4            NaN       0  "
      ]
     },
     "execution_count": 18,
     "metadata": {},
     "output_type": "execute_result"
    }
   ],
   "source": [
    "full_df = pd.concat([df_most_biased_cluster, df_cluster1, df_cluster2, df_cluster3, df_cluster4], ignore_index=True)\n",
    "full_df.head()"
   ]
  },
  {
   "cell_type": "code",
   "execution_count": 20,
   "metadata": {},
   "outputs": [
    {
     "data": {
      "text/plain": [
       "0.47390161472024034"
      ]
     },
     "execution_count": 20,
     "metadata": {},
     "output_type": "execute_result"
    }
   ],
   "source": [
    "df_most_biased_cluster['Risk category'].mean()"
   ]
  },
  {
   "cell_type": "code",
   "execution_count": 21,
   "metadata": {},
   "outputs": [
    {
     "data": {
      "text/plain": [
       "<Axes: ylabel='Cluster'>"
      ]
     },
     "execution_count": 21,
     "metadata": {},
     "output_type": "execute_result"
    },
    {
     "data": {
      "image/png": "[encoded data removed]",
      "text/plain": [
       "<Figure size 640x480 with 1 Axes>"
      ]
     },
     "metadata": {},
     "output_type": "display_data"
    }
   ],
   "source": [
    "full_df.groupby('Cluster')['Education'].value_counts().unstack().plot.barh()"
   ]
  },
  {
   "cell_type": "code",
   "execution_count": 22,
   "metadata": {},
   "outputs": [
    {
     "data": {
      "text/plain": [
       "<Axes: ylabel='Cluster'>"
      ]
     },
     "execution_count": 22,
     "metadata": {},
     "output_type": "execute_result"
    },
    {
     "data": {
      "image/png": "[encoded data removed]",
      "text/plain": [
       "<Figure size 640x480 with 1 Axes>"
      ]
     },
     "metadata": {},
     "output_type": "display_data"
    }
   ],
   "source": [
    "full_df.groupby('Cluster')['Age'].value_counts().unstack().plot.barh()"
   ]
  },
  {
   "cell_type": "code",
   "execution_count": 23,
   "metadata": {},
   "outputs": [
    {
     "data": {
      "text/plain": [
       "<Axes: ylabel='Cluster'>"
      ]
     },
     "execution_count": 23,
     "metadata": {},
     "output_type": "execute_result"
    },
    {
     "data": {
      "image/png": "[encoded data removed]",
      "text/plain": [
       "<Figure size 640x480 with 1 Axes>"
      ]
     },
     "metadata": {},
     "output_type": "display_data"
    }
   ],
   "source": [
    "full_df.groupby('Cluster')['Distance'].value_counts().unstack().plot.barh()"
   ]
  }
 ],
 "metadata": {
  "kernelspec": {
   "display_name": "Python 3 (ipykernel)",
   "language": "python",
   "name": "python3"
  },
  "language_info": {
   "codemirror_mode": {
    "name": "ipython",
    "version": 3
   },
   "file_extension": ".py",
   "mimetype": "text/x-python",
   "name": "python",
   "nbconvert_exporter": "python",
   "pygments_lexer": "ipython3",
   "version": "3.11.4"
  }
 },
 "nbformat": 4,
 "nbformat_minor": 4
}
