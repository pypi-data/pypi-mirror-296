{
 "cells": [
  {
   "cell_type": "code",
   "execution_count": 35,
   "id": "respective-criticism",
   "metadata": {},
   "outputs": [],
   "source": [
    "import datetime as dt"
   ]
  },
  {
   "cell_type": "markdown",
   "id": "early-fisher",
   "metadata": {},
   "source": [
    "3 usos:\n",
    "   1. start sequencial  \n",
    "   2. start specific vector size\n",
    "   3. start specific dict value=start,stop"
   ]
  },
  {
   "cell_type": "code",
   "execution_count": 242,
   "id": "light-nation",
   "metadata": {},
   "outputs": [],
   "source": [
    "class Timers():\n",
    "    def __init__(self, start_now = False, n=1,timers_names=None):\n",
    "        self.timers = dict()\n",
    "        self.__starts = 0 \n",
    "        self.__stops = 0\n",
    "\n",
    "    def __repr__(self):\n",
    "        return f'{self.timers}'\n",
    "        \n",
    "    def create_timer(self,timer_name):\n",
    "        self.timers[timer_name] = Timer()\n",
    "    \n",
    "    def start(self,timer_name=None):\n",
    "        if timer_name == None:\n",
    "            timer_name = self.__starts\n",
    "            self.__starts+=1\n",
    "        \n",
    "        self.create_timer(timer_name)\n",
    "        self.timers[timer_name].start()\n",
    "            \n",
    "    def stop(self,timer_name=None):\n",
    "        if timer_name == None:\n",
    "            timer_name = self.__stops\n",
    "            self.timers[timer_name].stop()\n",
    "            self.__stops+=1\n",
    "            return\n",
    "        else:\n",
    "            self.timers[timer_name].stop()"
   ]
  },
  {
   "cell_type": "code",
   "execution_count": 243,
   "id": "noble-phrase",
   "metadata": {},
   "outputs": [],
   "source": [
    "class Timer():    \n",
    "    def __init__(self, start_now = False):\n",
    "        self.start_time = None\n",
    "        self.stop_time = None\n",
    "        self.duration = None\n",
    "        if start_now:\n",
    "            self.start()\n",
    "            \n",
    "    def __repr__(self):\n",
    "        return f'\\n started: {str(self.start_time)} \\n finished:{str(self.stop_time)} \\n duration:{str(self.duration)}'\n",
    "\n",
    "    def start(self):\n",
    "        if self.start_time==None:\n",
    "            self.start_time = dt.datetime.now()\n",
    "        else:\n",
    "            print('Started at: {}'.format(self.start_time))\n",
    "    \n",
    "    def stop(self):\n",
    "        if self.stop_time==None:\n",
    "            self.stop_time = dt.datetime.now()\n",
    "            self.duration = self.stop_time - self.start_time\n",
    "        else:\n",
    "            print('Stopped at: {}'.format(self.stop_time))\n",
    "            \n",
    "class Timers():\n",
    "    def __init__(self, start_now = False, n=1,timers_names=None):\n",
    "        self.timers = dict()\n",
    "        self.__starts = 0 \n",
    "        self.__stops = 0\n",
    "\n",
    "    def __repr__(self):\n",
    "        return f'{self.timers}'\n",
    "        \n",
    "    def create_timer(self,timer_name):\n",
    "        self.timers[timer_name] = Timer()\n",
    "    \n",
    "    def start(self,timer_name=None):\n",
    "        if timer_name == None:\n",
    "            timer_name = self.__starts\n",
    "            self.__starts+=1\n",
    "        \n",
    "        self.create_timer(timer_name)\n",
    "        self.timers[timer_name].start()\n",
    "            \n",
    "    def stop(self,timer_name=None):\n",
    "        if timer_name == None:\n",
    "            timer_name = self.__stops\n",
    "            self.timers[timer_name].stop()\n",
    "            self.__stops+=1\n",
    "            return\n",
    "        else:\n",
    "            self.timers[timer_name].stop()"
   ]
  },
  {
   "cell_type": "code",
   "execution_count": 244,
   "id": "honey-causing",
   "metadata": {},
   "outputs": [],
   "source": [
    "x = Timers()"
   ]
  },
  {
   "cell_type": "code",
   "execution_count": 266,
   "id": "necessary-supplier",
   "metadata": {},
   "outputs": [],
   "source": [
    "x.start('joao')"
   ]
  },
  {
   "cell_type": "code",
   "execution_count": 269,
   "id": "temporal-flower",
   "metadata": {},
   "outputs": [],
   "source": [
    "x.stop('joao')"
   ]
  },
  {
   "cell_type": "code",
   "execution_count": 270,
   "id": "lightweight-quality",
   "metadata": {},
   "outputs": [
    {
     "data": {
      "text/plain": [
       "{0: \n",
       "  started: 2021-08-14 11:36:33.679035 \n",
       "  finished:2021-08-14 11:36:33.839517 \n",
       "  duration:0:00:00.160482,\n",
       " 1: \n",
       "  started: 2021-08-14 11:36:35.160604 \n",
       "  finished:2021-08-14 11:36:35.302024 \n",
       "  duration:0:00:00.141420,\n",
       " 2: \n",
       "  started: 2021-08-14 11:39:07.166208 \n",
       "  finished:2021-08-14 11:39:07.281527 \n",
       "  duration:0:00:00.115319,\n",
       " 3: \n",
       "  started: 2021-08-14 11:39:13.249849 \n",
       "  finished:2021-08-14 11:39:13.383323 \n",
       "  duration:0:00:00.133474,\n",
       " 4: \n",
       "  started: 2021-08-14 11:39:36.780248 \n",
       "  finished:2021-08-14 11:39:39.837126 \n",
       "  duration:0:00:03.056878,\n",
       " 5: \n",
       "  started: 2021-08-14 11:39:43.595859 \n",
       "  finished:2021-08-14 11:39:44.412913 \n",
       "  duration:0:00:00.817054,\n",
       " 'joao': \n",
       "  started: 2021-08-14 11:39:49.173838 \n",
       "  finished:2021-08-14 11:39:55.103465 \n",
       "  duration:0:00:05.929627}"
      ]
     },
     "execution_count": 270,
     "metadata": {},
     "output_type": "execute_result"
    }
   ],
   "source": [
    "x.timers"
   ]
  },
  {
   "cell_type": "code",
   "execution_count": null,
   "id": "noticed-arrival",
   "metadata": {},
   "outputs": [],
   "source": []
  },
  {
   "cell_type": "code",
   "execution_count": null,
   "id": "successful-message",
   "metadata": {},
   "outputs": [],
   "source": []
  }
 ],
 "metadata": {
  "kernelspec": {
   "display_name": "Python 3",
   "language": "python",
   "name": "python3"
  },
  "language_info": {
   "codemirror_mode": {
    "name": "ipython",
    "version": 3
   },
   "file_extension": ".py",
   "mimetype": "text/x-python",
   "name": "python",
   "nbconvert_exporter": "python",
   "pygments_lexer": "ipython3",
   "version": "3.7.10"
  }
 },
 "nbformat": 4,
 "nbformat_minor": 5
}
