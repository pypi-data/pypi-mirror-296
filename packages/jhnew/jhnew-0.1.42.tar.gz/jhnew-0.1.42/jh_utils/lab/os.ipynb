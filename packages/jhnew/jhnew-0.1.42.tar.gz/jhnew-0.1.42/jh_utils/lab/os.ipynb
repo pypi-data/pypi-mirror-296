{
 "cells": [
  {
   "cell_type": "code",
   "execution_count": 1,
   "id": "indian-enforcement",
   "metadata": {},
   "outputs": [],
   "source": [
    "import os"
   ]
  },
  {
   "cell_type": "code",
   "execution_count": 7,
   "id": "solar-candidate",
   "metadata": {},
   "outputs": [],
   "source": [
    "os.chdir('..')"
   ]
  },
  {
   "cell_type": "code",
   "execution_count": 8,
   "id": "above-fantasy",
   "metadata": {},
   "outputs": [
    {
     "data": {
      "text/plain": [
       "'/home/joaoholz/Documents/code/jh-code/jh_utils'"
      ]
     },
     "execution_count": 8,
     "metadata": {},
     "output_type": "execute_result"
    }
   ],
   "source": [
    "attempted relative import with no known parent package"
   ]
  },
  {
   "cell_type": "code",
   "execution_count": 10,
   "id": "duplicate-bottom",
   "metadata": {},
   "outputs": [
    {
     "data": {
      "text/plain": [
       "['readme.md', '__init__.py', '.gitignore']"
      ]
     },
     "execution_count": 10,
     "metadata": {},
     "output_type": "execute_result"
    }
   ],
   "source": [
    "ls('.',directories=False)"
   ]
  },
  {
   "cell_type": "code",
   "execution_count": 19,
   "id": "frozen-optics",
   "metadata": {},
   "outputs": [
    {
     "data": {
      "text/plain": [
       "0"
      ]
     },
     "execution_count": 19,
     "metadata": {},
     "output_type": "execute_result"
    }
   ],
   "source": [
    "os.system('python __init__.py')"
   ]
  },
  {
   "cell_type": "code",
   "execution_count": 25,
   "id": "unsigned-nowhere",
   "metadata": {},
   "outputs": [
    {
     "ename": "FileNotFoundError",
     "evalue": "[Errno 2] No such file or directory: 'file'",
     "output_type": "error",
     "traceback": [
      "\u001b[0;31m-----------------------------------------------\u001b[0m",
      "\u001b[0;31mFileNotFoundError\u001b[0mTraceback (most recent call last)",
      "\u001b[0;32m<ipython-input-25-b5d495dc2e37>\u001b[0m in \u001b[0;36m<module>\u001b[0;34m\u001b[0m\n\u001b[0;32m----> 1\u001b[0;31m \u001b[0mos\u001b[0m\u001b[0;34m.\u001b[0m\u001b[0mremove\u001b[0m\u001b[0;34m(\u001b[0m\u001b[0;34m'file'\u001b[0m\u001b[0;34m)\u001b[0m\u001b[0;34m\u001b[0m\u001b[0;34m\u001b[0m\u001b[0m\n\u001b[0m\u001b[1;32m      2\u001b[0m \u001b[0mos\u001b[0m\u001b[0;34m.\u001b[0m\u001b[0mrmdir\u001b[0m\u001b[0;34m(\u001b[0m\u001b[0;34m'joao/'\u001b[0m\u001b[0;34m)\u001b[0m\u001b[0;34m\u001b[0m\u001b[0;34m\u001b[0m\u001b[0m\n",
      "\u001b[0;31mFileNotFoundError\u001b[0m: [Errno 2] No such file or directory: 'file'"
     ]
    }
   ],
   "source": [
    "https://www.youtube.com/watch?v=L1Z1EiU2cRs"
   ]
  },
  {
   "cell_type": "code",
   "execution_count": 27,
   "id": "divided-bench",
   "metadata": {},
   "outputs": [
    {
     "data": {
      "text/plain": [
       "'/home/joaoholz/Documents/code/jh-code/jh_utils'"
      ]
     },
     "execution_count": 27,
     "metadata": {},
     "output_type": "execute_result"
    }
   ],
   "source": [
    "os.getcwd()"
   ]
  },
  {
   "cell_type": "code",
   "execution_count": 33,
   "id": "rubber-reservation",
   "metadata": {},
   "outputs": [
    {
     "data": {
      "text/plain": [
       "32512"
      ]
     },
     "execution_count": 33,
     "metadata": {},
     "output_type": "execute_result"
    }
   ],
   "source": [
    "os.system('* * * * * python __init__.py')"
   ]
  },
  {
   "cell_type": "code",
   "execution_count": 1,
   "id": "smaller-fault",
   "metadata": {},
   "outputs": [],
   "source": [
    "from jh_utils.utils.os import bash"
   ]
  },
  {
   "cell_type": "code",
   "execution_count": 4,
   "id": "rotary-interstate",
   "metadata": {},
   "outputs": [],
   "source": [
    "import os"
   ]
  },
  {
   "cell_type": "code",
   "execution_count": 5,
   "id": "unusual-nelson",
   "metadata": {},
   "outputs": [
    {
     "data": {
      "text/plain": [
       "0"
      ]
     },
     "execution_count": 5,
     "metadata": {},
     "output_type": "execute_result"
    }
   ],
   "source": [
    "os.system('pip install jh_utils')"
   ]
  },
  {
   "cell_type": "code",
   "execution_count": 7,
   "id": "speaking-lawyer",
   "metadata": {},
   "outputs": [
    {
     "data": {
      "text/plain": [
       "512"
      ]
     },
     "execution_count": 7,
     "metadata": {},
     "output_type": "execute_result"
    }
   ],
   "source": [
    "os.system('pip uninstall jh_utils')"
   ]
  },
  {
   "cell_type": "code",
   "execution_count": 1,
   "id": "polar-companion",
   "metadata": {},
   "outputs": [],
   "source": [
    "from jh_utils.data.sql.manipulate_db import apply_delete_to_schema"
   ]
  },
  {
   "cell_type": "code",
   "execution_count": null,
   "id": "wrong-processing",
   "metadata": {},
   "outputs": [],
   "source": []
  }
 ],
 "metadata": {
  "kernelspec": {
   "display_name": "Python 3",
   "language": "python",
   "name": "python3"
  },
  "language_info": {
   "codemirror_mode": {
    "name": "ipython",
    "version": 3
   },
   "file_extension": ".py",
   "mimetype": "text/x-python",
   "name": "python",
   "nbconvert_exporter": "python",
   "pygments_lexer": "ipython3",
   "version": "3.7.10"
  }
 },
 "nbformat": 4,
 "nbformat_minor": 5
}
