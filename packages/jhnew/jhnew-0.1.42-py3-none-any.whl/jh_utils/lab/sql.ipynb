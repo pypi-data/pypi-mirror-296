{
 "cells": [
  {
   "cell_type": "code",
   "execution_count": 3,
   "id": "blond-choice",
   "metadata": {},
   "outputs": [],
   "source": [
    "from jh_utils.data.sql.connection import create_connection, create_string_connection"
   ]
  },
  {
   "cell_type": "code",
   "execution_count": 2,
   "id": "tutorial-petite",
   "metadata": {},
   "outputs": [],
   "source": [
    "import sqlalchemy as sa"
   ]
  },
  {
   "cell_type": "code",
   "execution_count": 7,
   "id": "unnecessary-retirement",
   "metadata": {},
   "outputs": [],
   "source": [
    "from dotenv import dotenv_values\n",
    "env = dotenv_values('.env')"
   ]
  },
  {
   "cell_type": "code",
   "execution_count": 8,
   "id": "natural-expansion",
   "metadata": {},
   "outputs": [],
   "source": [
    "engine = create_connection(database=env['dbname03'],\n",
    "                           host=env['dbhost'],\n",
    "                           password=env['dbpass'],\n",
    "                           user=env['dbuser'],\n",
    "                           port=env['dbport'])"
   ]
  },
  {
   "cell_type": "code",
   "execution_count": 11,
   "id": "false-somalia",
   "metadata": {},
   "outputs": [
    {
     "ename": "NameError",
     "evalue": "name 'create_string_connection' is not defined",
     "output_type": "error",
     "traceback": [
      "\u001b[0;31m---------------------------------------------------------------------------\u001b[0m",
      "\u001b[0;31mNameError\u001b[0m                                 Traceback (most recent call last)",
      "\u001b[0;32m<ipython-input-11-72e482879ddd>\u001b[0m in \u001b[0;36m<module>\u001b[0;34m\u001b[0m\n\u001b[0;32m----> 1\u001b[0;31m engine_string = create_string_connection(database=env['dbname03'],\n\u001b[0m\u001b[1;32m      2\u001b[0m                            \u001b[0mhost\u001b[0m\u001b[0;34m=\u001b[0m\u001b[0menv\u001b[0m\u001b[0;34m[\u001b[0m\u001b[0;34m'dbhost'\u001b[0m\u001b[0;34m]\u001b[0m\u001b[0;34m,\u001b[0m\u001b[0;34m\u001b[0m\u001b[0;34m\u001b[0m\u001b[0m\n\u001b[1;32m      3\u001b[0m                            \u001b[0mpassword\u001b[0m\u001b[0;34m=\u001b[0m\u001b[0menv\u001b[0m\u001b[0;34m[\u001b[0m\u001b[0;34m'dbpass'\u001b[0m\u001b[0;34m]\u001b[0m\u001b[0;34m,\u001b[0m\u001b[0;34m\u001b[0m\u001b[0;34m\u001b[0m\u001b[0m\n\u001b[1;32m      4\u001b[0m                            \u001b[0muser\u001b[0m\u001b[0;34m=\u001b[0m\u001b[0menv\u001b[0m\u001b[0;34m[\u001b[0m\u001b[0;34m'dbuser'\u001b[0m\u001b[0;34m]\u001b[0m\u001b[0;34m,\u001b[0m\u001b[0;34m\u001b[0m\u001b[0;34m\u001b[0m\u001b[0m\n\u001b[1;32m      5\u001b[0m                            port=env['dbport'])\n",
      "\u001b[0;31mNameError\u001b[0m: name 'create_string_connection' is not defined"
     ]
    }
   ],
   "source": [
    "engine_string = create_string_connection(database=env['dbname03'],\n",
    "                           host=env['dbhost'],\n",
    "                           password=env['dbpass'],\n",
    "                           user=env['dbuser'],\n",
    "                           port=env['dbport'])"
   ]
  },
  {
   "cell_type": "code",
   "execution_count": 9,
   "id": "excess-circle",
   "metadata": {},
   "outputs": [],
   "source": [
    "inp = sa.inspect(engine)"
   ]
  },
  {
   "cell_type": "code",
   "execution_count": null,
   "id": "backed-airplane",
   "metadata": {},
   "outputs": [],
   "source": [
    "inp.get_table_names('datasets')"
   ]
  },
  {
   "cell_type": "code",
   "execution_count": 21,
   "id": "female-lightning",
   "metadata": {},
   "outputs": [],
   "source": []
  },
  {
   "cell_type": "code",
   "execution_count": null,
   "id": "fossil-killer",
   "metadata": {},
   "outputs": [],
   "source": []
  }
 ],
 "metadata": {
  "kernelspec": {
   "display_name": "Python 3",
   "language": "python",
   "name": "python3"
  },
  "language_info": {
   "codemirror_mode": {
    "name": "ipython",
    "version": 3
   },
   "file_extension": ".py",
   "mimetype": "text/x-python",
   "name": "python",
   "nbconvert_exporter": "python",
   "pygments_lexer": "ipython3",
   "version": "3.7.10"
  }
 },
 "nbformat": 4,
 "nbformat_minor": 5
}
