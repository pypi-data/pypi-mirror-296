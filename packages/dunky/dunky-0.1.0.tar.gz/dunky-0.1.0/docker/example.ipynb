{
 "cells": [
  {
   "cell_type": "code",
   "execution_count": null,
   "id": "dc570838-c4d7-47cd-be67-cd04120ac8b7",
   "metadata": {},
   "outputs": [],
   "source": [
    "import duckdb"
   ]
  },
  {
   "cell_type": "code",
   "execution_count": null,
   "id": "1eb6170c-ce50-41b3-9d3d-1ff9a6f1d3f7",
   "metadata": {},
   "outputs": [],
   "source": [
    "duckdb.sql(f\"\"\"\n",
    "INSTALL uc_catalog from core_nightly;\n",
    "INSTALL delta from core;\n",
    "LOAD delta;\n",
    "LOAD uc_catalog;\n",
    "CREATE SECRET (\n",
    "\tTYPE UC,\n",
    "\tTOKEN 'not-used',\n",
    "\tENDPOINT 'http://uc:8080',\n",
    "\tAWS_REGION 'not-used'\n",
    ");\n",
    "\"\"\")"
   ]
  },
  {
   "cell_type": "code",
   "execution_count": null,
   "id": "dd5151be-bae2-4ff4-bef4-ea144604ee56",
   "metadata": {},
   "outputs": [],
   "source": [
    "duckdb.sql(\"ATTACH DATABASE 'unity' as unity (TYPE UC_CATALOG);\")"
   ]
  },
  {
   "cell_type": "code",
   "execution_count": null,
   "id": "569996bd-8ace-4168-acdd-f266411beb7b",
   "metadata": {},
   "outputs": [],
   "source": [
    "duckdb.sql(\"SELECT * FROM unity.default.numbers\")"
   ]
  },
  {
   "cell_type": "code",
   "execution_count": null,
   "id": "16772c40-6c59-4e53-aa24-c9bbb0fa731a",
   "metadata": {},
   "outputs": [],
   "source": []
  }
 ],
 "metadata": {
  "kernelspec": {
   "display_name": "Python 3 (ipykernel)",
   "language": "python",
   "name": "python3"
  },
  "language_info": {
   "codemirror_mode": {
    "name": "ipython",
    "version": 3
   },
   "file_extension": ".py",
   "mimetype": "text/x-python",
   "name": "python",
   "nbconvert_exporter": "python",
   "pygments_lexer": "ipython3",
   "version": "3.11.9"
  }
 },
 "nbformat": 4,
 "nbformat_minor": 5
}
