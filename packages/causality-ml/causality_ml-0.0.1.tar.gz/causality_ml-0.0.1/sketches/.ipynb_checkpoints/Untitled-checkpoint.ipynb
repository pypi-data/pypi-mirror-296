{
 "cells": [
  {
   "cell_type": "code",
   "execution_count": 7,
   "id": "e1ccd482",
   "metadata": {},
   "outputs": [],
   "source": [
    "import pandas as pd\n",
    "import numpy as np\n",
    "import time\n",
    "\n",
    "df = pd.DataFrame(np.random.normal(0, 1, size=100).reshape(10, 10))\n",
    "treatment = np.random.normal(0, 1, size=10)"
   ]
  },
  {
   "cell_type": "code",
   "execution_count": 4,
   "id": "058c5a50",
   "metadata": {},
   "outputs": [
    {
     "name": "stdout",
     "output_type": "stream",
     "text": [
      "43.1 ns ± 0.21 ns per loop (mean ± std. dev. of 7 runs, 10,000,000 loops each)\n"
     ]
    }
   ],
   "source": [
    "%timeit df.assign"
   ]
  },
  {
   "cell_type": "code",
   "execution_count": 19,
   "id": "e3eac343",
   "metadata": {},
   "outputs": [
    {
     "name": "stdout",
     "output_type": "stream",
     "text": [
      "26.6 ns ± 0.209 ns per loop (mean ± std. dev. of 7 runs, 10,000,000 loops each)\n"
     ]
    }
   ],
   "source": [
    "%timeit np.append"
   ]
  },
  {
   "cell_type": "code",
   "execution_count": 9,
   "id": "713af5d8",
   "metadata": {},
   "outputs": [
    {
     "name": "stdout",
     "output_type": "stream",
     "text": [
      "0.00011773276329040528 0.00013645231176913705\n"
     ]
    }
   ],
   "source": [
    "times = []\n",
    "for _ in range(1000):\n",
    "    start = time.time()\n",
    "    df.assign(**{\"treatment\": treatment})\n",
    "    times.append(time.time() - start)\n",
    "print(np.mean(times), np.std(times))\n",
    "    "
   ]
  },
  {
   "cell_type": "code",
   "execution_count": 18,
   "id": "a878cfdd",
   "metadata": {},
   "outputs": [
    {
     "name": "stdout",
     "output_type": "stream",
     "text": [
      "4.015684127807617e-06 1.7900025437425632e-05\n"
     ]
    }
   ],
   "source": [
    "times = []\n",
    "mat = df.values\n",
    "for _ in range(1000):\n",
    "    start = time.time()\n",
    "    np.append(mat, treatment)\n",
    "    times.append(time.time() - start)\n",
    "print(np.mean(times), np.std(times))\n"
   ]
  },
  {
   "cell_type": "code",
   "execution_count": null,
   "id": "54d40949",
   "metadata": {},
   "outputs": [],
   "source": []
  }
 ],
 "metadata": {
  "kernelspec": {
   "display_name": "Python 3 (ipykernel)",
   "language": "python",
   "name": "python3"
  },
  "language_info": {
   "codemirror_mode": {
    "name": "ipython",
    "version": 3
   },
   "file_extension": ".py",
   "mimetype": "text/x-python",
   "name": "python",
   "nbconvert_exporter": "python",
   "pygments_lexer": "ipython3",
   "version": "3.10.8"
  }
 },
 "nbformat": 4,
 "nbformat_minor": 5
}
