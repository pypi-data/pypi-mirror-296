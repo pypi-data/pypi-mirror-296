{
  "cells": [
    {
      "cell_type": "markdown",
      "metadata": {},
      "source": [
        "\n# Flow Cytometry Simulation and 2D Density Plot of Scattering Intensities\n\nThis example demonstrates how to simulate a flow cytometer using the FlowCyPy library, analyze the pulse\nsignals from two detectors, and plot a 2D density plot of the scattering intensities.\n\nFlow cytometry is a technique used to analyze the physical and chemical properties of particles as they flow\nthrough a laser beam. This script simulates the behavior of particles in a flow, models the light scattering\ndetected by two detectors, and visualizes the scattering intensity data in a 2D hexbin plot.\n\n## Steps in the Script:\n1. Define the flow parameters (e.g., speed, area, scatterer density).\n2. Create a particle size distribution.\n3. Set up a laser source and detectors.\n4. Simulate the flow cytometry experiment.\n5. Analyze the pulse signals from both detectors.\n6. Plot a 2D density plot of the scattering intensities from the two detectors.\n"
      ]
    },
    {
      "cell_type": "code",
      "execution_count": null,
      "metadata": {
        "collapsed": false
      },
      "outputs": [],
      "source": [
        "# Import necessary libraries and modules\nfrom FlowCyPy import FlowCytometer, ScattererDistribution, Analyzer, Detector, Source, FlowCell, Plotter\nfrom FlowCyPy.distribution import NormalDistribution\nfrom FlowCyPy.peak_detector import MovingAveragePeakDetector\nimport numpy as np\n\n# Set random seed for reproducibility\nnp.random.seed(20)\n\n# Step 1: Define the Flow Parameters\nflow = FlowCell(\n    flow_speed=8e-6,           # Flow speed: 8 micrometers per second\n    flow_area=1e-6,            # Flow area: 1 square micrometer\n    total_time=8.0,            # Total simulation time: 8 seconds\n    scatterer_density=1e13     # Particle density: 1e12 particles per cubic meter\n)\n\n# Step 2: Define Particle Size Distributions (Two Normal Distributions)\nsize_distribution_0 = NormalDistribution(\n    scale_factor=10,\n    mean=3e-6,                 # Mean particle size: 3 micrometers\n    std_dev=0.5e-6             # Standard deviation of particle size: 0.5 micrometer\n)\n\nsize_distribution_1 = NormalDistribution(\n    scale_factor=1,\n    mean=30e-6,                # Mean particle size: 30 micrometers\n    std_dev=3e-6               # Standard deviation of particle size: 1 micrometer\n)\n\nrefractive_index_distribution = NormalDistribution(\n    scale_factor=1,\n    mean=1.5,\n    std_dev=0.1\n)\n\nscatterer_distribution = ScattererDistribution(\n    flow=flow,\n    refractive_index=[refractive_index_distribution],      # Refractive index of the particles\n    size=[size_distribution_0, size_distribution_1]  # List of distributions for different scatterer populations\n)"
      ]
    },
    {
      "cell_type": "code",
      "execution_count": null,
      "metadata": {
        "collapsed": false
      },
      "outputs": [],
      "source": [
        "scatterer_distribution.plot()\n\nscatterer_distribution.print_properties()"
      ]
    }
  ],
  "metadata": {
    "kernelspec": {
      "display_name": "Python 3",
      "language": "python",
      "name": "python3"
    },
    "language_info": {
      "codemirror_mode": {
        "name": "ipython",
        "version": 3
      },
      "file_extension": ".py",
      "mimetype": "text/x-python",
      "name": "python",
      "nbconvert_exporter": "python",
      "pygments_lexer": "ipython3",
      "version": "3.11.0"
    }
  },
  "nbformat": 4,
  "nbformat_minor": 0
}