{
  "cells": [
    {
      "cell_type": "markdown",
      "metadata": {},
      "source": [
        "\n# Simulating Flow Cytometer Signals with Rayleigh Scattering\n\nThis example demonstrates how to simulate signals from a flow cytometer using\nthe `FlowCytometer` class in combination with two detectors: Forward Scatter (FSC) and Side Scatter (SSC).\n\nFlow cytometers generate signals (e.g., forward scatter and side scatter) when\nparticles pass through a laser beam. These signals provide valuable information about\nthe size, complexity, and other properties of the particles passing through the flow.\n\nIn this simulation, we use Rayleigh scattering to model how particles interact with\nthe laser beam. We simulate particles with a uniform size distribution and analyze\ntheir scattering properties.\n"
      ]
    },
    {
      "cell_type": "code",
      "execution_count": null,
      "metadata": {
        "collapsed": false
      },
      "outputs": [],
      "source": [
        "# Step 1: Import the necessary libraries\n# --------------------------------------\nfrom FlowCyPy import FlowCytometer, ScattererDistribution, Detector, Source, FlowCell\nfrom FlowCyPy.distribution import NormalDistribution\n\n# Example usage of the Flow class\nflow = FlowCell(\n    flow_speed=80e-6,  # 80 micrometers per second\n    flow_area=1e-6,  # 1 square micrometer\n    total_time=1.0,  # 1 second of flow\n    scatterer_density=5e11  # 1e12 particles per cubic meter\n)\n\nflow.print_properties()\n\n# Step 2: Define the particle size distribution\n# ---------------------------------------------\n# In this case, we're using a uniform particle size distribution. Particles are modeled\n# with a refractive index of 1.5, a mean size of 1 \u00b5m, and a standard deviation of 0.1 \u00b5m.\n# The total particle density is 4 x 10^10 particles per cubic meter."
      ]
    },
    {
      "cell_type": "code",
      "execution_count": null,
      "metadata": {
        "collapsed": false
      },
      "outputs": [],
      "source": [
        "size_distribution = NormalDistribution(\n    mean=10e-6,         # Mean particle size: 10 \u00b5m\n    std_dev=0.8e-8,     # Standard deviation of particle size: 0.8 \u00b5m\n)\n\nrefractive_index_distribution = NormalDistribution(\n    scale_factor=1,\n    mean=1.5,\n    std_dev=0.1\n)\n\n\nscatterer_distribution = ScattererDistribution(\n    flow=flow,\n    refractive_index=[refractive_index_distribution],         # Refractive index of the particles\n    size=[size_distribution]  # Normal distribution of particle sizes\n)"
      ]
    },
    {
      "cell_type": "code",
      "execution_count": null,
      "metadata": {
        "collapsed": false
      },
      "outputs": [],
      "source": [
        "scatterer_distribution.plot()\n\nscatterer_distribution.print_properties()\n\n# Step 3: Define the light source\n# -------------------------------\n# The light source used for the simulation is a laser with a wavelength of 1550 nm\n# and an optical power of 1 mW. The laser's focusing optics are characterized by a\n# numerical aperture (NA) of 0.4.\nsource = Source(\n    NA=0.4,                       # Numerical aperture of the source\n    wavelength=1550e-9,           # Wavelength of the laser source: 1550 nm\n    optical_power=20e-3            # Optical power of the laser: 2 mW\n)\n\n# Step 4: Define two detectors\n# ----------------------------\n# The first detector (FSC) is for Forward Scatter, and the second detector (SSC) is for\n# Side Scatter. Each detector has different numerical apertures and settings. These detectors\n# will capture the light scattered by the particles.\ndetector_fsc = Detector(\n    name='FSC',                   # Forward Scatter (FSC) detector\n    NA=0.2,                       # Numerical aperture of the detector\n    phi_angle=180,              # Angle relative to the light beam\n    acquisition_frequency=1e3,    # Acquisition frequency: 1000 Hz\n    noise_level=1e-3,             # Noise floor of 0.0001 volt\n    saturation_level=10,          # Maximum signal before saturation\n    baseline_shift=0.0,           # No baseline shift\n    n_bins=512,                   # Number of bins for signal discretization\n    responsitivity=1              # Responsitivity of the detector\n)\n\ndetector_ssc = Detector(\n    name='SSC',                   # Side Scatter (SSC) detector\n    NA=0.2,                       # Numerical aperture of the SSC detector\n    phi_angle=90,               # Positioned at 90 degrees to detect side scatter\n    acquisition_frequency=1e3,    # Acquisition frequency: 1000 Hz\n    noise_level=1e-3,             # Noise floor of 0.0001 volt\n    saturation_level=10,          # Maximum signal before saturation\n    baseline_shift=0.0,           # No baseline shift\n    n_bins=1024,                  # Fewer bins for lower resolution\n    responsitivity=1              # Responsitivity of the detector\n)\n\n# Step 5: Create a FlowCytometer instance\n# ---------------------------------------\n# We define a flow cytometer setup where particles pass through the laser beam at a flow speed of\n# 80 \u00b5m/s and in a flow area of 1 \u00b5m\u00b2. The source, detectors, and particle distribution are passed\n# to the FlowCytometer instance. Rayleigh scattering is used as the coupling mechanism to model\n# how the particles interact with the laser beam.\ncytometer = FlowCytometer(\n    source=source,  # Laser source\n    scatterer_distribution=scatterer_distribution,  # Particle size distribution\n    detectors=[detector_fsc, detector_ssc],  # List of detectors (FSC and SSC)\n    coupling_mechanism='mie'  # Mie [PyMieSim] scattering model\n)\n\n# Step 6: Simulate the flow cytometer signals\n# -------------------------------------------\n# The signals generated by the flow cytometer for both detectors (FSC and SSC) are\n# simulated as particles pass through the laser beam.\ncytometer.simulate_pulse()\n\n\n# Step 7: Display the properties of the simulation\n# ------------------------------------------------\n# Print the properties of the cytometer, including the source power, particle density,\n# and flow speed, to understand the simulation setup better.\ncytometer.print_properties()\n\n# Step 8: Visualize the generated signals\n# ---------------------------------------\n# Plot the simulated signals for both Forward Scatter (FSC) and Side Scatter (SSC) detectors."
      ]
    },
    {
      "cell_type": "code",
      "execution_count": null,
      "metadata": {
        "collapsed": false
      },
      "outputs": [],
      "source": [
        "cytometer.plot()\n\n# #############################################################################\n# The above plot shows the raw simulated signals for the Forward Scatter (FSC) and\n# Side Scatter (SSC) channels. These signals can be analyzed further to extract\n# features such as peak height, width, and area. Such analyses provide insights\n# into the properties of the particles, such as size and shape complexity.\n\n# This simulation can serve as a basis for developing and testing signal processing\n# algorithms in flow cytometry."
      ]
    }
  ],
  "metadata": {
    "kernelspec": {
      "display_name": "Python 3",
      "language": "python",
      "name": "python3"
    },
    "language_info": {
      "codemirror_mode": {
        "name": "ipython",
        "version": 3
      },
      "file_extension": ".py",
      "mimetype": "text/x-python",
      "name": "python",
      "nbconvert_exporter": "python",
      "pygments_lexer": "ipython3",
      "version": "3.11.0"
    }
  },
  "nbformat": 4,
  "nbformat_minor": 0
}