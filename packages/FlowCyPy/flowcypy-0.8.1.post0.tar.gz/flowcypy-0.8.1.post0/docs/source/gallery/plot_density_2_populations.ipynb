{
  "cells": [
    {
      "cell_type": "markdown",
      "metadata": {},
      "source": [
        "\n# Flow Cytometry Simulation and 2D Density Plot of Scattering Intensities\n\nThis example demonstrates how to simulate a flow cytometer using the FlowCyPy library, analyze the pulse\nsignals from two detectors, and plot a 2D density plot of the scattering intensities.\n\nFlow cytometry is a technique used to analyze the physical and chemical properties of particles as they flow\nthrough a laser beam. This script simulates the behavior of particles in a flow, models the light scattering\ndetected by two detectors, and visualizes the scattering intensity data in a 2D hexbin plot.\n\n## Steps in the Script:\n1. Define the flow parameters (e.g., speed, area, scatterer density).\n2. Create a particle size distribution.\n3. Set up a laser source and detectors.\n4. Simulate the flow cytometry experiment.\n5. Analyze the pulse signals from both detectors.\n6. Plot a 2D density plot of the scattering intensities from the two detectors.\n"
      ]
    },
    {
      "cell_type": "code",
      "execution_count": null,
      "metadata": {
        "collapsed": false
      },
      "outputs": [],
      "source": [
        "# Import necessary libraries and modules\nfrom FlowCyPy import FlowCytometer, ScattererDistribution, Analyzer, Detector, Source, FlowCell, Plotter\nfrom FlowCyPy.distribution import NormalDistribution\nfrom FlowCyPy.peak_detector import MovingAveragePeakDetector\nimport numpy as np\n\n# Set random seed for reproducibility\nnp.random.seed(20)\n\n# Step 1: Define the Flow Parameters\nflow = FlowCell(\n    flow_speed=8e-6,           # Flow speed: 8 micrometers per second\n    flow_area=1e-6,            # Flow area: 1 square micrometer\n    total_time=8.0,            # Total simulation time: 8 seconds\n    scatterer_density=1e12     # Particle density: 1e12 particles per cubic meter\n)"
      ]
    },
    {
      "cell_type": "markdown",
      "metadata": {},
      "source": [
        "Step 2: Define Particle Size Distributions (Two Normal Distributions)\n\n"
      ]
    },
    {
      "cell_type": "code",
      "execution_count": null,
      "metadata": {
        "collapsed": false
      },
      "outputs": [],
      "source": [
        "size_distribution_0 = NormalDistribution(\n    scale_factor=10,\n    mean=3e-6,                 # Mean particle size: 3 micrometers\n    std_dev=0.5e-6             # Standard deviation of particle size: 0.5 micrometer\n)\n\nsize_distribution_1 = NormalDistribution(\n    scale_factor=1,\n    mean=30e-6,                # Mean particle size: 30 micrometers\n    std_dev=3e-6               # Standard deviation of particle size: 1 micrometer\n)\n\nri_distribution_1 = NormalDistribution(\n    scale_factor=1,\n    mean=1.5,                # Mean particle size: 30 micrometers\n    std_dev=0.05               # Standard deviation of particle size: 1 micrometer\n)\n\nscatterer_distribution = ScattererDistribution(\n    flow=flow,\n    refractive_index=[ri_distribution_1],      # Refractive index of the particles\n    size=[size_distribution_0, size_distribution_1]  # List of distributions for different scatterer populations\n)\n\nscatterer_distribution.plot()\n\n\n# Step 3: Set up the Laser Source\nsource = Source(\n    NA=1.8,                    # Numerical aperture of the laser optics\n    wavelength=800e-9,         # Laser wavelength: 800 nm\n    optical_power=200e-3        # Laser optical power: 200 milliwatt\n)\n\n# Step 4: Set up Detectors (Two Detectors at Different Angles)\ndetector_0 = Detector(\n    phi_angle=90,            # Angle: 90 degrees (Side Scatter)\n    NA=0.1,                    # Numerical aperture of the detector optics\n    name='Side',               # Name of the detector\n    responsitivity=1,          # Responsitivity of the detector\n    acquisition_frequency=1e4, # Sampling frequency: 10,000 Hz\n    noise_level=0e-2,          # No noise\n    baseline_shift=0.00,       # No baseline shift\n    saturation_level=30,       # No signal saturation\n    n_bins=1024                # Discretization bins\n)\n\ndetector_1 = Detector(\n    phi_angle=180,           # Angle: 180 degrees (Forward Scatter)\n    NA=0.1,                    # Numerical aperture of the detector optics\n    name='Front',              # Name of the detector\n    responsitivity=1,          # Responsitivity of the detector\n    acquisition_frequency=1e4, # Sampling frequency: 10,000 Hz\n    noise_level=0e-2,          # No noise\n    baseline_shift=0.00,       # No baseline shift\n    saturation_level=30,       # No signal saturation\n    n_bins=1024                # Discretization bins\n)\n\n# Step 5: Simulate the Flow Cytometry Experiment\ncytometer = FlowCytometer(\n    coupling_mechanism='mie',   # Use Mie scattering for particle simulation\n    source=source,              # Laser source\n    scatterer_distribution=scatterer_distribution,  # Particle size distribution\n    detectors=[detector_0, detector_1]  # Two detectors in the setup\n)\n\n# Run the simulation to generate the scattering signals\ncytometer.simulate_pulse()"
      ]
    },
    {
      "cell_type": "markdown",
      "metadata": {},
      "source": [
        "Plot the scattering signals for both detectors\n\n"
      ]
    },
    {
      "cell_type": "code",
      "execution_count": null,
      "metadata": {
        "collapsed": false
      },
      "outputs": [],
      "source": [
        "cytometer.plot()\n\n# Step 6: Analyze the Pulse Signals\nanalyzer = Analyzer(detector_0, detector_1, algorithm=MovingAveragePeakDetector())\n\n# Analyze and extract data from both detectors\nanalyzer.run_analysis(\n    compute_peak_area=False,   # Set whether to compute peak area\n)\nanalyzer.plot()\n# Get coincidence data from the two detectors\ndatasets = analyzer.get_coincidence_dataset(coincidence_margin=0.01)\n\n# Step 7: Plot the 2D Density of Scattering Intensities\nplotter = Plotter(\n    dataset_0=datasets[0],  # Processed data from the first detector\n    dataset_1=datasets[1],  # Processed data from the second detector\n)"
      ]
    },
    {
      "cell_type": "markdown",
      "metadata": {},
      "source": [
        "Plot the 2D density plot\n\n"
      ]
    },
    {
      "cell_type": "code",
      "execution_count": null,
      "metadata": {
        "collapsed": false
      },
      "outputs": [],
      "source": [
        "plotter.plot()"
      ]
    }
  ],
  "metadata": {
    "kernelspec": {
      "display_name": "Python 3",
      "language": "python",
      "name": "python3"
    },
    "language_info": {
      "codemirror_mode": {
        "name": "ipython",
        "version": 3
      },
      "file_extension": ".py",
      "mimetype": "text/x-python",
      "name": "python",
      "nbconvert_exporter": "python",
      "pygments_lexer": "ipython3",
      "version": "3.11.0"
    }
  },
  "nbformat": 4,
  "nbformat_minor": 0
}