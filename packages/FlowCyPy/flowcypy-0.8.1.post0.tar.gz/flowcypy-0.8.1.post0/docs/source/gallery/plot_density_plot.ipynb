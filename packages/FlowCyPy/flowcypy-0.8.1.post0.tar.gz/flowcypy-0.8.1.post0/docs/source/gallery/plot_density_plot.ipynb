{
  "cells": [
    {
      "cell_type": "markdown",
      "metadata": {},
      "source": [
        "\n# Flow Cytometry Simulation and 2D Density Plot of Scattering Intensities\n\nThis example demonstrates how to simulate a flow cytometer using the FlowCyPy library, analyze the pulse\nsignals from two detectors, and plot a 2D density plot of the scattering intensities.\n\nFlow cytometry is a technique used to analyze the physical and chemical properties of particles as they flow\nthrough a laser beam. This script simulates the behavior of particles in a flow, models the light scattering\ndetected by two detectors, and visualizes the scattering intensity data in a 2D hexbin plot.\n\n## Steps in the Script:\n1. Define the flow parameters (e.g., speed, area, scatterer density).\n2. Create a particle size distribution.\n3. Set up a laser source and detectors.\n4. Simulate the flow cytometry experiment.\n5. Analyze the pulse signals from both detectors.\n6. Plot a 2D density plot of the scattering intensities from the two detectors.\n"
      ]
    },
    {
      "cell_type": "code",
      "execution_count": null,
      "metadata": {
        "collapsed": false
      },
      "outputs": [],
      "source": [
        "# Import necessary libraries and modules\nfrom FlowCyPy import FlowCytometer, ScattererDistribution, Analyzer, Detector, Source, FlowCell, Plotter\nfrom FlowCyPy.distribution import NormalDistribution\nfrom FlowCyPy.peak_detector import BasicPeakDetector\n\n# Step 1: Define the Flow Parameters\nflow = FlowCell(\n    flow_speed=8e-6,         # 80 micrometers per second\n    flow_area=1e-6,          # 1 square micrometer\n    total_time=180.0,        # Total simulation time of 40 seconds\n    scatterer_density=1e11   # Scatterer density of 1e11 particles per cubic meter\n)\n\nsize_distribution = NormalDistribution(\n    mean=10e-6,         # Mean particle size: 10 \u00b5m\n    std_dev=0.8e-8,     # Standard deviation of particle size: 0.8 \u00b5m\n)\n\n\nrefractive_index_distribution = NormalDistribution(\n    mean=1.4,         # Mean particle size: 10 \u00b5m\n    std_dev=0.1,     # Standard deviation of particle size: 0.8 \u00b5m\n)"
      ]
    },
    {
      "cell_type": "markdown",
      "metadata": {},
      "source": [
        "Step 2: Define the Scatterer Distribution (Normal Distribution of Particle Sizes)\n\n"
      ]
    },
    {
      "cell_type": "code",
      "execution_count": null,
      "metadata": {
        "collapsed": false
      },
      "outputs": [],
      "source": [
        "scatterer_distribution = ScattererDistribution(\n    flow=flow,\n    refractive_index=[refractive_index_distribution],  # Refractive index of the particles\n    size=[size_distribution]   # Normal distribution for particle sizes\n)\n\nscatterer_distribution.plot()\n\n# Step 3: Set up the Laser Source\nsource = Source(\n    NA=0.3,                      # Numerical aperture of the focusing optics\n    wavelength=1550e-9,          # Wavelength of the laser source: 1550 nm\n    optical_power=200e-3,        # Optical power of the laser source: 200 milliwatt\n)\n\n# Step 4: Set up Detectors\ndetector_0 = Detector(\n    phi_angle=90,              # Angle of the detector relative to the incident light beam\n    NA=0.4,                      # Numerical aperture of the detector optics\n    name='Side',                  # Name or identifier for this detector\n    responsitivity=1,            # Responsitivity of the detector (efficiency)\n    acquisition_frequency=1e4,   # Sampling frequency: 10,000 Hz\n    noise_level=0e-2,            # Signal noise level: 1 millivolt\n    baseline_shift=0.00,         # Baseline shift of the detector output\n    saturation_level=1e30,       # Saturation level of the detector signal\n    n_bins=1024                  # Discretization bins for digitizing the signal\n)\n\ndetector_1 = Detector(\n    phi_angle=0,               # Angle of the detector relative to the incident light beam\n    NA=0.4,                      # Numerical aperture of the detector optics\n    name='Front',                # Name or identifier for this detector\n    responsitivity=1,            # Responsitivity of the detector (efficiency)\n    acquisition_frequency=1e4,   # Sampling frequency: 10,000 Hz\n    noise_level=0e-2,            # Signal noise level: 1 millivolt\n    baseline_shift=0.00,         # Baseline shift of the detector output\n    saturation_level=1e30,       # Saturation level of the detector signal\n    n_bins=1024                  # Discretization bins for digitizing the signal\n)\n\n# Step 5: Simulate the Flow Cytometry Experiment\ncytometer = FlowCytometer(\n    coupling_mechanism='mie',                 # Use Mie scattering for particles\n    source=source,                            # Laser source defined above\n    scatterer_distribution=scatterer_distribution,  # Particle size distribution\n    detectors=[detector_0, detector_1]        # List of detectors\n)\n\n\n# Run the simulation to generate the scattering signals\ncytometer.simulate_pulse()\n\ncytometer.plot()"
      ]
    },
    {
      "cell_type": "markdown",
      "metadata": {},
      "source": [
        "Step 6: Analyze the Pulse Signals\n\n"
      ]
    },
    {
      "cell_type": "code",
      "execution_count": null,
      "metadata": {
        "collapsed": false
      },
      "outputs": [],
      "source": [
        "analyzer = Analyzer(detector_0, detector_1, algorithm=BasicPeakDetector())\n\n\n# Analyze and extract data from both detectors\nanalyzer.run_analysis(compute_peak_area=False)\n\ndatasets = analyzer.get_coincidence_dataset(coincidence_margin=0.1)"
      ]
    },
    {
      "cell_type": "code",
      "execution_count": null,
      "metadata": {
        "collapsed": false
      },
      "outputs": [],
      "source": [
        "analyzer.plot()\n\n# Step 7: Plot the 2D Density of Scattering Intensities\nplotter = Plotter(\n    dataset_0=datasets[0],  # Processed data from the first detector\n    dataset_1=datasets[1],  # Processed data from the second detector\n)"
      ]
    },
    {
      "cell_type": "markdown",
      "metadata": {},
      "source": [
        "Plot the 2D density plot\n\n"
      ]
    },
    {
      "cell_type": "code",
      "execution_count": null,
      "metadata": {
        "collapsed": false
      },
      "outputs": [],
      "source": [
        "plotter.plot()"
      ]
    }
  ],
  "metadata": {
    "kernelspec": {
      "display_name": "Python 3",
      "language": "python",
      "name": "python3"
    },
    "language_info": {
      "codemirror_mode": {
        "name": "ipython",
        "version": 3
      },
      "file_extension": ".py",
      "mimetype": "text/x-python",
      "name": "python",
      "nbconvert_exporter": "python",
      "pygments_lexer": "ipython3",
      "version": "3.11.0"
    }
  },
  "nbformat": 4,
  "nbformat_minor": 0
}