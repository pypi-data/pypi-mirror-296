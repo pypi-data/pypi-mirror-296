{
  "cells": [
    {
      "cell_type": "markdown",
      "metadata": {},
      "source": [
        "\n# Simulating and Analyzing Flow Cytometer Signals\n\nThis script demonstrates how to simulate flow cytometer signals using the `FlowCytometer` class\nand analyze the results using the `PulseAnalyzer` class from the `FlowCyPy` library.\n\nFlow cytometers measure forward scatter (FSC) and side scatter (SSC) signals when particles pass through a laser beam,\nproviding information about particle size, complexity, and other characteristics.\n\n## Steps in this Workflow:\n1. Define a particle size distribution using `ScattererDistribution`.\n2. Simulate flow cytometer signals using `FlowCytometer`.\n3. Analyze the forward scatter signal with `PulseAnalyzer` to extract features like peak height, width, and area.\n4. Visualize the generated signals and display the extracted pulse features.\n"
      ]
    },
    {
      "cell_type": "markdown",
      "metadata": {},
      "source": [
        "Step 1: Import necessary modules from FlowCyPy\n\n"
      ]
    },
    {
      "cell_type": "code",
      "execution_count": null,
      "metadata": {
        "collapsed": false
      },
      "outputs": [],
      "source": [
        "from FlowCyPy import FlowCytometer, ScattererDistribution, Analyzer, Detector, Source, FlowCell\nfrom FlowCyPy.distribution import NormalDistribution"
      ]
    },
    {
      "cell_type": "markdown",
      "metadata": {},
      "source": [
        "Example usage of the Flow class\n\n"
      ]
    },
    {
      "cell_type": "code",
      "execution_count": null,
      "metadata": {
        "collapsed": false
      },
      "outputs": [],
      "source": [
        "flow = FlowCell(\n    flow_speed=80e-6,       # 80 micrometers per second\n    flow_area=1e-6,         # 1 square micrometer\n    total_time=1.0,         # 1 second of flow\n    scatterer_density=1e12  # 1e12 particles per cubic meter\n)"
      ]
    },
    {
      "cell_type": "markdown",
      "metadata": {},
      "source": [
        "## Step 2: Define the particle size distribution\nUsing a normal size distribution with a mean of 10 \u00b5m and a standard deviation of 0.8 \u00b5m.\nThis defines the scatterers (particles) that will interact with the laser source.\n\n"
      ]
    },
    {
      "cell_type": "code",
      "execution_count": null,
      "metadata": {
        "collapsed": false
      },
      "outputs": [],
      "source": [
        "size_distribution = NormalDistribution(\n    mean=10e-6,         # Mean particle size: 10 \u00b5m\n    std_dev=0.8e-8,     # Standard deviation of particle size: 0.8 \u00b5m\n)\n\nrefractive_index_distribution_0 = NormalDistribution(\n    scale_factor=1,\n    mean=1.5,\n    std_dev=0.01\n)\n\nrefractive_index_distribution_1 = NormalDistribution(\n    scale_factor=1,\n    mean=1.7,\n    std_dev=0.01\n)\n\n\nscatterer_distribution = ScattererDistribution(\n    flow=flow,\n    refractive_index=[refractive_index_distribution_0, refractive_index_distribution_1],        # Refractive index of the particles\n    size=[size_distribution] # Normal distribution\n)\n\nscatterer_distribution.plot()\n\n# Step 3: Define the light source\n# -------------------------------\n# Define a laser source that illuminates the particles. The wavelength and power of the laser are crucial\n# for determining how the particles scatter light (e.g., Rayleigh scattering is wavelength-dependent).\nsource = Source(\n    NA=0.3,                      # Numerical aperture of the focusing optics\n    wavelength=1550e-9,          # Wavelength of the laser source: 1550 nm\n    optical_power=200e-3,        # Optical power of the laser source: 200 milliwatt\n)\n\n# Step 4: Define the detector\n# ---------------------------\n# A detector is used to measure the scattered light. The detector's numerical aperture and responsitivity\n# affect how much light it collects and converts to an electrical signal.\ndetector = Detector(\n    phi_angle=90,              # Angle of the detector relative to the incident light beam\n    NA=0.4,                      # Numerical aperture of the detector optics\n    name='first detector',       # Name or identifier for this detector\n    responsitivity=1,            # Responsitivity of the detector (efficiency of detecting scattered light)\n    acquisition_frequency=1e4,   # Sampling frequency: 10,000 Hz\n    noise_level=0e-2,            # Signal noise level: 1 millivolt\n    baseline_shift=0.01,         # Baseline shift of the detector output\n    saturation_level=1e30,       # Saturation level of the detector signal\n    n_bins=1024                  # Discretization bins for digitizing the signal\n)\n\n# Step 5: Simulate Flow Cytometer Signals\n# ---------------------------------------\n# Create a FlowCytometer instance to simulate forward and side scatter (FSC/SSC) signals.\n# The source, particle size distribution, and detector are passed in as parameters.\ncytometer = FlowCytometer(\n    coupling_mechanism='empirical',    # Use Rayleigh scattering for small particles\n    source=source,                    # Laser source defined above\n    scatterer_distribution=scatterer_distribution,  # Particle size distribution defined above\n    detectors=[detector]              # List of detectors used in the simulation (only one here)\n)\n\n# Simulate the pulse signals generated as particles pass through the laser beam.\ncytometer.simulate_pulse()\n\n# Display the properties of the simulated cytometer, including laser power, flow speed, etc.\ncytometer.print_properties()\n\n# Visualize the simulated signals for FSC/SSC channels.\ncytometer.plot()\n\n\"\"\"\nSummary:\n--------\nThis script simulates flow cytometer signals, processes them to detect peaks in the forward scatter channel,\nand extracts important features. The process is visualized through signal plots, and key properties are displayed.\n\"\"\""
      ]
    }
  ],
  "metadata": {
    "kernelspec": {
      "display_name": "Python 3",
      "language": "python",
      "name": "python3"
    },
    "language_info": {
      "codemirror_mode": {
        "name": "ipython",
        "version": 3
      },
      "file_extension": ".py",
      "mimetype": "text/x-python",
      "name": "python",
      "nbconvert_exporter": "python",
      "pygments_lexer": "ipython3",
      "version": "3.11.0"
    }
  },
  "nbformat": 4,
  "nbformat_minor": 0
}