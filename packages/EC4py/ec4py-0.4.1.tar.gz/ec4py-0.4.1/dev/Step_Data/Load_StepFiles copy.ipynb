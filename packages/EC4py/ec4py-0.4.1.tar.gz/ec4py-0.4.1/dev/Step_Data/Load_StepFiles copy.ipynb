{
 "cells": [
  {
   "cell_type": "markdown",
   "metadata": {},
   "source": [
    "# Levich and Koutechy-Levich analysis notebook for CV data.\n",
    "\n",
    "## 1. Import needed libraries"
   ]
  },
  {
   "cell_type": "code",
   "execution_count": 1,
   "metadata": {},
   "outputs": [],
   "source": [
    "from pathlib import Path\n",
    "from ec4py import *\n",
    "from ec4py import Quantity_Value_Unit as QV"
   ]
  },
  {
   "cell_type": "markdown",
   "metadata": {},
   "source": [
    "## 2.Make a list of paths to the data files."
   ]
  },
  {
   "cell_type": "code",
   "execution_count": 2,
   "metadata": {},
   "outputs": [
    {
     "name": "stdout",
     "output_type": "stream",
     "text": [
      "c:\\Users\\gustav.wiberg\\Documents\\GitHub\\Python\\EC4py\\test_data\\Step\n",
      "\n"
     ]
    }
   ],
   "source": [
    "paths = []\n",
    "path_to_dataSetFolder = Path(\".\").cwd().parent.parent / \"test_data\" /\"Step\"\n",
    "print(path_to_dataSetFolder)\n",
    "paths.append( path_to_dataSetFolder / \"Steps_102346.tdms\")\n",
    "paths.append( path_to_dataSetFolder / \"Steps_160307.tdms\")\n",
    "#paths.append( path_to_dataSetFolder / \"Steps_112251.tdms\")\n",
    " \n",
    "\n",
    "print()"
   ]
  },
  {
   "cell_type": "markdown",
   "metadata": {},
   "source": [
    "## 3. Load in the data files"
   ]
  },
  {
   "cell_type": "code",
   "execution_count": 3,
   "metadata": {},
   "outputs": [
    {
     "ename": "IndexError",
     "evalue": "list index out of range",
     "output_type": "error",
     "traceback": [
      "\u001b[1;31m---------------------------------------------------------------------------\u001b[0m",
      "\u001b[1;31mIndexError\u001b[0m                                Traceback (most recent call last)",
      "Cell \u001b[1;32mIn[3], line 2\u001b[0m\n\u001b[0;32m      1\u001b[0m d\u001b[38;5;241m=\u001b[39m Step_Datas(paths[\u001b[38;5;241m1\u001b[39m]) \n\u001b[1;32m----> 2\u001b[0m s\u001b[38;5;241m=\u001b[39m\u001b[43md\u001b[49m\u001b[43m[\u001b[49m\u001b[38;5;241;43m1\u001b[39;49m\u001b[43m]\u001b[49m\n\u001b[0;32m      3\u001b[0m s\u001b[38;5;241m.\u001b[39msetup\n\u001b[0;32m      4\u001b[0m \u001b[38;5;66;03m#ds= Step_Datas(paths)\u001b[39;00m\n",
      "File \u001b[1;32m~\\Documents\\GitHub\\Python\\EC4py\\src\\ec4py\\step_datas.py:74\u001b[0m, in \u001b[0;36mStep_Datas.__getitem__\u001b[1;34m(self, item_index)\u001b[0m\n\u001b[0;32m     72\u001b[0m     \u001b[38;5;28;01mreturn\u001b[39;00m [\u001b[38;5;28mself\u001b[39m\u001b[38;5;241m.\u001b[39mdatas[i] \u001b[38;5;28;01mfor\u001b[39;00m i \u001b[38;5;129;01min\u001b[39;00m \u001b[38;5;28mrange\u001b[39m(start,stop,step)  ]\n\u001b[0;32m     73\u001b[0m \u001b[38;5;28;01melse\u001b[39;00m:\n\u001b[1;32m---> 74\u001b[0m     \u001b[38;5;28;01mreturn\u001b[39;00m \u001b[38;5;28;43mself\u001b[39;49m\u001b[38;5;241;43m.\u001b[39;49m\u001b[43mdatas\u001b[49m\u001b[43m[\u001b[49m\u001b[43mitem_index\u001b[49m\u001b[43m]\u001b[49m\n",
      "\u001b[1;31mIndexError\u001b[0m: list index out of range"
     ]
    }
   ],
   "source": [
    "d= Step_Datas(paths[1]) \n",
    "s=d[1]\n",
    "s.setup\n",
    "#ds= Step_Datas(paths)\n"
   ]
  },
  {
   "cell_type": "code",
   "execution_count": null,
   "metadata": {},
   "outputs": [
    {
     "data": {
      "text/plain": [
       "<Axes: xlabel='t ( s)', ylabel='E (V)'>"
      ]
     },
     "execution_count": 10,
     "metadata": {},
     "output_type": "execute_result"
    },
    {
     "data": {
      "image/png": "[encoded data removed]",
      "text/plain": [
       "<Figure size 600x500 with 1 Axes>"
      ]
     },
     "metadata": {},
     "output_type": "display_data"
    }
   ],
   "source": [
    "ds= Step_Datas(paths)\n",
    "ds.plot()"
   ]
  },
  {
   "cell_type": "code",
   "execution_count": null,
   "metadata": {},
   "outputs": [],
   "source": [
    "print(d.setup)\n",
    "aa= d.setup_data._setup\n",
    "aa[\"Step.E\"]\n",
    "aa[\"Step.E\"]\n",
    "bb= aa[\"Step.Time\"]\n",
    "print(bb)\n",
    "cc= bb.split(\";\", -1)\n",
    "print(cc)"
   ]
  },
  {
   "cell_type": "code",
   "execution_count": null,
   "metadata": {},
   "outputs": [],
   "source": [
    "d0=d.get_step(0)\n",
    "len(d.Time)\n",
    "\n",
    "d0.setup"
   ]
  },
  {
   "cell_type": "code",
   "execution_count": null,
   "metadata": {},
   "outputs": [],
   "source": [
    "d0.plot(plot=p)"
   ]
  }
 ],
 "metadata": {
  "kernelspec": {
   "display_name": "Python 3",
   "language": "python",
   "name": "python3"
  },
  "language_info": {
   "codemirror_mode": {
    "name": "ipython",
    "version": 3
   },
   "file_extension": ".py",
   "mimetype": "text/x-python",
   "name": "python",
   "nbconvert_exporter": "python",
   "pygments_lexer": "ipython3",
   "version": "3.12.4"
  }
 },
 "nbformat": 4,
 "nbformat_minor": 2
}
