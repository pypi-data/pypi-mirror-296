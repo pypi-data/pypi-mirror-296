{
 "cells": [
  {
   "cell_type": "markdown",
   "metadata": {},
   "source": [
    "# General installation from github\n",
    "pip install \"Package\" @ git+\"URL of the repository#subdirectory=path\"\n",
    "\n",
    "Here, we want to install Arenz_Group Python package."
   ]
  },
  {
   "cell_type": "code",
   "execution_count": 1,
   "metadata": {},
   "outputs": [
    {
     "name": "stdout",
     "output_type": "stream",
     "text": [
      "c:\\Users\\gustav.wiberg\\Documents\\GitHub\\Python\\EC4py\n",
      "\"c:\\Users\\gustav.wiberg\\AppData\\Local\\Programs\\Python\\Python311\\python.exe\"\n"
     ]
    }
   ],
   "source": [
    "%cd ..\n",
    "import sys\n",
    "from pathlib import Path\n",
    "path_to_executable = \"\\\"\" + str(sys.executable) +  \"\\\"\" #must be used if there are any spaces in the path\n",
    "print(path_to_executable)"
   ]
  },
  {
   "cell_type": "code",
   "execution_count": 3,
   "metadata": {},
   "outputs": [
    {
     "name": "stdout",
     "output_type": "stream",
     "text": [
      "Requirement already satisfied: twine in c:\\users\\gustav.wiberg\\appdata\\local\\programs\\python\\python311\\lib\\site-packages (5.1.1)\n",
      "Requirement already satisfied: pkginfo>=1.8.1 in c:\\users\\gustav.wiberg\\appdata\\local\\programs\\python\\python311\\lib\\site-packages (from twine) (1.10.0)\n",
      "Requirement already satisfied: readme-renderer>=35.0 in c:\\users\\gustav.wiberg\\appdata\\local\\programs\\python\\python311\\lib\\site-packages (from twine) (43.0)\n",
      "Requirement already satisfied: requests>=2.20 in c:\\users\\gustav.wiberg\\appdata\\local\\programs\\python\\python311\\lib\\site-packages (from twine) (2.31.0)\n",
      "Requirement already satisfied: requests-toolbelt!=0.9.0,>=0.8.0 in c:\\users\\gustav.wiberg\\appdata\\local\\programs\\python\\python311\\lib\\site-packages (from twine) (1.0.0)\n",
      "Requirement already satisfied: urllib3>=1.26.0 in c:\\users\\gustav.wiberg\\appdata\\local\\programs\\python\\python311\\lib\\site-packages (from twine) (2.0.5)\n",
      "Requirement already satisfied: importlib-metadata>=3.6 in c:\\users\\gustav.wiberg\\appdata\\local\\programs\\python\\python311\\lib\\site-packages (from twine) (8.0.0)\n",
      "Requirement already satisfied: keyring>=15.1 in c:\\users\\gustav.wiberg\\appdata\\local\\programs\\python\\python311\\lib\\site-packages (from twine) (25.2.1)\n",
      "Requirement already satisfied: rfc3986>=1.4.0 in c:\\users\\gustav.wiberg\\appdata\\local\\programs\\python\\python311\\lib\\site-packages (from twine) (2.0.0)\n",
      "Requirement already satisfied: rich>=12.0.0 in c:\\users\\gustav.wiberg\\appdata\\local\\programs\\python\\python311\\lib\\site-packages (from twine) (13.7.1)\n",
      "Requirement already satisfied: zipp>=0.5 in c:\\users\\gustav.wiberg\\appdata\\local\\programs\\python\\python311\\lib\\site-packages (from importlib-metadata>=3.6->twine) (3.19.2)\n",
      "Requirement already satisfied: jaraco.classes in c:\\users\\gustav.wiberg\\appdata\\local\\programs\\python\\python311\\lib\\site-packages (from keyring>=15.1->twine) (3.4.0)\n",
      "Requirement already satisfied: jaraco.functools in c:\\users\\gustav.wiberg\\appdata\\local\\programs\\python\\python311\\lib\\site-packages (from keyring>=15.1->twine) (4.0.1)\n",
      "Requirement already satisfied: jaraco.context in c:\\users\\gustav.wiberg\\appdata\\local\\programs\\python\\python311\\lib\\site-packages (from keyring>=15.1->twine) (5.3.0)\n",
      "Requirement already satisfied: pywin32-ctypes>=0.2.0 in c:\\users\\gustav.wiberg\\appdata\\local\\programs\\python\\python311\\lib\\site-packages (from keyring>=15.1->twine) (0.2.2)\n",
      "Requirement already satisfied: nh3>=0.2.14 in c:\\users\\gustav.wiberg\\appdata\\local\\programs\\python\\python311\\lib\\site-packages (from readme-renderer>=35.0->twine) (0.2.17)\n",
      "Requirement already satisfied: docutils>=0.13.1 in c:\\users\\gustav.wiberg\\appdata\\local\\programs\\python\\python311\\lib\\site-packages (from readme-renderer>=35.0->twine) (0.21.2)\n",
      "Requirement already satisfied: Pygments>=2.5.1 in c:\\users\\gustav.wiberg\\appdata\\local\\programs\\python\\python311\\lib\\site-packages (from readme-renderer>=35.0->twine) (2.15.1)\n",
      "Requirement already satisfied: charset-normalizer<4,>=2 in c:\\users\\gustav.wiberg\\appdata\\local\\programs\\python\\python311\\lib\\site-packages (from requests>=2.20->twine) (3.2.0)\n",
      "Requirement already satisfied: idna<4,>=2.5 in c:\\users\\gustav.wiberg\\appdata\\local\\programs\\python\\python311\\lib\\site-packages (from requests>=2.20->twine) (3.4)\n",
      "Requirement already satisfied: certifi>=2017.4.17 in c:\\users\\gustav.wiberg\\appdata\\local\\programs\\python\\python311\\lib\\site-packages (from requests>=2.20->twine) (2023.7.22)\n",
      "Requirement already satisfied: markdown-it-py>=2.2.0 in c:\\users\\gustav.wiberg\\appdata\\local\\programs\\python\\python311\\lib\\site-packages (from rich>=12.0.0->twine) (3.0.0)\n",
      "Requirement already satisfied: mdurl~=0.1 in c:\\users\\gustav.wiberg\\appdata\\local\\programs\\python\\python311\\lib\\site-packages (from markdown-it-py>=2.2.0->rich>=12.0.0->twine) (0.1.2)\n",
      "Requirement already satisfied: more-itertools in c:\\users\\gustav.wiberg\\appdata\\local\\programs\\python\\python311\\lib\\site-packages (from jaraco.classes->keyring>=15.1->twine) (10.3.0)\n",
      "Requirement already satisfied: backports.tarfile in c:\\users\\gustav.wiberg\\appdata\\local\\programs\\python\\python311\\lib\\site-packages (from jaraco.context->keyring>=15.1->twine) (1.2.0)\n",
      "Note: you may need to restart the kernel to use updated packages.\n"
     ]
    }
   ],
   "source": [
    "%pip install --upgrade twine"
   ]
  },
  {
   "cell_type": "code",
   "execution_count": 2,
   "metadata": {},
   "outputs": [
    {
     "ename": "FileNotFoundError",
     "evalue": "[Errno 2] No such file or directory: 'package.json'",
     "output_type": "error",
     "traceback": [
      "\u001b[1;31m---------------------------------------------------------------------------\u001b[0m",
      "\u001b[1;31mFileNotFoundError\u001b[0m                         Traceback (most recent call last)",
      "Cell \u001b[1;32mIn[2], line 3\u001b[0m\n\u001b[0;32m      1\u001b[0m \u001b[38;5;28;01mfrom\u001b[39;00m \u001b[38;5;21;01mver_update\u001b[39;00m \u001b[38;5;28;01mimport\u001b[39;00m version_updated\n\u001b[1;32m----> 3\u001b[0m \u001b[43mversion_updated\u001b[49m\u001b[43m(\u001b[49m\u001b[43m)\u001b[49m\n",
      "File \u001b[1;32mc:\\Users\\gustav.wiberg\\Documents\\GitHub\\Python\\EC4py\\build\\ver_update.py:8\u001b[0m, in \u001b[0;36mversion_updated\u001b[1;34m()\u001b[0m\n\u001b[0;32m      4\u001b[0m \u001b[38;5;28;01mdef\u001b[39;00m \u001b[38;5;21mversion_updated\u001b[39m():\n\u001b[0;32m      5\u001b[0m     \n\u001b[0;32m      6\u001b[0m     \u001b[38;5;66;03m# Opening JSON file\u001b[39;00m\n\u001b[0;32m      7\u001b[0m     pa \u001b[38;5;241m=\u001b[39m \u001b[38;5;124m\"\u001b[39m\u001b[38;5;124mpackage.json\u001b[39m\u001b[38;5;124m\"\u001b[39m\n\u001b[1;32m----> 8\u001b[0m     f \u001b[38;5;241m=\u001b[39m \u001b[38;5;28;43mopen\u001b[39;49m\u001b[43m(\u001b[49m\u001b[43mpa\u001b[49m\u001b[43m)\u001b[49m\n\u001b[0;32m     10\u001b[0m     \u001b[38;5;66;03m# returns JSON object as \u001b[39;00m\n\u001b[0;32m     11\u001b[0m     \u001b[38;5;66;03m# a dictionary\u001b[39;00m\n\u001b[0;32m     12\u001b[0m     data \u001b[38;5;241m=\u001b[39m json\u001b[38;5;241m.\u001b[39mload(f)\n",
      "\u001b[1;31mFileNotFoundError\u001b[0m: [Errno 2] No such file or directory: 'package.json'"
     ]
    }
   ],
   "source": [
    "from ver_update import version_updated\n",
    "\n",
    "version_updated()\n",
    "\n"
   ]
  },
  {
   "cell_type": "code",
   "execution_count": 2,
   "metadata": {},
   "outputs": [
    {
     "name": "stdout",
     "output_type": "stream",
     "text": [
      "0.2.1\n"
     ]
    }
   ],
   "source": [
    "import json\n",
    "\n",
    "# Opening JSON file\n",
    "pa = \"package.json\"\n",
    "f = open(pa)\n",
    "\n",
    "# returns JSON object as \n",
    "# a dictionary\n",
    "data = json.load(f)\n",
    "\n",
    "# Iterating through the json\n",
    "# list\n",
    "\n",
    "project_version =data[\"version\"]\n",
    "print(project_version)\n",
    "# Closing file\n",
    "f.close()\n"
   ]
  },
  {
   "cell_type": "code",
   "execution_count": 3,
   "metadata": {},
   "outputs": [
    {
     "name": "stdout",
     "output_type": "stream",
     "text": [
      "{'build-system': {'requires': ['hatchling'], 'build-backend': 'hatchling.build'}, 'project': {'name': 'EC4py', 'version': '0.2.1', 'dependencies': ['nptdms', 'matplotlib', 'pathlib', 'scipy', 'numpy', 'pandas'], 'requires-python': '>=3.08', 'description': 'A package for data treatment of electrochemical data generated by EC4 DAQ. ', 'readme': 'README.md', 'keywords': ['python', 'EC4', 'tdms', 'Nordic Electorchemistry', 'electorchemistry'], 'classifiers': ['Development Status :: 4 - Beta', 'Operating System :: OS Independent', 'Programming Language :: Python'], 'authors': [{'name': 'Gustav Wiberg', 'email': 'g.wiberg@nordicec.com'}], 'maintainers': [{'name': 'Gustav Wiberg', 'email': 'g.wiberg@nordicec.com'}], 'license': {'file': 'LICENSE'}, 'urls': {'Homepage': 'https://github.com/Guswib/EC4py', 'Documentation': 'https://github.com/Guswib/EC4py', 'Repository': 'https://github.com/Guswib/EC4py', 'Issues': 'https://github.com/Guswib/EC4py', 'Changelog': 'https://github.com/Guswib/EC4py'}}, 'tool': {'setuptools': {'packages': {'find': {'where': ['src']}}}}}\n"
     ]
    }
   ],
   "source": [
    "import toml\n",
    "with open(\"pyproject.toml\", \"r\") as f:\n",
    "    data = toml.load(f)\n",
    "print(data)\n",
    "data[\"project\"][\"version\"]=project_version\n",
    "with open('pyproject.toml', 'w') as f:\n",
    "    toml.dump(data, f)\n"
   ]
  }
 ],
 "metadata": {
  "kernelspec": {
   "display_name": "Python 3",
   "language": "python",
   "name": "python3"
  },
  "language_info": {
   "codemirror_mode": {
    "name": "ipython",
    "version": 3
   },
   "file_extension": ".py",
   "mimetype": "text/x-python",
   "name": "python",
   "nbconvert_exporter": "python",
   "pygments_lexer": "ipython3",
   "version": "3.11.5"
  }
 },
 "nbformat": 4,
 "nbformat_minor": 2
}
