{
 "cells": [
  {
   "attachments": {},
   "cell_type": "markdown",
   "metadata": {},
   "source": [
    "# DMI calculation from total energy\n",
    "## Linear monoatomic chain"
   ]
  },
  {
   "cell_type": "code",
   "execution_count": 13,
   "metadata": {},
   "outputs": [],
   "source": [
    "from utils import *\n",
    "np.set_printoptions(precision=3, suppress=True)"
   ]
  },
  {
   "attachments": {},
   "cell_type": "markdown",
   "metadata": {},
   "source": [
    "Define the \n",
    "* spin spirals calculated by DFT and \n",
    "* the maximum number of nearest-neighbors considered"
   ]
  },
  {
   "cell_type": "code",
   "execution_count": 14,
   "metadata": {},
   "outputs": [],
   "source": [
    "# spin spirals (DFT supercells) - sign indicates the chirality: e.g. [-3, 3], or [4, -4], or [-3, 3, 4, 5, 6], order doesn't seem to matter\n",
    "Ns_array = [4, -4] #[3, -3, 4, 5]\n",
    "\n",
    "# maximum order of nearest-neighbors; 5 is probably more than enough (physically)\n",
    "max_d_order = 8    "
   ]
  },
  {
   "attachments": {},
   "cell_type": "markdown",
   "metadata": {},
   "source": [
    "Construct total energy expressions for all spin spirals (express as a matrix) \\\n",
    "and diagonalize the square submatrix of this rectangular matrix."
   ]
  },
  {
   "cell_type": "code",
   "execution_count": 15,
   "metadata": {},
   "outputs": [],
   "source": [
    "M = coeff_matrix(Ns_array, max_d_order=max_d_order)\n",
    "M_partially_diagonalized, M_sub_inv = diagonalize_coefficient_matrix(M)"
   ]
  },
  {
   "cell_type": "code",
   "execution_count": 16,
   "metadata": {},
   "outputs": [
    {
     "name": "stdout",
     "output_type": "stream",
     "text": [
      "with DFT supercell sizes\n",
      "[3, -3, 4, 5]\n",
      "\n",
      "we obtain linear combinations of terms\n",
      "['E0', 'd_1', 'd_2', 'd_3', 'd_4', 'd_5', 'd_6', 'd_7', 'd_8']\n",
      "\n",
      "combined in the following way\n",
      "[[ 1.    -0.    -0.     0.     0.     0.    -0.    -0.     0.   ]\n",
      " [ 0.     1.    -0.     0.    -0.382 -1.236  1.     1.854 -1.236]\n",
      " [ 0.     0.     1.    -0.    -1.382 -0.236  1.     0.854 -0.236]\n",
      " [ 0.    -0.    -0.     1.    -0.382 -2.236  1.     2.854 -1.236]]\n",
      "\n",
      "by summing the energies\n",
      "['E(3)', 'E(-3)', 'E(4)', 'E(5)']\n",
      "\n",
      "with prefactor coefficients\n",
      "[[ 0.167  0.167 -0.    -0.   ]\n",
      " [ 0.047 -0.191 -0.155  0.21 ]\n",
      " [-0.146  0.001 -0.155  0.21 ]\n",
      " [ 0.213 -0.025 -0.405  0.21 ]]\n"
     ]
    }
   ],
   "source": [
    "print(\"with DFT supercell sizes\")\n",
    "print(Ns_array)\n",
    "\n",
    "print('')\n",
    "\n",
    "print(\"we obtain linear combinations of terms\")\n",
    "print(['E0'] + [f'd_{n:d}' for n in range(1, max_d_order+1)])\n",
    "\n",
    "print('')\n",
    "\n",
    "print('combined in the following way')\n",
    "print(M_partially_diagonalized)\n",
    "\n",
    "print('')\n",
    "\n",
    "print(\"by summing the energies\")\n",
    "print([f\"E({Ns:d})\" for Ns in Ns_array])\n",
    "\n",
    "print('')\n",
    "\n",
    "print(\"with prefactor coefficients\")\n",
    "print(M_sub_inv)"
   ]
  },
  {
   "cell_type": "code",
   "execution_count": 17,
   "metadata": {},
   "outputs": [
    {
     "name": "stdout",
     "output_type": "stream",
     "text": [
      "Having calculated the DFT total energies for supercells (3, -3, 4, 5), corresponding to angles (120.0, -120.0, 90.0, 72.0) degrees, \n",
      "                we obtain the ground-state energy E0 and the DMI coefficients d_n up to order n_max = 8\n",
      "                  with the following formulas:\n",
      "E0 = 0.167 E(3) + 0.167 E(-3)\n",
      "1.000 d_1 + -0.382 d_4 + -1.236 d_5 + 1.000 d_6 + 1.854 d_7 + -1.236 d_8 = 0.047 E(3) + -0.191 E(-3) + -0.155 E(4) + 0.210 E(5)\n",
      "1.000 d_2 + -1.382 d_4 + -0.236 d_5 + 1.000 d_6 + 0.854 d_7 + -0.236 d_8 = -0.146 E(3) + 0.001 E(-3) + -0.155 E(4) + 0.210 E(5)\n",
      "1.000 d_3 + -0.382 d_4 + -2.236 d_5 + 1.000 d_6 + 2.854 d_7 + -1.236 d_8 = 0.213 E(3) + -0.025 E(-3) + -0.405 E(4) + 0.210 E(5)\n"
     ]
    }
   ],
   "source": [
    "explain_results_verbose(M_sub_inv, M_partially_diagonalized, Ns_array)"
   ]
  }
 ],
 "metadata": {
  "kernelspec": {
   "display_name": "Python 3",
   "language": "python",
   "name": "python3"
  },
  "language_info": {
   "codemirror_mode": {
    "name": "ipython",
    "version": 3
   },
   "file_extension": ".py",
   "mimetype": "text/x-python",
   "name": "python",
   "nbconvert_exporter": "python",
   "pygments_lexer": "ipython3",
   "version": "3.10.0"
  },
  "orig_nbformat": 4
 },
 "nbformat": 4,
 "nbformat_minor": 2
}
