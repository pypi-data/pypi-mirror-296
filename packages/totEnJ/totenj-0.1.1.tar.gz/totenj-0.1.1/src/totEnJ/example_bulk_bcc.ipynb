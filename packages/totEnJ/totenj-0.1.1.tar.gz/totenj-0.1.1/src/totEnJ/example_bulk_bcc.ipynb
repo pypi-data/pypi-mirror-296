{
 "cells": [
  {
   "cell_type": "code",
   "execution_count": 4,
   "metadata": {},
   "outputs": [
    {
     "name": "stdout",
     "output_type": "stream",
     "text": [
      "(array([0, 0, 0, 0, 0, 0, 0, 0, 0, 0, 0, 0, 0, 0, 1, 1, 1, 1, 1, 1, 1, 1,\n",
      "       1, 1, 1, 1, 1, 1]), array([0, 0, 1, 0, 1, 0, 1, 0, 1, 1, 1, 0, 1, 1, 0, 0, 1, 1, 0, 0, 1, 1,\n",
      "       0, 1, 0, 0, 0, 1]), array([2.87      , 2.87      , 2.48549291, 2.87      , 2.48549291,\n",
      "       2.87      , 2.48549291, 2.87      , 2.48549291, 2.48549291,\n",
      "       2.48549291, 2.87      , 2.48549291, 2.48549291, 2.48549291,\n",
      "       2.48549291, 2.87      , 2.87      , 2.48549291, 2.48549291,\n",
      "       2.87      , 2.87      , 2.48549291, 2.87      , 2.48549291,\n",
      "       2.48549291, 2.48549291, 2.87      ]), array([[ 0.   ,  2.87 ,  0.   ],\n",
      "       [ 2.87 ,  0.   ,  0.   ],\n",
      "       [-1.435,  1.435,  1.435],\n",
      "       [-2.87 ,  0.   ,  0.   ],\n",
      "       [ 1.435, -1.435,  1.435],\n",
      "       [ 0.   , -2.87 ,  0.   ],\n",
      "       [-1.435, -1.435,  1.435],\n",
      "       [ 0.   ,  0.   ,  2.87 ],\n",
      "       [ 1.435,  1.435,  1.435],\n",
      "       [-1.435, -1.435, -1.435],\n",
      "       [ 1.435, -1.435, -1.435],\n",
      "       [ 0.   ,  0.   , -2.87 ],\n",
      "       [ 1.435,  1.435, -1.435],\n",
      "       [-1.435,  1.435, -1.435],\n",
      "       [-1.435,  1.435,  1.435],\n",
      "       [ 1.435,  1.435,  1.435],\n",
      "       [ 0.   , -2.87 ,  0.   ],\n",
      "       [ 2.87 ,  0.   ,  0.   ],\n",
      "       [ 1.435, -1.435, -1.435],\n",
      "       [-1.435, -1.435, -1.435],\n",
      "       [-2.87 ,  0.   ,  0.   ],\n",
      "       [ 0.   ,  0.   , -2.87 ],\n",
      "       [ 1.435, -1.435,  1.435],\n",
      "       [ 0.   ,  0.   ,  2.87 ],\n",
      "       [-1.435, -1.435,  1.435],\n",
      "       [ 1.435,  1.435, -1.435],\n",
      "       [-1.435,  1.435, -1.435],\n",
      "       [ 0.   ,  2.87 ,  0.   ]]))\n"
     ]
    }
   ],
   "source": [
    "# see https://wiki.fysik.dtu.dk/ase/ase/neighborlist.html\n",
    "\n",
    "# define the bcc unit cell in ase\n",
    "from ase.build import bulk\n",
    "from ase.visualize import view\n",
    "from ase.io import write\n",
    "from ase.io import read\n",
    "from ase.build import make_supercell\n",
    "from ase.build import sort\n",
    "from ase.build import surface\n",
    "from ase.build import bcc111, bcc110, bcc100\n",
    "from ase.build import fcc111, fcc110, fcc100\n",
    "from ase.build import add_adsorbate\n",
    "from ase.build import molecule\n",
    "from ase.build import stack\n",
    "from ase.neighborlist import neighbor_list\n",
    "from ase.neighborlist import natural_cutoffs\n",
    "\n",
    "# specify the maximum order of neighbors\n",
    "max_order = 3\n",
    "\n",
    "# define the bcc unit cell with 2 atoms per unit cell in ase\n",
    "atoms = bulk('Fe', 'bcc', a=2.87, orthorhombic=True)\n",
    "atoms = sort(atoms)\n",
    "\n",
    "\n",
    "# view(atoms)\n",
    "\n",
    "# get the nearest neighbors of 'atoms' up to the 4th nearest neighbor\n",
    "neighbor_list = neighbor_list('ijdD', atoms, max_order, self_interaction=False)\n",
    "\n",
    "# print the neighbors\n",
    "print(neighbor_list)\n",
    "\n",
    "\n",
    "\n",
    "# "
   ]
  },
  {
   "cell_type": "code",
   "execution_count": null,
   "metadata": {},
   "outputs": [],
   "source": []
  }
 ],
 "metadata": {
  "kernelspec": {
   "display_name": "Python 3",
   "language": "python",
   "name": "python3"
  },
  "language_info": {
   "codemirror_mode": {
    "name": "ipython",
    "version": 3
   },
   "file_extension": ".py",
   "mimetype": "text/x-python",
   "name": "python",
   "nbconvert_exporter": "python",
   "pygments_lexer": "ipython3",
   "version": "3.10.0"
  },
  "orig_nbformat": 4
 },
 "nbformat": 4,
 "nbformat_minor": 2
}
