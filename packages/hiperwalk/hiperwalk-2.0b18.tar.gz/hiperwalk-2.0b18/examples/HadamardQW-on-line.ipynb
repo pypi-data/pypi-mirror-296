{
 "cells": [
  {
   "cell_type": "markdown",
   "id": "748ddd55",
   "metadata": {},
   "source": [
    "## Hadamard walk on the line"
   ]
  },
  {
   "cell_type": "code",
   "execution_count": null,
   "id": "cd05af2d",
   "metadata": {},
   "outputs": [],
   "source": [
    "from sys import path\n",
    "path.append('..')"
   ]
  },
  {
   "cell_type": "code",
   "execution_count": null,
   "id": "a9a1ee13",
   "metadata": {},
   "outputs": [],
   "source": [
    "import hiperwalk as hpw\n",
    "import numpy as np"
   ]
  },
  {
   "cell_type": "markdown",
   "id": "37c2d2cd",
   "metadata": {},
   "source": [
    "#### Defining the graph and the QW instance"
   ]
  },
  {
   "cell_type": "code",
   "execution_count": null,
   "id": "6fb19974",
   "metadata": {},
   "outputs": [],
   "source": [
    "# number of vertices\n",
    "N = 101\n",
    "\n",
    "# line is an instance of the Graph class\n",
    "line = hpw.Line(N)\n",
    "\n",
    "# qw is an instance of a coined QW on a line\n",
    "qw = hpw.Coined(line, coin='hadamard')"
   ]
  },
  {
   "cell_type": "markdown",
   "id": "411a36c1",
   "metadata": {},
   "source": [
    "#### Setting the initial state in the center"
   ]
  },
  {
   "cell_type": "markdown",
   "id": "b19e6b3f",
   "metadata": {},
   "source": [
    "There are two equivalent ways (described below) to define the initial state: \n",
    "\n",
    "$$\\frac{|(v,v+1)\\rangle+ i\\,|(v,v-1)\\rangle}{\\sqrt{2}},$$\n",
    "\n",
    "where $v=N//2$ is the central vertex. Note that the computational basis is comprised of arcs. This initial state is equivalent to a uniform superposition of the coin state when the walker is on vertex $v$."
   ]
  },
  {
   "cell_type": "code",
   "execution_count": null,
   "id": "814280e4",
   "metadata": {},
   "outputs": [],
   "source": [
    "# using the 'ket' method \n",
    "# the input of ket is an arc=(tail,head), where tail and head are vertices.\n",
    "v = N//2\n",
    "ini_state = (qw.ket((v,v+1))+1j*qw.ket((v,v-1)))/np.sqrt(2)"
   ]
  },
  {
   "cell_type": "code",
   "execution_count": null,
   "id": "4ccdbda9",
   "metadata": {},
   "outputs": [],
   "source": [
    "# using amplitude of arcs (tail,head).\n",
    "ini_state = qw.state([(1/np.sqrt(2), (v,v+1)), (1j/np.sqrt(2), (v,v-1))])"
   ]
  },
  {
   "cell_type": "markdown",
   "id": "bdbadbb3",
   "metadata": {},
   "source": [
    "#### Probability distribution after $\\frac{N}{2}$ steps"
   ]
  },
  {
   "cell_type": "code",
   "execution_count": null,
   "id": "173833e6",
   "metadata": {},
   "outputs": [],
   "source": [
    "# 'simulate' calculates the state after 'N//2' steps\n",
    "final_state = qw.simulate(range = (N//2,N//2+1), state = ini_state)\n",
    "\n",
    "probs = qw.probability_distribution(final_state)"
   ]
  },
  {
   "cell_type": "code",
   "execution_count": null,
   "id": "57699b7e",
   "metadata": {},
   "outputs": [],
   "source": [
    "hpw.plot_probability_distribution(probs, plot='line', figsize=(6,3))"
   ]
  },
  {
   "cell_type": "markdown",
   "id": "4b4c282f",
   "metadata": {},
   "source": [
    "#### Changing the labels"
   ]
  },
  {
   "cell_type": "code",
   "execution_count": null,
   "id": "ac23077b",
   "metadata": {},
   "outputs": [],
   "source": [
    "labels = {i: i - N // 2 for i in range(0, N, N//10)}\n",
    "hpw.plot_probability_distribution(probs, plot='line', figsize=(6,3), labels=labels)"
   ]
  },
  {
   "cell_type": "markdown",
   "id": "1b9b5313",
   "metadata": {},
   "source": [
    "#### Animation of the Hadamard quantum walk"
   ]
  },
  {
   "cell_type": "code",
   "execution_count": null,
   "id": "5c1e45b7",
   "metadata": {},
   "outputs": [],
   "source": [
    "# 'simulate' calculates a list of states from 'range'=10 until N//2-1 \n",
    "list_of_states = qw.simulate(range = (10,N//2), state = ini_state)\n",
    "\n",
    "list_of_probs = qw.probability_distribution(list_of_states)\n",
    "\n",
    "hpw.plot_probability_distribution(list_of_probs, plot='line',animate=True,figsize=(6,3),labels=labels)"
   ]
  },
  {
   "cell_type": "code",
   "execution_count": null,
   "id": "e36f0a3a",
   "metadata": {},
   "outputs": [],
   "source": []
  }
 ],
 "metadata": {
  "kernelspec": {
   "display_name": "Python 3 (ipykernel)",
   "language": "python",
   "name": "python3"
  },
  "language_info": {
   "codemirror_mode": {
    "name": "ipython",
    "version": 3
   },
   "file_extension": ".py",
   "mimetype": "text/x-python",
   "name": "python",
   "nbconvert_exporter": "python",
   "pygments_lexer": "ipython3",
   "version": "3.10.12"
  }
 },
 "nbformat": 4,
 "nbformat_minor": 5
}
