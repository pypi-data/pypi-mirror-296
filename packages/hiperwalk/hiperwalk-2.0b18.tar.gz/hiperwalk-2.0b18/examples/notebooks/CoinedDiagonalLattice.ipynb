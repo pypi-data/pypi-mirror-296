{
 "cells": [
  {
   "cell_type": "code",
   "execution_count": null,
   "id": "4aea3943-3414-4937-a292-2a06a1321f86",
   "metadata": {
    "scrolled": true
   },
   "outputs": [
    {
     "name": "stderr",
     "output_type": "stream",
     "text": [
      "/opt/conda/lib/python3.11/site-packages/hiperwalk/quantum_walk/_pyneblina_interface.py:268: UserWarning: Real multiplication not implemented. Treating entries as complex.\n",
      "  warn(\n"
     ]
    }
   ],
   "source": [
    "import hiperwalk as hpw\n",
    "import numpy as np\n",
    "import time\n",
    "\n",
    "def current_milli_time():\n",
    "    return round(time.time() * 1000)\n",
    "\n",
    "dim = 41\n",
    "ini = current_milli_time()\n",
    "hpw.set_hpc('cpu')\n",
    "lat = hpw.Grid(dim, diagonal=True)\n",
    "center = np.array([dim//2,dim//2])\n",
    "dtqw = hpw.Coined(lat, shift='persistent', coin='grover')\n",
    "psi0 = dtqw.state([[0.5, (center, center + (1, 1))],\n",
    "                  [-0.5, (center, center + (1, -1))],\n",
    "                  [-0.5, (center, center + (-1, 1))],\n",
    "                  [0.5, (center, center + (-1, -1))]])\n",
    "psi_final = dtqw.simulate(time=dim // 2, state=psi0)\n",
    "prob = dtqw.probability_distribution(psi_final)\n",
    "hpw.plot_probability_distribution(prob, graph=lat)\n",
    "end = current_milli_time()\n",
    "print(\"total execution time\", (end - ini) )"
   ]
  },
  {
   "cell_type": "code",
   "execution_count": null,
   "id": "631cec08-4f14-4017-9040-fbd910c6aea1",
   "metadata": {},
   "outputs": [],
   "source": []
  }
 ],
 "metadata": {
  "kernelspec": {
   "display_name": "Python 3 (ipykernel)",
   "language": "python",
   "name": "python3"
  },
  "language_info": {
   "codemirror_mode": {
    "name": "ipython",
    "version": 3
   },
   "file_extension": ".py",
   "mimetype": "text/x-python",
   "name": "python",
   "nbconvert_exporter": "python",
   "pygments_lexer": "ipython3",
   "version": "3.11.6"
  }
 },
 "nbformat": 4,
 "nbformat_minor": 5
}
