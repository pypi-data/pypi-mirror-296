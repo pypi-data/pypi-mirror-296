{
 "cells": [
  {
   "cell_type": "code",
   "execution_count": null,
   "id": "ae7473a3-229a-45df-afc4-cb3f1f229ab6",
   "metadata": {},
   "outputs": [
    {
     "name": "stderr",
     "output_type": "stream",
     "text": [
      "/opt/conda/lib/python3.11/site-packages/hiperwalk/quantum_walk/_pyneblina_interface.py:383: UserWarning: Sparse matrix multiplication not implemented. Converting to dense.\n",
      "  warn(\n",
      "/opt/conda/lib/python3.11/site-packages/hiperwalk/quantum_walk/_pyneblina_interface.py:268: UserWarning: Real multiplication not implemented. Treating entries as complex.\n",
      "  warn(\n"
     ]
    }
   ],
   "source": [
    "import hiperwalk as hpw\n",
    "import time\n",
    "\n",
    "def current_milli_time():\n",
    "    return round(time.time() * 1000)\n",
    "\n",
    "N = 501\n",
    "ini = current_milli_time()\n",
    "hpw.set_hpc('Cpu')\n",
    "cycle = hpw.Cycle(N)\n",
    "ctqw = hpw.ContinuousTime(cycle, gamma=0.35)\n",
    "psi0 = ctqw.ket(N // 2)\n",
    "psi_final = ctqw.simulate(time=500, initial_state=psi0)\n",
    "prob = ctqw.probability_distribution(psi_final)\n",
    "hpw.plot_probability_distribution(prob)\n",
    "end = current_milli_time()\n",
    "print(\"total execution time\", (end - ini) )\n"
   ]
  },
  {
   "cell_type": "code",
   "execution_count": 4,
   "id": "8d2d367b-3a72-431c-8dc6-c856ee0d7471",
   "metadata": {},
   "outputs": [
    {
     "name": "stdout",
     "output_type": "stream",
     "text": [
      "1.26.4\n"
     ]
    }
   ],
   "source": [
    "import numpy as np\n",
    "print( np.__version__)\n"
   ]
  },
  {
   "cell_type": "code",
   "execution_count": 5,
   "id": "dc86ae06-d0b4-4fe4-a46c-1810bd68cd84",
   "metadata": {},
   "outputs": [
    {
     "name": "stdout",
     "output_type": "stream",
     "text": [
      "3.2.1\n"
     ]
    }
   ],
   "source": [
    "import networkx as net\n",
    "print( net.__version__ )"
   ]
  },
  {
   "cell_type": "code",
   "execution_count": 6,
   "id": "35f7511f-af12-4c0f-bec6-09c9cbab2ea2",
   "metadata": {},
   "outputs": [
    {
     "name": "stdout",
     "output_type": "stream",
     "text": [
      "1.12.0\n"
     ]
    }
   ],
   "source": [
    "import scipy as sci\n",
    "print( sci.__version__)"
   ]
  },
  {
   "cell_type": "code",
   "execution_count": 7,
   "id": "cbf6c438-e11a-41a4-adff-339f7b99b1f6",
   "metadata": {},
   "outputs": [
    {
     "name": "stdout",
     "output_type": "stream",
     "text": [
      "3.8.3\n"
     ]
    }
   ],
   "source": [
    "import matplotlib as mat\n",
    "print (mat.__version__)"
   ]
  },
  {
   "cell_type": "code",
   "execution_count": null,
   "id": "68275f15-8eb8-458c-8968-428660086fe6",
   "metadata": {},
   "outputs": [],
   "source": []
  }
 ],
 "metadata": {
  "kernelspec": {
   "display_name": "Python 3 (ipykernel)",
   "language": "python",
   "name": "python3"
  },
  "language_info": {
   "codemirror_mode": {
    "name": "ipython",
    "version": 3
   },
   "file_extension": ".py",
   "mimetype": "text/x-python",
   "name": "python",
   "nbconvert_exporter": "python",
   "pygments_lexer": "ipython3",
   "version": "3.11.6"
  }
 },
 "nbformat": 4,
 "nbformat_minor": 5
}
