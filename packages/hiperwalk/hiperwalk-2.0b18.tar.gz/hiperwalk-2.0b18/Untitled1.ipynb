{
 "cells": [
  {
   "cell_type": "code",
   "execution_count": 2,
   "id": "18ddd16e",
   "metadata": {},
   "outputs": [
    {
     "data": {
      "text/plain": [
       "<hiperwalk.quantum_walk.coined.Coined object at 0x7a4f0e726d40>"
      ]
     },
     "execution_count": 2,
     "metadata": {},
     "output_type": "execute_result"
    }
   ],
   "source": [
    "import hiperwalk as hpw\n",
    "import numpy as np\n",
    "\n",
    "N = 128\n",
    "# adjacency matrix of complete graph with self loops\n",
    "A = np.ones((N, N))\n",
    "graph = hpw.Graph(A)\n",
    "qw = hpw.Coined(graph, shift='flipflop', coin='G', marked={'-G': [0]})\n",
    "qw"
   ]
  }
 ],
 "metadata": {
  "kernelspec": {
   "display_name": "Python 3.10 (XPython Raw)",
   "language": "python",
   "name": "xpython-raw"
  },
  "language_info": {
   "file_extension": ".py",
   "mimetype": "text/x-python",
   "name": "python",
   "version": "3.10.13"
  }
 },
 "nbformat": 4,
 "nbformat_minor": 5
}
