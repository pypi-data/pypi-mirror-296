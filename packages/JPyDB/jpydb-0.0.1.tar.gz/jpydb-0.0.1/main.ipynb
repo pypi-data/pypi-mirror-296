{
 "cells": [
  {
   "cell_type": "code",
   "execution_count": 3,
   "metadata": {},
   "outputs": [],
   "source": [
    "from services.JsonDBManager import JsonDBManager\n",
    "from services.JsonDB import JsonDB\n",
    "\n",
    "from utils import execute\n"
   ]
  },
  {
   "cell_type": "code",
   "execution_count": 4,
   "metadata": {},
   "outputs": [
    {
     "data": {
      "text/plain": [
       "{'b=2': {'a': 0, 'b': 2}, 'b=3': {'a': 0, 'b': 3}}"
      ]
     },
     "execution_count": 4,
     "metadata": {},
     "output_type": "execute_result"
    }
   ],
   "source": [
    "json_client = JsonDB()\n",
    "json_manager = JsonDBManager()\n",
    "json_manager.create(\"test\", [\"a\"], [\"b\"])\n",
    "json_client.put_items(\"test\", \n",
    "    [{\n",
    "        \"a\": 1, \"b\": 1\n",
    "    }])\n",
    "json_client.put_items(\"test\",\n",
    "    {\n",
    "        \"a\": 0, \"b\": 2\n",
    "    })\n",
    "json_client.put_items(\"test\",\n",
    "    {\n",
    "        \"a\": 0, \"b\": 3\n",
    "    }\n",
    ")\n",
    "json_manager.load_partition_data(\"test\", \"a=0\")"
   ]
  },
  {
   "cell_type": "code",
   "execution_count": 11,
   "metadata": {},
   "outputs": [],
   "source": [
    "json_client = JsonDB()\n",
    "json_manager = JsonDBManager()\n",
    "\n",
    "for i in range(0, 10):\n",
    "    for j in range(0, 20):\n",
    "        json_client.put_items(\"test\",\n",
    "            {\n",
    "                \"a\": i, \"b\": j\n",
    "            }\n",
    "        )"
   ]
  },
  {
   "cell_type": "code",
   "execution_count": 4,
   "metadata": {},
   "outputs": [
    {
     "name": "stdout",
     "output_type": "stream",
     "text": [
      "Executing: get_items\n",
      "Time Spent: 0.78990\n",
      "2180\n",
      "Executing: query_items\n",
      "Time Spent: 0.01723\n",
      "2180\n",
      "Executing: get_items\n",
      "Time Spent: 0.03293\n",
      "2180\n",
      "Executing: query_items\n",
      "Time Spent: 0.01594\n",
      "2180\n",
      "Executing: get_items\n",
      "Time Spent: 0.03699\n",
      "2180\n",
      "Executing: query_items\n",
      "Time Spent: 0.01711\n",
      "2180\n",
      "Executing: get_items\n",
      "Time Spent: 0.02236\n",
      "2180\n",
      "Executing: query_items\n",
      "Time Spent: 0.02595\n",
      "2180\n",
      "Executing: get_items\n",
      "Time Spent: 0.02726\n",
      "2180\n",
      "Executing: query_items\n",
      "Time Spent: 0.03656\n",
      "2180\n"
     ]
    }
   ],
   "source": [
    "json_client = JsonDB()\n",
    "\n",
    "print(len(execute(json_client.get_items, \"test\")))\n",
    "print(len(execute(json_client.query_items, \"test\", [{}])))\n",
    "\n",
    "print(len(execute(json_client.get_items, \"test\")))\n",
    "print(len(execute(json_client.query_items, \"test\", [{}])))\n",
    "\n",
    "print(len(execute(json_client.get_items, \"test\")))\n",
    "print(len(execute(json_client.query_items, \"test\", [{}])))\n",
    "\n",
    "print(len(execute(json_client.get_items, \"test\")))\n",
    "print(len(execute(json_client.query_items, \"test\", [{}])))\n",
    "\n",
    "print(len(execute(json_client.get_items, \"test\")))\n",
    "print(len(execute(json_client.query_items, \"test\", [{}])))\n"
   ]
  },
  {
   "cell_type": "code",
   "execution_count": 2,
   "metadata": {},
   "outputs": [
    {
     "name": "stdout",
     "output_type": "stream",
     "text": [
      "Executing: query_items\n",
      "Time Spent: 0.00152\n",
      "1\n",
      "Executing: query_items\n",
      "Time Spent: 0.00457\n",
      "10\n",
      "Executing: query_items\n",
      "Time Spent: 0.00560\n",
      "10\n",
      "Executing: query_items\n",
      "Time Spent: 0.00300\n",
      "200\n",
      "Executing: query_items\n",
      "Time Spent: 0.00300\n",
      "10\n"
     ]
    }
   ],
   "source": [
    "json_client = JsonDB()\n",
    "print(len(execute(json_client.query_items, \"test\", [{\"a\": 0, \"b\": 0}])))\n",
    "print(len(execute(json_client.query_items, \"test\", [{\"a\": i, \"b\": 0} for i in range(0, 10)])))\n",
    "print(len(execute(json_client.query_items, \"test\", [{\"a\": i, \"b\": 0} for i in range(0, 25)])))\n",
    "print(len(execute(json_client.query_items, \"test\", [{}])))\n",
    "print(len(execute(json_client.query_items, \"test\", [{\"b\": 0}])))\n"
   ]
  },
  {
   "cell_type": "code",
   "execution_count": 2,
   "metadata": {},
   "outputs": [
    {
     "name": "stdout",
     "output_type": "stream",
     "text": [
      "{'a': 0, 'b': 0}\n",
      "{'a': 0, 'b': 1}\n",
      "{'a': 0, 'b': 2}\n",
      "{'a': 0, 'b': 3}\n",
      "{'a': 0, 'b': 4}\n",
      "{'a': 0, 'b': 5}\n",
      "{'a': 0, 'b': 6}\n",
      "{'a': 0, 'b': 7}\n",
      "{'a': 0, 'b': 8}\n",
      "{'a': 0, 'b': 9}\n",
      "{'a': 0, 'b': 10}\n",
      "{'a': 0, 'b': 11}\n",
      "{'a': 0, 'b': 12}\n",
      "{'a': 0, 'b': 13}\n",
      "{'a': 0, 'b': 14}\n",
      "{'a': 0, 'b': 15}\n",
      "{'a': 0, 'b': 16}\n",
      "{'a': 0, 'b': 17}\n",
      "{'a': 0, 'b': 18}\n",
      "{'a': 0, 'b': 19}\n",
      "{'a': 1, 'b': 0}\n",
      "{'a': 1, 'b': 1}\n",
      "{'a': 1, 'b': 2}\n",
      "{'a': 1, 'b': 3}\n",
      "{'a': 1, 'b': 4}\n",
      "{'a': 1, 'b': 5}\n",
      "{'a': 1, 'b': 6}\n",
      "{'a': 1, 'b': 7}\n",
      "{'a': 1, 'b': 8}\n",
      "{'a': 1, 'b': 9}\n",
      "{'a': 1, 'b': 10}\n",
      "{'a': 1, 'b': 11}\n",
      "{'a': 1, 'b': 12}\n",
      "{'a': 1, 'b': 13}\n",
      "{'a': 1, 'b': 14}\n",
      "{'a': 1, 'b': 15}\n",
      "{'a': 1, 'b': 16}\n",
      "{'a': 1, 'b': 17}\n",
      "{'a': 1, 'b': 18}\n",
      "{'a': 1, 'b': 19}\n",
      "{'a': 2, 'b': 0}\n",
      "{'a': 2, 'b': 1}\n",
      "{'a': 2, 'b': 2}\n",
      "{'a': 2, 'b': 3}\n",
      "{'a': 2, 'b': 4}\n",
      "{'a': 2, 'b': 5}\n",
      "{'a': 2, 'b': 6}\n",
      "{'a': 2, 'b': 7}\n",
      "{'a': 2, 'b': 8}\n",
      "{'a': 2, 'b': 9}\n",
      "{'a': 2, 'b': 10}\n",
      "{'a': 2, 'b': 11}\n",
      "{'a': 2, 'b': 12}\n",
      "{'a': 2, 'b': 13}\n",
      "{'a': 2, 'b': 14}\n",
      "{'a': 2, 'b': 15}\n",
      "{'a': 2, 'b': 16}\n",
      "{'a': 2, 'b': 17}\n",
      "{'a': 2, 'b': 18}\n",
      "{'a': 2, 'b': 19}\n",
      "{'a': 3, 'b': 0}\n",
      "{'a': 3, 'b': 1}\n",
      "{'a': 3, 'b': 2}\n",
      "{'a': 3, 'b': 3}\n",
      "{'a': 3, 'b': 4}\n",
      "{'a': 3, 'b': 5}\n",
      "{'a': 3, 'b': 6}\n",
      "{'a': 3, 'b': 7}\n",
      "{'a': 3, 'b': 8}\n",
      "{'a': 3, 'b': 9}\n",
      "{'a': 3, 'b': 10}\n",
      "{'a': 3, 'b': 11}\n",
      "{'a': 3, 'b': 12}\n",
      "{'a': 3, 'b': 13}\n",
      "{'a': 3, 'b': 14}\n",
      "{'a': 3, 'b': 15}\n",
      "{'a': 3, 'b': 16}\n",
      "{'a': 3, 'b': 17}\n",
      "{'a': 3, 'b': 18}\n",
      "{'a': 3, 'b': 19}\n",
      "{'a': 4, 'b': 0}\n",
      "{'a': 4, 'b': 1}\n",
      "{'a': 4, 'b': 2}\n",
      "{'a': 4, 'b': 3}\n",
      "{'a': 4, 'b': 4}\n",
      "{'a': 4, 'b': 5}\n",
      "{'a': 4, 'b': 6}\n",
      "{'a': 4, 'b': 7}\n",
      "{'a': 4, 'b': 8}\n",
      "{'a': 4, 'b': 9}\n",
      "{'a': 4, 'b': 10}\n",
      "{'a': 4, 'b': 11}\n",
      "{'a': 4, 'b': 12}\n",
      "{'a': 4, 'b': 13}\n",
      "{'a': 4, 'b': 14}\n",
      "{'a': 4, 'b': 15}\n",
      "{'a': 4, 'b': 16}\n",
      "{'a': 4, 'b': 17}\n",
      "{'a': 4, 'b': 18}\n",
      "{'a': 4, 'b': 19}\n",
      "{'a': 5, 'b': 0}\n",
      "{'a': 5, 'b': 1}\n",
      "{'a': 5, 'b': 2}\n",
      "{'a': 5, 'b': 3}\n",
      "{'a': 5, 'b': 4}\n",
      "{'a': 5, 'b': 5}\n",
      "{'a': 5, 'b': 6}\n",
      "{'a': 5, 'b': 7}\n",
      "{'a': 5, 'b': 8}\n",
      "{'a': 5, 'b': 9}\n",
      "{'a': 5, 'b': 10}\n",
      "{'a': 5, 'b': 11}\n",
      "{'a': 5, 'b': 12}\n",
      "{'a': 5, 'b': 13}\n",
      "{'a': 5, 'b': 14}\n",
      "{'a': 5, 'b': 15}\n",
      "{'a': 5, 'b': 16}\n",
      "{'a': 5, 'b': 17}\n",
      "{'a': 5, 'b': 18}\n",
      "{'a': 5, 'b': 19}\n",
      "{'a': 6, 'b': 0}\n",
      "{'a': 6, 'b': 1}\n",
      "{'a': 6, 'b': 2}\n",
      "{'a': 6, 'b': 3}\n",
      "{'a': 6, 'b': 4}\n",
      "{'a': 6, 'b': 5}\n",
      "{'a': 6, 'b': 6}\n",
      "{'a': 6, 'b': 7}\n",
      "{'a': 6, 'b': 8}\n",
      "{'a': 6, 'b': 9}\n",
      "{'a': 6, 'b': 10}\n",
      "{'a': 6, 'b': 11}\n",
      "{'a': 6, 'b': 12}\n",
      "{'a': 6, 'b': 13}\n",
      "{'a': 6, 'b': 14}\n",
      "{'a': 6, 'b': 15}\n",
      "{'a': 6, 'b': 16}\n",
      "{'a': 6, 'b': 17}\n",
      "{'a': 6, 'b': 18}\n",
      "{'a': 6, 'b': 19}\n",
      "{'a': 7, 'b': 0}\n",
      "{'a': 7, 'b': 1}\n",
      "{'a': 7, 'b': 2}\n",
      "{'a': 7, 'b': 3}\n",
      "{'a': 7, 'b': 4}\n",
      "{'a': 7, 'b': 5}\n",
      "{'a': 7, 'b': 6}\n",
      "{'a': 7, 'b': 7}\n",
      "{'a': 7, 'b': 8}\n",
      "{'a': 7, 'b': 9}\n",
      "{'a': 7, 'b': 10}\n",
      "{'a': 7, 'b': 11}\n",
      "{'a': 7, 'b': 12}\n",
      "{'a': 7, 'b': 13}\n",
      "{'a': 7, 'b': 14}\n",
      "{'a': 7, 'b': 15}\n",
      "{'a': 7, 'b': 16}\n",
      "{'a': 7, 'b': 17}\n",
      "{'a': 7, 'b': 18}\n",
      "{'a': 7, 'b': 19}\n",
      "{'a': 8, 'b': 0}\n",
      "{'a': 8, 'b': 1}\n",
      "{'a': 8, 'b': 2}\n",
      "{'a': 8, 'b': 3}\n",
      "{'a': 8, 'b': 4}\n",
      "{'a': 8, 'b': 5}\n",
      "{'a': 8, 'b': 6}\n",
      "{'a': 8, 'b': 7}\n",
      "{'a': 8, 'b': 8}\n",
      "{'a': 8, 'b': 9}\n",
      "{'a': 8, 'b': 10}\n",
      "{'a': 8, 'b': 11}\n",
      "{'a': 8, 'b': 12}\n",
      "{'a': 8, 'b': 13}\n",
      "{'a': 8, 'b': 14}\n",
      "{'a': 8, 'b': 15}\n",
      "{'a': 8, 'b': 16}\n",
      "{'a': 8, 'b': 17}\n",
      "{'a': 8, 'b': 18}\n",
      "{'a': 8, 'b': 19}\n",
      "{'a': 9, 'b': 0}\n",
      "{'a': 9, 'b': 1}\n",
      "{'a': 9, 'b': 2}\n",
      "{'a': 9, 'b': 3}\n",
      "{'a': 9, 'b': 4}\n",
      "{'a': 9, 'b': 5}\n",
      "{'a': 9, 'b': 6}\n",
      "{'a': 9, 'b': 7}\n",
      "{'a': 9, 'b': 8}\n",
      "{'a': 9, 'b': 9}\n",
      "{'a': 9, 'b': 10}\n",
      "{'a': 9, 'b': 11}\n",
      "{'a': 9, 'b': 12}\n",
      "{'a': 9, 'b': 13}\n",
      "{'a': 9, 'b': 14}\n",
      "{'a': 9, 'b': 15}\n",
      "{'a': 9, 'b': 16}\n",
      "{'a': 9, 'b': 17}\n",
      "{'a': 9, 'b': 18}\n",
      "{'a': 9, 'b': 19}\n"
     ]
    }
   ],
   "source": [
    "json_client = JsonDB()\n",
    "json_manager = JsonDBManager()\n",
    "\n",
    "res = json_client.get_items(\"test\")\n",
    "for item in res: print(item)"
   ]
  },
  {
   "cell_type": "code",
   "execution_count": 7,
   "metadata": {},
   "outputs": [
    {
     "name": "stdout",
     "output_type": "stream",
     "text": [
      "Executing: get_items\n",
      "Time Spent: 0.01215\n",
      "0\n",
      "Executing: delete_items\n",
      "Time Spent: 0.00000\n",
      "Executing: get_items\n",
      "Time Spent: 0.00000\n",
      "0\n"
     ]
    }
   ],
   "source": [
    "json_client = JsonDB()\n",
    "\n",
    "print(len(execute(json_client.get_items, \"test\")))\n",
    "execute(json_client.delete_items, \"test\", [{}])\n",
    "# json_client.delete_items(\"test\", [{\"a\": 2, \"b\": 1}, {\"a\": 1, \"b\": 2}, {\"a\": 1, \"b\": 3}])\n",
    "print(len(execute(json_client.get_items, \"test\")))\n",
    "# json_client.delete_items(\"test\", [{\"a\": 3}])\n",
    "# print(len(execute(json_client.get_items, \"test\")))\n"
   ]
  },
  {
   "cell_type": "code",
   "execution_count": 2,
   "metadata": {},
   "outputs": [
    {
     "name": "stdout",
     "output_type": "stream",
     "text": [
      "['test']\n",
      "[]\n"
     ]
    }
   ],
   "source": [
    "json_manager = JsonDBManager()\n",
    "print(json_manager.list_databases())\n",
    "json_manager.delete(\"test\")\n",
    "print(json_manager.list_databases())\n"
   ]
  },
  {
   "cell_type": "code",
   "execution_count": 9,
   "metadata": {},
   "outputs": [
    {
     "name": "stdout",
     "output_type": "stream",
     "text": [
      "['test']\n"
     ]
    },
    {
     "data": {
      "text/plain": [
       "[]"
      ]
     },
     "execution_count": 9,
     "metadata": {},
     "output_type": "execute_result"
    }
   ],
   "source": [
    "print(json_manager.list_databases())\n",
    "json_manager.list_database_partitions(\"test\")"
   ]
  },
  {
   "cell_type": "code",
   "execution_count": 10,
   "metadata": {},
   "outputs": [
    {
     "name": "stdout",
     "output_type": "stream",
     "text": [
      "[]\n"
     ]
    }
   ],
   "source": [
    "print(json_client.query_items(\"test\", [{\"a\": 0 ,\"c\": 2, \"b\": 0}]))"
   ]
  },
  {
   "cell_type": "code",
   "execution_count": 18,
   "metadata": {},
   "outputs": [
    {
     "data": {
      "text/plain": [
       "<Response [400]>"
      ]
     },
     "execution_count": 18,
     "metadata": {},
     "output_type": "execute_result"
    }
   ],
   "source": [
    "import requests\n",
    "import json\n",
    "\n",
    "requests.put(\"http://localhost:10000/put_items\", params={\"db_name\": \"test\"}, headers={\"Content-Type\": \"application/json\"}, data={\"a\": 0, \"b\": 1, \"c\": 4})"
   ]
  }
 ],
 "metadata": {
  "kernelspec": {
   "display_name": "Python 3",
   "language": "python",
   "name": "python3"
  },
  "language_info": {
   "codemirror_mode": {
    "name": "ipython",
    "version": 3
   },
   "file_extension": ".py",
   "mimetype": "text/x-python",
   "name": "python",
   "nbconvert_exporter": "python",
   "pygments_lexer": "ipython3",
   "version": "3.12.5"
  }
 },
 "nbformat": 4,
 "nbformat_minor": 2
}
