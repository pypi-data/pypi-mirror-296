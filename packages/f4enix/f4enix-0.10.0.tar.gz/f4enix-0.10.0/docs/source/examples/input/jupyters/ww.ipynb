{
 "cells": [
  {
   "attachments": {},
   "cell_type": "markdown",
   "metadata": {},
   "source": [
    "## Working with weight window files and GVRs"
   ]
  },
  {
   "attachments": {},
   "cell_type": "markdown",
   "metadata": {},
   "source": [
    "The ww_gvr module can operate on Weight Window files to, for example, reduce the likelihood of long history problems, or to add or remove a secondary particle.\n",
    "It can also generate Global Variance Reduction files (GVR) by reading a Meshtally file.\n",
    "This module can be used via Python scripting or through a command line interface."
   ]
  },
  {
   "attachments": {},
   "cell_type": "markdown",
   "metadata": {},
   "source": [
    "### Example of use via Python scripting"
   ]
  },
  {
   "cell_type": "code",
   "execution_count": 1,
   "metadata": {},
   "outputs": [
    {
     "name": "stdout",
     "output_type": "stream",
     "text": [
      " ww_simple_cart weight window\n",
      "       ----From---- -----To----- --No. Bins--\n",
      " I -->    -15.0         15.0          2      \n",
      " J -->    -15.0         16.0          3      \n",
      " K -->    -15.0         20.0          1      \n",
      "\n",
      " Cartesian coordinates, 6 voxels.\n",
      "\n",
      " The weight window contains 1 particle/s\n",
      "\n",
      " ---------------------Neutron----------------------\n",
      " Energy bins:         [100.0]\n",
      " Min value:           8.98E-02\n",
      " Max value:           6.73E-01\n",
      " No.Bins > 0 [%]:     100.0%\n",
      " Average ratio:       5.97E+00\n",
      " Max ratio:           6.74E+00\n"
     ]
    }
   ],
   "source": [
    "from f4enix.input.ww_gvr import WW\n",
    "\n",
    "# Load the weight window by reading a WW file\n",
    "ww = WW.load_from_ww_file(\"ww_simple_cart\")\n",
    "\n",
    "print(ww)"
   ]
  },
  {
   "cell_type": "code",
   "execution_count": null,
   "metadata": {},
   "outputs": [
    {
     "name": "stdout",
     "output_type": "stream",
     "text": [
      " ww_simple_cart weight window\n",
      "       ----From---- -----To----- --No. Bins--\n",
      " I -->    -15.0         15.0          2      \n",
      " J -->    -15.0         16.0          3      \n",
      " K -->    -15.0         20.0          1      \n",
      "\n",
      " Cartesian coordinates, 6 voxels.\n",
      "\n",
      " The weight window contains 2 particle/s\n",
      "\n",
      " ---------------------Neutron----------------------\n",
      " Energy bins:         [100.0]\n",
      " Min value:           3.28E-01\n",
      " Max value:           8.99E-01\n",
      " No.Bins > 0 [%]:     100.0%\n",
      " Average ratio:       2.44E+00\n",
      " Max ratio:           2.60E+00\n",
      "\n",
      " ----------------------Photon----------------------\n",
      " Energy bins:         [100.0]\n",
      " Min value:           6.57E-02\n",
      " Max value:           1.80E-01\n",
      " No.Bins > 0 [%]:     100.0%\n",
      " Average ratio:       2.44E+00\n",
      " Max ratio:           2.60E+00\n"
     ]
    }
   ],
   "source": [
    "import tempfile\n",
    "from pathlib import Path\n",
    "import os\n",
    "\n",
    "# Normalize the weight window\n",
    "ww.multiply(1.2)\n",
    "\n",
    "# Soft the weight window\n",
    "ww.soften(0.5)\n",
    "\n",
    "# Add a secondary particle\n",
    "ww.add_particle(norm=0.2, soft=1.)\n",
    "\n",
    "# Ensure that there are no high ratios between voxels to avoid long histories\n",
    "ww.mitigate_long_histories(max_ratio=10.)\n",
    "\n",
    "with tempfile.TemporaryDirectory() as outdirname:\n",
    "    outdir = Path(outdirname)\n",
    "\n",
    "    # Save the modified ww to a new file as outfile:\n",
    "    ww.write_to_ww_file(os.path.join(outdir, \"mod_ww\"))\n",
    "    # Export the ww as a VTK to visualize it in Paraview\n",
    "    ww.export_as_vtk(os.path.join(outdir, \"mod_ww.vts\"))\n",
    "\n",
    "print(ww)"
   ]
  },
  {
   "cell_type": "code",
   "execution_count": null,
   "metadata": {},
   "outputs": [],
   "source": [
    "# Uncomment for an interactive plot\n",
    "# ww.plot()"
   ]
  },
  {
   "attachments": {},
   "cell_type": "markdown",
   "metadata": {},
   "source": [
    "### Creation of a GVR"
   ]
  },
  {
   "cell_type": "code",
   "execution_count": 3,
   "metadata": {},
   "outputs": [
    {
     "name": "stdout",
     "output_type": "stream",
     "text": [
      " meshtally_cart weight window\n",
      "       ----From---- -----To----- --No. Bins--\n",
      " I -->    -10.0         20.0          3      \n",
      " J -->     20.0         40.0          4      \n",
      " K -->     15.0         25.0          2      \n",
      "\n",
      " Cartesian coordinates, 24 voxels.\n",
      "\n",
      " The weight window contains 1 particle/s\n",
      "\n",
      " ---------------------Neutron----------------------\n",
      " Energy bins:         [100.0]\n",
      " Min value:           1.30E-01\n",
      " Max value:           3.33E-01\n",
      " No.Bins > 0 [%]:     100.0%\n",
      " Average ratio:       1.25E+00\n",
      " Max ratio:           1.31E+00\n"
     ]
    }
   ],
   "source": [
    "gvr = WW.create_gvr_from_meshtally_file(\n",
    "    \"meshtally_cart\", \n",
    "    maximum_splitting_ratio=5.0, \n",
    "    softening_factor=1.0\n",
    "    )\n",
    "print(gvr)"
   ]
  },
  {
   "attachments": {},
   "cell_type": "markdown",
   "metadata": {},
   "source": [
    "### Use via a Command Line Interface\n",
    "The CLI can be invoked by `python -m f4enix.input.ww_gvr` \n"
   ]
  }
 ],
 "metadata": {
  "kernelspec": {
   "display_name": "f4enix",
   "language": "python",
   "name": "python3"
  },
  "language_info": {
   "codemirror_mode": {
    "name": "ipython",
    "version": 3
   },
   "file_extension": ".py",
   "mimetype": "text/x-python",
   "name": "python",
   "nbconvert_exporter": "python",
   "pygments_lexer": "ipython3",
   "version": "3.10.13"
  }
 },
 "nbformat": 4,
 "nbformat_minor": 2
}
