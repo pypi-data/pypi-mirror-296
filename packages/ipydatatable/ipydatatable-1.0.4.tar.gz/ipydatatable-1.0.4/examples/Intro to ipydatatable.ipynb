{
 "cells": [
  {
   "cell_type": "markdown",
   "metadata": {},
   "source": [
    "# Intro to ipydatatable\n",
    "This notebook is an introduction to the multiple features that can be found inside the library. if you would like some extra documentation, you can go to [Readthedoc](https://ipydatatable.readthedocs.io/en/latest/)"
   ]
  },
  {
   "cell_type": "markdown",
   "metadata": {},
   "source": [
    "## What is ipydatatable?\n",
    "ipydatatable is a package build using the [Jupyter Widget cookiecutter](https://github.com/jupyter-widgets/widget-cookiecutter) in order to build an interactive Pandas DataFrame inside the Jupyter Environment. The package utilizes the [jQuery DataTables](https://datatables.net/) library to convert the Pandas DataFrame into an interactive table."
   ]
  },
  {
   "cell_type": "markdown",
   "metadata": {},
   "source": [
    "## How to use it\n",
    "In this section we will go over how to install and to initialize the libray and some of the features on the widget."
   ]
  },
  {
   "cell_type": "markdown",
   "metadata": {},
   "source": [
    "### Importing the library\n",
    "To import the library its as simple as importing ipydatatable. This will include all the classes needed which in this case is just called  `InteractiveTable`. In some older versions of ipython notebook you may need to initializa the extension. the comamnd for that will be commented out."
   ]
  },
  {
   "cell_type": "code",
   "execution_count": 1,
   "metadata": {},
   "outputs": [
    {
     "name": "stdout",
     "output_type": "stream",
     "text": [
      "Enable ipydatatable extension by running \"jupyter nbextension enable --py --sys-prefix ipydatatable\" in a terminal and refresh screen\n"
     ]
    }
   ],
   "source": [
    "# In some older versions of notebooks you may need to run this command after installing the library\n",
    "# jupyter nbextension enable --py  ipydatatable\n",
    "\n",
    "import ipydatatable\n",
    "import numpy as np\n",
    "import pandas as pd"
   ]
  },
  {
   "cell_type": "code",
   "execution_count": 2,
   "metadata": {},
   "outputs": [
    {
     "data": {
      "text/plain": [
       "'1.0.4.'"
      ]
     },
     "execution_count": 2,
     "metadata": {},
     "output_type": "execute_result"
    }
   ],
   "source": [
    "ipydatatable.__version__"
   ]
  },
  {
   "cell_type": "markdown",
   "metadata": {},
   "source": [
    "### Initializing the Interactive Table\n",
    "To initialize the interactive table, call `ipydatatable.InteractiveTable()`. This function has 1 parameter that is required and several that are optional. The following are the parameters for the function:\n",
    "\n",
    " - **table**: Data to be passed to the table. This can be in 3 formats but we encourage the usage of `Pandas DataFrame`. The other forms are a dictionary in the form of `{\"col1\":[row1, row2]}` or a list in the form of `[{\"col1\":row1},{\"col1\":row2}]`\n",
    " - **column_filter**: When set to true, this allows the user to show a search box per column. Default to True.\n",
    " - **text_limit**: Limit for the amount of characters to display per cell in the table. Defaults to 1000.\n",
    " - **sort_column**: Column name to initialize the sorting of the table. Defaults to desc order the first column.\n",
    " - **columns**: List containing the names of the columns to hide/show at initialization. Default to empty list.\n",
    " - **init_state**: String to determine if the columns list should be used to hide or show the columns. Takes value of `show` to show the columns in the list or `hide` to hide said columns. Defaulted to hide because of the empty list.\n",
    " - **selected_data**: Contains data from selected rows in the table.\n",
    " - **selected_index_row**: Contains the index of the rows selected in the table. This is used to initialize seleted rows in the table. You pass an array of indexes.\n",
    " - **child_group_select**:Boolean value that allows the group column to be converted to selectable buttons on the child dropdown.\n",
    "  - **selected_group**: List that you can pass the values of the selected groups buttons to be initialize. It has to be passed as the following format `row_index:key:value`."
   ]
  },
  {
   "cell_type": "code",
   "execution_count": 3,
   "metadata": {},
   "outputs": [],
   "source": [
    "table = ipydatatable.InteractiveTable()"
   ]
  },
  {
   "cell_type": "markdown",
   "metadata": {},
   "source": [
    "Lets see a simple example using DataFrames"
   ]
  },
  {
   "cell_type": "code",
   "execution_count": 4,
   "metadata": {},
   "outputs": [],
   "source": [
    "cols = 30\n",
    "df = pd.DataFrame(np.random.randint(10000,1000000,size=(100, cols)), columns=[x for x in range(0,cols)]) "
   ]
  },
  {
   "cell_type": "code",
   "execution_count": 5,
   "metadata": {
    "tags": []
   },
   "outputs": [
    {
     "data": {
      "application/vnd.jupyter.widget-view+json": {
       "model_id": "3ad318ffb4b148b5ab143c0402080200",
       "version_major": 2,
       "version_minor": 0
      },
      "text/plain": [
       "InteractiveTable(table=[{'0': 855380, '1': 868195, '2': 599442, '3': 268371, '4': 772942, '5': 784285, '6': 70…"
      ]
     },
     "execution_count": 5,
     "metadata": {},
     "output_type": "execute_result"
    }
   ],
   "source": [
    "table = ipydatatable.InteractiveTable(table=df, text_limit=120)\n",
    "table"
   ]
  },
  {
   "cell_type": "code",
   "execution_count": 6,
   "metadata": {},
   "outputs": [
    {
     "data": {
      "text/plain": [
       "[]"
      ]
     },
     "execution_count": 6,
     "metadata": {},
     "output_type": "execute_result"
    }
   ],
   "source": [
    "table.selected_data"
   ]
  },
  {
   "cell_type": "markdown",
   "metadata": {},
   "source": [
    "## Parameters\n",
    "Now we will go over each of the table properties that have been brought up above and some extras."
   ]
  },
  {
   "cell_type": "markdown",
   "metadata": {},
   "source": [
    "### Table\n",
    "This is the most important parameter since it contains the data to be displayed. It can be initialized in 3 ways but it is encourage to use a Pandas DataFrame as the format. We will show all three with examples below."
   ]
  },
  {
   "cell_type": "markdown",
   "metadata": {},
   "source": [
    "#### Pandas DataFrame\n",
    "DataFrame is a 2-dimensional labeled data structure with columns of potentially different types. You can think of it like a spreadsheet or SQL table, or a dict of Series objects. It is generally the most commonly used pandas object. For more information you can click [here](https://pandas.pydata.org/pandas-docs/stable/user_guide/dsintro.html#dataframe). Lets look at an example"
   ]
  },
  {
   "cell_type": "code",
   "execution_count": 7,
   "metadata": {},
   "outputs": [
    {
     "data": {
      "application/vnd.jupyter.widget-view+json": {
       "model_id": "b98e3ca46263406e959ceee9091360cc",
       "version_major": 2,
       "version_minor": 0
      },
      "text/plain": [
       "InteractiveTable(table=[{'A': 1, 'B': 2.0, 'C': 3}, {'A': 5, 'B': 1.0, 'C': 8}, {'A': 9, 'B': None, 'C': 4}])"
      ]
     },
     "execution_count": 7,
     "metadata": {},
     "output_type": "execute_result"
    }
   ],
   "source": [
    "# Last Dict in the list is missing column B so that will be filled with a null.\n",
    "lt = [\n",
    "    {\"A\":1,\"B\":2,\"C\":3},\n",
    "    {\"A\":5,\"B\":1,\"C\":8},\n",
    "    {\"A\":9,\"C\":4},\n",
    "]\n",
    "df = pd.DataFrame(lt)\n",
    "\n",
    "# uncomment the following if you want to fill the null values\n",
    "# df[\"B\"] = df[\"B\"].fillna(\"This is empty\")\n",
    "table = ipydatatable.InteractiveTable(table=df)\n",
    "table"
   ]
  },
  {
   "cell_type": "markdown",
   "metadata": {},
   "source": [
    "#### Dictionary\n",
    "You can also pass a dictionary into as the table parameter. The format is {\"col1\":[row1, row2]...}, same format as the pandas frame but our library is not doing any checks for missing values which pandas does."
   ]
  },
  {
   "cell_type": "code",
   "execution_count": 8,
   "metadata": {},
   "outputs": [],
   "source": [
    "dt = {\"A\":[1,2,3,4,5],\"B\":[6,7,8,9,10],\"C\":[1,2,3,4,5],\"D\":[6,7,8,9,10]}\n",
    "table = ipydatatable.InteractiveTable(table=dt)\n",
    "#table"
   ]
  },
  {
   "cell_type": "markdown",
   "metadata": {},
   "source": [
    "#### List\n",
    "This will not work if the dicts dont have the same columns. Recommended to use Pandas to deal with this."
   ]
  },
  {
   "cell_type": "code",
   "execution_count": 9,
   "metadata": {},
   "outputs": [],
   "source": [
    "lt = [\n",
    "    {\"A\":1,\"B\":1,\"C\":4},\n",
    "    {\"A\":1,\"B\":1,\"C\":4},\n",
    "    {\"A\":1,\"B\":2,\"C\":4},\n",
    "]\n",
    "table = ipydatatable.InteractiveTable(table=lt)\n",
    "#table"
   ]
  },
  {
   "cell_type": "markdown",
   "metadata": {},
   "source": [
    "### Column Filter\n",
    "The table has a general table filter, meaning you can search for something on all the columns at once. If you would like to filter a column at a time, you can set `column_filter` to `True` and you will have a search bar for each column.\n",
    "\n",
    "In the below example we will set column_filter to `False` in order to see the differences between having and not having the filter boxes."
   ]
  },
  {
   "cell_type": "code",
   "execution_count": 10,
   "metadata": {},
   "outputs": [],
   "source": [
    "df = pd.DataFrame({\"A\":[1,2,3,4,5],\"B\":[6,7,8,9,10],\"C\":[1,2,3,4,5],\"D\":[6,7,8,9,10]})\n",
    "table = ipydatatable.InteractiveTable(table=df, column_filter=False)\n",
    "# table"
   ]
  },
  {
   "cell_type": "markdown",
   "metadata": {},
   "source": [
    "### Text Limit\n",
    "This parameter will limit the amount of characters can appear per cell. This means that if you have something that is  longer than `text_limit` it will be truncated. If you wish to view the rest of the value, on the first column you will find a `+` that when press opens a \"child\" row containing the full value that was truncated. The drawback to this feature is that if you are searching the table, either by single column or general search, it will only look at the data from the column until that truncation."
   ]
  },
  {
   "cell_type": "code",
   "execution_count": 11,
   "metadata": {},
   "outputs": [
    {
     "data": {
      "application/vnd.jupyter.widget-view+json": {
       "model_id": "5354449dffb84b06a724b46afcbcbb0e",
       "version_major": 2,
       "version_minor": 0
      },
      "text/plain": [
       "InteractiveTable(table=[{'A': 'This is a little more', 'B': 6, 'C': 1, 'D': 6}, {'A': 2, 'B': 7, 'C': 2, 'D': …"
      ]
     },
     "execution_count": 11,
     "metadata": {},
     "output_type": "execute_result"
    }
   ],
   "source": [
    "df = pd.DataFrame({\"A\":[\"This is a little more\",2,3,4,5],\"B\":[6,7,\"This is more than 10 characters\",9,10],\"C\":[1,2,3,4,5],\"D\":[6,7,8,9,10]})\n",
    "\n",
    "# default is 1000 so we will look at only 10 characters per cell.\n",
    "table = ipydatatable.InteractiveTable(table=df, text_limit=10)\n",
    "table"
   ]
  },
  {
   "cell_type": "markdown",
   "metadata": {},
   "source": [
    "### Hide Columns and Sort Column\n",
    "`Columns` is used to hide/show columns from the beginning of display. Its an array of the columns that want to be displayed or hidden. In order to determine if the columns will be displayed or hidden, you can use the `init_state` parameter and set it to `show` or `hide`. The `sort_column` parameter allows you to sort on initial display. If nothing is set it will use the first column."
   ]
  },
  {
   "cell_type": "code",
   "execution_count": 12,
   "metadata": {},
   "outputs": [
    {
     "data": {
      "application/vnd.jupyter.widget-view+json": {
       "model_id": "8f58b29d9f30438b8afc24b6f5f0e7f7",
       "version_major": 2,
       "version_minor": 0
      },
      "text/plain": [
       "InteractiveTable(columns=['A', 'D'], sort_column='D', table=[{'A': 'This is a little more', 'B': 6, 'C': 1, 'D…"
      ]
     },
     "execution_count": 12,
     "metadata": {},
     "output_type": "execute_result"
    }
   ],
   "source": [
    "df = pd.DataFrame({\"A\":[\"This is a little more\",2,3,4,5],\"B\":[6,7,\"This is more than 10 characters\",9,10],\"C\":[1,2,3,4,5],\"D\":[6,7,8,9,10]})\n",
    "\n",
    "# When hidding you can still get the data back by selecting the columns from the dropdown \"Columns\" button on the top left.\n",
    "table = ipydatatable.InteractiveTable(table=df, columns=[\"A\",\"D\"], init_state=\"hide\" , sort_column=\"D\")\n",
    "table"
   ]
  },
  {
   "cell_type": "code",
   "execution_count": 13,
   "metadata": {},
   "outputs": [
    {
     "data": {
      "text/plain": [
       "['A', 'D']"
      ]
     },
     "execution_count": 13,
     "metadata": {},
     "output_type": "execute_result"
    }
   ],
   "source": [
    "table.columns"
   ]
  },
  {
   "cell_type": "markdown",
   "metadata": {},
   "source": [
    "## DataTable Features\n",
    "There are a couple of features to look at that may be useful to know of. The features are\n",
    "\n",
    "* Group Column\n",
    "* Row selection\n",
    "* Column hidding\n",
    "* Data update/observe\n",
    "    * Column hidden\n",
    "    * Row selected\n",
    "* Move Columns"
   ]
  },
  {
   "cell_type": "markdown",
   "metadata": {},
   "source": [
    "#### Group Column\n",
    "If you have data that you would like to be show the user but not in a column you can set it in the `group` column. The group column can take a dictionary and then display it in a child row. If `text_limit` is reached, it will also be shown in the child row with the group data. Below you can see an example of this feature."
   ]
  },
  {
   "cell_type": "code",
   "execution_count": 13,
   "metadata": {
    "tags": []
   },
   "outputs": [
    {
     "data": {
      "application/vnd.jupyter.widget-view+json": {
       "model_id": "61fd829501074b3ea049148876cf1768",
       "version_major": 2,
       "version_minor": 0
      },
      "text/plain": [
       "InteractiveTable(table=[{'A': 1, 'B': 1, 'C': 4, 'group': {'key1': 'this is a child', 'key2': 'is a child', 'k…"
      ]
     },
     "execution_count": 13,
     "metadata": {},
     "output_type": "execute_result"
    }
   ],
   "source": [
    "lt = [\n",
    "    {\"A\":1,\"B\":1,\"C\":4, \"group\": {\"key1\":\"this is a child\",\"key2\":\"is a child\",\"key3\":\"a child\",\"key4\":\"child\"}},\n",
    "    {\"A\":1,\"B\":1,\"C\":4},\n",
    "    {\"A\":1,\"B\":2,\"C\":\"This is just a tad long\",\"group\": {\"key1\":\"this is a child with text_limit reached\"}},\n",
    "    {\"A\":1,\"B\":1,\"C\":4, \"group\": {\"key1\":\"this is a child\",\"key2\":\"is a child\",\"key3\":\"a child\",\"key4\":\"child\"}},\n",
    "    {\"A\":1,\"B\":1,\"C\":4},\n",
    "    {\"A\":\"Also a tad long\",\"B\":2,\"C\":\"This is just a tad long\",\"group\": {\"key1\":\"this is a child with text_limit reached\"}},\n",
    "]\n",
    "table = ipydatatable.InteractiveTable(table=lt, text_limit=10)\n",
    "table"
   ]
  },
  {
   "cell_type": "markdown",
   "metadata": {},
   "source": [
    "Now if you would like to have a selection for child objects (make buttons of the values in the dictionary) there are two parameters. child_group_select makes the values of the group column dictionary into buttons while the selected_group can be used to initialize the values as selected already. They have to be in the format of `row_index:key:value`"
   ]
  },
  {
   "cell_type": "code",
   "execution_count": 14,
   "metadata": {},
   "outputs": [
    {
     "data": {
      "application/vnd.jupyter.widget-view+json": {
       "model_id": "dd959e5356e44114b76aaf84783d5b4f",
       "version_major": 2,
       "version_minor": 0
      },
      "text/plain": [
       "InteractiveTable(child_group_select=True, selected_group=['2:key1:this is a child with text_limit reached', '5…"
      ]
     },
     "execution_count": 14,
     "metadata": {},
     "output_type": "execute_result"
    }
   ],
   "source": [
    "table = ipydatatable.InteractiveTable(table=lt, text_limit=10, child_group_select=True, selected_group=['2:key1:this is a child with text_limit reached','5:key1:this is a child with text_limit reached'])\n",
    "table"
   ]
  },
  {
   "cell_type": "code",
   "execution_count": null,
   "metadata": {},
   "outputs": [],
   "source": [
    "table.get_selected_groups()"
   ]
  },
  {
   "cell_type": "code",
   "execution_count": 28,
   "metadata": {},
   "outputs": [
    {
     "data": {
      "text/plain": [
       "{'0': {'key2': 'is a child'}}"
      ]
     },
     "execution_count": 28,
     "metadata": {},
     "output_type": "execute_result"
    }
   ],
   "source": [
    "# helper function to use selected group\n",
    "# table.get_selected_groups()\n",
    "\n",
    "# Raw unformatted selected group\n",
    "#table.selected_group\n",
    "\n",
    "# Update selected groups\n",
    "table.set_selected_groups(['0:key2:is a child'])"
   ]
  },
  {
   "cell_type": "code",
   "execution_count": null,
   "metadata": {},
   "outputs": [],
   "source": [
    "table.selected_group"
   ]
  },
  {
   "cell_type": "markdown",
   "metadata": {
    "tags": []
   },
   "source": [
    "#### Row Selection\n",
    "When you click on a row in the table you are selecting that row. You can select multiple rows and then you can retrieve that data with the `selected_data` attribute. This will be updated everytime a row is clicked."
   ]
  },
  {
   "cell_type": "code",
   "execution_count": 15,
   "metadata": {},
   "outputs": [
    {
     "data": {
      "application/vnd.jupyter.widget-view+json": {
       "model_id": "5a2796488bdb413aaf23961b97e0ede1",
       "version_major": 2,
       "version_minor": 0
      },
      "text/plain": [
       "InteractiveTable(table=[{'A': 1, 'B': 1.0, 'C': 4}, {'A': 1, 'B': 1.0, 'C': 4}, {'A': 1, 'B': None, 'C': 4}])"
      ]
     },
     "execution_count": 15,
     "metadata": {},
     "output_type": "execute_result"
    }
   ],
   "source": [
    "lt = [\n",
    "    {\"A\":1,\"B\":1,\"C\":4},\n",
    "    {\"A\":1,\"B\":1,\"C\":4},\n",
    "    {\"A\":1,\"C\":4},\n",
    "]\n",
    "df = pd.DataFrame(lt)\n",
    "# uncomment the following if you want to fill the null values\n",
    "# df[\"B\"] = df[\"B\"].fillna(\"This is empty\")\n",
    "table = ipydatatable.InteractiveTable(table=df)\n",
    "table"
   ]
  },
  {
   "cell_type": "markdown",
   "metadata": {},
   "source": [
    "Now select a row, try the last row that has no value on B and then run the following line"
   ]
  },
  {
   "cell_type": "code",
   "execution_count": null,
   "metadata": {},
   "outputs": [],
   "source": [
    "table.selected_data"
   ]
  },
  {
   "cell_type": "code",
   "execution_count": null,
   "metadata": {},
   "outputs": [],
   "source": [
    "table.selected_index_row = [1]"
   ]
  },
  {
   "cell_type": "markdown",
   "metadata": {},
   "source": [
    "#### Data Updates\n",
    "The Widgets are built on traitlets. This allows us to be able to observe any changes that occur from Javascript to the Python variable. This is useful for two attributes of the library, `hide_columns` and `selected_data`. "
   ]
  },
  {
   "cell_type": "code",
   "execution_count": 16,
   "metadata": {},
   "outputs": [
    {
     "data": {
      "application/vnd.jupyter.widget-view+json": {
       "model_id": "370b0d1114bf4a6aa2f34eb7fc174b9c",
       "version_major": 2,
       "version_minor": 0
      },
      "text/plain": [
       "InteractiveTable(table=[{'A': 1, 'B': 1.0, 'C': 4}, {'A': 1, 'B': 1.0, 'C': 4}, {'A': 1, 'B': None, 'C': 4}])"
      ]
     },
     "execution_count": 16,
     "metadata": {},
     "output_type": "execute_result"
    }
   ],
   "source": [
    "# lets make a table\n",
    "lt = [\n",
    "    {\"A\":1,\"B\":1,\"C\":4},\n",
    "    {\"A\":1,\"B\":1,\"C\":4},\n",
    "    {\"A\":1,\"C\":4},\n",
    "]\n",
    "df = pd.DataFrame(lt)\n",
    "# uncomment the following if you want to fill the null values\n",
    "# df[\"B\"] = df[\"B\"].fillna(\"This is empty\")\n",
    "table = ipydatatable.InteractiveTable(table=df)\n",
    "table"
   ]
  },
  {
   "cell_type": "code",
   "execution_count": null,
   "metadata": {},
   "outputs": [],
   "source": [
    "# Observe functions is looking for what the data change was.\n",
    "def selected_function(change):\n",
    "    print(\"old (rows): \"+str(change['old']))\n",
    "    print(\"new (rows): \"+str(change['new']))\n",
    "    \n",
    "table.observe(selected_function, names=['selected_data', \"columns\"])"
   ]
  },
  {
   "cell_type": "markdown",
   "metadata": {},
   "source": [
    "#### Move Columns\n",
    "A feature that you can try is moving columns around. You can drag them around in order to change their position. The order is not stored at this moment but could be in the future."
   ]
  },
  {
   "cell_type": "code",
   "execution_count": 17,
   "metadata": {},
   "outputs": [
    {
     "data": {
      "application/vnd.jupyter.widget-view+json": {
       "model_id": "009d3a1d8d564827bd5ebc079ab67c71",
       "version_major": 2,
       "version_minor": 0
      },
      "text/plain": [
       "InteractiveTable(table=[{'A': 1, 'B': 1.0, 'C': 4}, {'A': 1, 'B': 1.0, 'C': 4}, {'A': 1, 'B': None, 'C': 4}])"
      ]
     },
     "execution_count": 17,
     "metadata": {},
     "output_type": "execute_result"
    }
   ],
   "source": [
    "# lets make a table\n",
    "lt = [\n",
    "    {\"A\":1,\"B\":1,\"C\":4},\n",
    "    {\"A\":1,\"B\":1,\"C\":4},\n",
    "    {\"A\":1,\"C\":4},\n",
    "]\n",
    "df = pd.DataFrame(lt)\n",
    "# uncomment the following if you want to fill the null values\n",
    "# df[\"B\"] = df[\"B\"].fillna(\"This is empty\")\n",
    "table = ipydatatable.InteractiveTable(table=df)\n",
    "table"
   ]
  },
  {
   "cell_type": "markdown",
   "metadata": {},
   "source": [
    "#### Initialize Rows Selected\n",
    "The way to initialize data selected in the table you add values to `selected_index_row`. The values is the index of the rows in the DataFrame been passed in."
   ]
  },
  {
   "cell_type": "code",
   "execution_count": 19,
   "metadata": {},
   "outputs": [
    {
     "data": {
      "application/vnd.jupyter.widget-view+json": {
       "model_id": "7a80f0995db244609bd52e4511f27f0a",
       "version_major": 2,
       "version_minor": 0
      },
      "text/plain": [
       "InteractiveTable(selected_index_row=[0, 2], table=[{'A': 1, 'B': 1.0, 'C': 4}, {'A': 1, 'B': 1.0, 'C': 4}, {'A…"
      ]
     },
     "execution_count": 19,
     "metadata": {},
     "output_type": "execute_result"
    }
   ],
   "source": [
    "# lets make a table\n",
    "lt = [\n",
    "    {\"A\":1,\"B\":1,\"C\":4},\n",
    "    {\"A\":1,\"B\":1,\"C\":4},\n",
    "    {\"A\":1,\"C\":4},\n",
    "]\n",
    "df = pd.DataFrame(lt)\n",
    "# uncomment the following if you want to fill the null values\n",
    "# df[\"B\"] = df[\"B\"].fillna(\"This is empty\")\n",
    "table = ipydatatable.InteractiveTable(table=df, selected_index_row=[0,2])\n",
    "table"
   ]
  },
  {
   "cell_type": "code",
   "execution_count": null,
   "metadata": {},
   "outputs": [],
   "source": [
    "table.selected_data"
   ]
  },
  {
   "cell_type": "markdown",
   "metadata": {},
   "source": [
    "End code"
   ]
  }
 ],
 "metadata": {
  "kernelspec": {
   "display_name": "Python 3 (ipykernel)",
   "language": "python",
   "name": "python3"
  },
  "language_info": {
   "codemirror_mode": {
    "name": "ipython",
    "version": 3
   },
   "file_extension": ".py",
   "mimetype": "text/x-python",
   "name": "python",
   "nbconvert_exporter": "python",
   "pygments_lexer": "ipython3",
   "version": "3.9.13"
  }
 },
 "nbformat": 4,
 "nbformat_minor": 4
}
