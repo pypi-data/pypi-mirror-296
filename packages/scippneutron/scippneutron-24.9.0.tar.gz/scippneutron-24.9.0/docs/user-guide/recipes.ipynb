{
 "cells": [
  {
   "cell_type": "markdown",
   "id": "97e9b6e1-0d36-491b-8bd4-956925d0d28f",
   "metadata": {},
   "source": [
    "# Recipes: How do I ...?\n",
    "\n",
    "This page contains frequently used code-snippets (\"recipes\").\n",
    "Below, `da` refers to a data array.\n",
    "The examples generally assume that data is in \"tof\" unit (time-of-flight), i.e., no unit conversion was applied yet, and that there is a \"spectrum\" dimension in addition to the \"tof\" dimension.\n",
    "Replace these by the actual dimensions as required.\n",
    "\n",
    "## General\n",
    "\n",
    "### Compute total counts per pixel"
   ]
  },
  {
   "cell_type": "code",
   "execution_count": null,
   "id": "0e02d559-25e5-4f75-b519-e4ed078a89ef",
   "metadata": {},
   "outputs": [],
   "source": [
    "counts = da.sum('tof')  # for histogrammed data\n",
    "counts = da.bins.sum().sum('tof')  # for binned event data"
   ]
  },
  {
   "cell_type": "markdown",
   "id": "3725803f-2e5f-48e5-852b-fd362f5b34d1",
   "metadata": {},
   "source": [
    "## Event data\n",
    "### Compute number of events"
   ]
  },
  {
   "cell_type": "code",
   "execution_count": null,
   "id": "ddeb0acc-db45-4e23-9c42-f8eafda3b445",
   "metadata": {},
   "outputs": [],
   "source": [
    "da.bins.size()  # events per bin (ignoring event weights and event masks)\n",
    "da.bins.size().sum()  # total events from all non-masked bins"
   ]
  },
  {
   "cell_type": "markdown",
   "id": "819d942b-5b72-48f3-8ec1-4bbb5e686f8b",
   "metadata": {},
   "source": [
    "If the events have been normalized the event weights may differ from 1 and `bins.sum()` should be used instead of `bins.size()`.\n",
    "This also respects event masks:"
   ]
  },
  {
   "cell_type": "code",
   "execution_count": null,
   "id": "4aa9b37d-a49f-42b8-a829-3a9ee9ed717f",
   "metadata": {},
   "outputs": [],
   "source": [
    "da.bins.sum()  # effective events per bin\n",
    "da.bins.sum().sum()  # total effective events from all non-masked bins"
   ]
  },
  {
   "cell_type": "markdown",
   "id": "58735af3-1283-47e3-977e-47a877c53b7b",
   "metadata": {},
   "source": [
    "### Mask a time-of-flight region such as a prompt-pulse"
   ]
  },
  {
   "cell_type": "code",
   "execution_count": null,
   "id": "104b0d14-6ee6-4559-97b0-6c98dc15a26f",
   "metadata": {},
   "outputs": [],
   "source": [
    "tof = sc.array(dims=['tof'], unit='ms', values=[tof_min, mask_start, mask_end, tof_max])\n",
    "da = da.bin(tof=tof)  # bin in 'tof', updating prior 'tof' binning if present\n",
    "da.masks['prompt_pulse'] = (tof >= tof['tof', 1]) & (tof < tof['tof', 2])"
   ]
  },
  {
   "cell_type": "markdown",
   "id": "400c1dfb-6c35-4414-a470-8660e539875f",
   "metadata": {},
   "source": [
    "## Plotting"
   ]
  },
  {
   "cell_type": "markdown",
   "id": "4f2f84fe-950a-4586-a124-15dfb307a7d8",
   "metadata": {},
   "source": [
    "### Plot a single spectrum"
   ]
  },
  {
   "cell_type": "code",
   "execution_count": null,
   "id": "52e1e178-e729-49eb-8bec-fa9fbc60ece8",
   "metadata": {},
   "outputs": [],
   "source": [
    "da['spectrum', index].plot()  # plot spectrum with given index\n",
    "# plot spectrum with given spectrum-number, provided da.coords['spectrum'] exists\n",
    "da['spectrum', sc.scalar(spectrum_number)].plot()"
   ]
  },
  {
   "cell_type": "markdown",
   "id": "dceeb08f-dee4-4ece-9840-59e8253695f4",
   "metadata": {},
   "source": [
    "### Plot comparison of multiple spectra"
   ]
  },
  {
   "cell_type": "code",
   "execution_count": null,
   "id": "c4aadf8d-1fc7-406d-87b8-0d7dbb7a3117",
   "metadata": {},
   "outputs": [],
   "source": [
    "spectra = {}\n",
    "spectra['name1'] = da1['spectrum', index1]\n",
    "spectra['name2'] = da1['spectrum', index2]\n",
    "spectra['name3'] = da2['spectrum', index3]\n",
    "sc.plot(spectra)"
   ]
  }
 ],
 "metadata": {
  "kernelspec": {
   "display_name": "Python 3 (ipykernel)",
   "language": "python",
   "name": "python3"
  },
  "language_info": {
   "codemirror_mode": {
    "name": "ipython",
    "version": 3
   },
   "file_extension": ".py",
   "mimetype": "text/x-python",
   "name": "python",
   "nbconvert_exporter": "python",
   "pygments_lexer": "ipython3",
   "version": "3.8.17"
  },
  "nbsphinx": {
   "execute": "never"
  }
 },
 "nbformat": 4,
 "nbformat_minor": 5
}
