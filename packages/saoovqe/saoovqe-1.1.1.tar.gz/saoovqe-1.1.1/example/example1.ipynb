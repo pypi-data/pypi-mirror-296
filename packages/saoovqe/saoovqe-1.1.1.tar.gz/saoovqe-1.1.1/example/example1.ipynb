{
 "cells": [
  {
   "cell_type": "markdown",
   "metadata": {
    "collapsed": false
   },
   "source": [
    "# Example 1: Computation of Energies and Gradients\n",
    "\n",
    "In this example it is shown, how to run the basic energy and gradient computations. Also, the results are compared to\n",
    "CASSCF implementation provided by Psi4 package."
   ]
  },
  {
   "cell_type": "markdown",
   "metadata": {
    "collapsed": false
   },
   "source": [
    "Firstly, we specify geometry of the system given in Cartesian coordinates."
   ]
  },
  {
   "cell_type": "code",
   "metadata": {
    "ExecuteTime": {
     "end_time": "2024-09-11T16:34:23.585619Z",
     "start_time": "2024-09-11T16:34:23.581439Z"
    }
   },
   "source": [
    "symbols = ['N', 'C', 'H', 'H', 'H']\n",
    "coords = [\n",
    "    [0.000000000000, 0.000000000000, 0.000000000000],\n",
    "    [0.000000000000, 0.000000000000, 1.498047000000],\n",
    "    [0.000000000000, -0.938765985000, 2.004775984000],\n",
    "    [0.000000000000, 0.938765985000, 2.004775984000],\n",
    "    [-0.744681452, -0.131307432, -0.634501434]\n",
    "]"
   ],
   "outputs": [],
   "execution_count": 1
  },
  {
   "cell_type": "markdown",
   "metadata": {
    "collapsed": false
   },
   "source": [
    "Subsequently, we specify the system properties."
   ]
  },
  {
   "cell_type": "code",
   "metadata": {
    "collapsed": false,
    "ExecuteTime": {
     "end_time": "2024-09-11T16:34:23.591205Z",
     "start_time": "2024-09-11T16:34:23.587661Z"
    }
   },
   "source": [
    "n_orbs_active = 2\n",
    "n_elec_active = 2\n",
    "charge = 0\n",
    "multiplicity = 1\n",
    "basis = 'sto-3g'"
   ],
   "outputs": [],
   "execution_count": 2
  },
  {
   "cell_type": "markdown",
   "metadata": {
    "collapsed": false
   },
   "source": [
    "Now we construct a `ProblemSet` instance containing the information about our electronic structure problem."
   ]
  },
  {
   "cell_type": "code",
   "metadata": {
    "ExecuteTime": {
     "end_time": "2024-09-11T16:34:25.310583Z",
     "start_time": "2024-09-11T16:34:23.592606Z"
    }
   },
   "source": [
    "import saoovqe\n",
    "import psi4"
   ],
   "outputs": [],
   "execution_count": 3
  },
  {
   "cell_type": "code",
   "metadata": {
    "ExecuteTime": {
     "end_time": "2024-09-11T16:34:25.316089Z",
     "start_time": "2024-09-11T16:34:25.311743Z"
    }
   },
   "source": [
    "saoovqe.__version__"
   ],
   "outputs": [
    {
     "data": {
      "text/plain": [
       "'1.1.0'"
      ]
     },
     "execution_count": 4,
     "metadata": {},
     "output_type": "execute_result"
    }
   ],
   "execution_count": 4
  },
  {
   "cell_type": "code",
   "metadata": {
    "collapsed": false,
    "ExecuteTime": {
     "end_time": "2024-09-11T16:34:27.122732Z",
     "start_time": "2024-09-11T16:34:25.317126Z"
    }
   },
   "source": [
    "\n",
    "problem = saoovqe.problem.ProblemSet(\n",
    "    symbols=symbols,\n",
    "    coords=coords,\n",
    "    charge=charge,\n",
    "    multiplicity=multiplicity,\n",
    "    n_electrons_active=n_elec_active,\n",
    "    n_orbitals_active=n_orbs_active,\n",
    "    basis_name=basis\n",
    ")"
   ],
   "outputs": [
    {
     "name": "stderr",
     "output_type": "stream",
     "text": [
      "2024-09-11 18:34:27,120 - SAOOVQE.logger - INFO - SecondQuantizedProblem was created.\n"
     ]
    }
   ],
   "execution_count": 5
  },
  {
   "cell_type": "markdown",
   "metadata": {
    "collapsed": false
   },
   "source": [
    "The next one is a set of circuits representing orthogonal states used to construct the whole circuits\n",
    "representing state vectors later."
   ]
  },
  {
   "cell_type": "code",
   "metadata": {
    "ExecuteTime": {
     "end_time": "2024-09-11T16:34:27.129793Z",
     "start_time": "2024-09-11T16:34:27.123576Z"
    }
   },
   "source": [
    "import numpy as np\n",
    "test1 = problem.qubit_active_hamiltonian.to_matrix()\n",
    "\n",
    "min(np.linalg.eig(test1)[0])"
   ],
   "outputs": [
    {
     "data": {
      "text/plain": [
       "(-92.67656931863549+0j)"
      ]
     },
     "execution_count": 6,
     "metadata": {},
     "output_type": "execute_result"
    }
   ],
   "execution_count": 6
  },
  {
   "cell_type": "code",
   "metadata": {
    "collapsed": false,
    "ExecuteTime": {
     "end_time": "2024-09-11T16:34:27.136946Z",
     "start_time": "2024-09-11T16:34:27.130772Z"
    }
   },
   "source": [
    "initial_circuits = saoovqe.OrthogonalCircuitSet.from_problem_set(n_states=2, problem=problem)"
   ],
   "outputs": [
    {
     "name": "stderr",
     "output_type": "stream",
     "text": [
      "2024-09-11 18:34:27,135 - SAOOVQE.logger - INFO - Circuits representing an orthogonal basis were created.\n"
     ]
    }
   ],
   "execution_count": 7
  },
  {
   "cell_type": "markdown",
   "metadata": {
    "collapsed": false
   },
   "source": [
    "Another ingredient for statevector circuits constructed later will be an ansatz."
   ]
  },
  {
   "cell_type": "code",
   "metadata": {
    "collapsed": false,
    "ExecuteTime": {
     "end_time": "2024-09-11T16:34:27.288369Z",
     "start_time": "2024-09-11T16:34:27.137912Z"
    }
   },
   "source": [
    "ansatz = saoovqe.Ansatz.from_problem_set(ansatz=saoovqe.AnsatzType.GUCCSD,\n",
    "                                         problem=problem,\n",
    "                                         repetitions=1,\n",
    "                                         qubit_mapper=problem.fermionic_mapper)"
   ],
   "outputs": [
    {
     "name": "stderr",
     "output_type": "stream",
     "text": [
      "2024-09-11 18:34:27,286 - SAOOVQE.logger - INFO - Ansatz was created.\n"
     ]
    }
   ],
   "execution_count": 8
  },
  {
   "cell_type": "markdown",
   "metadata": {
    "collapsed": false
   },
   "source": [
    "Now we can create an instance of our SA-OO-VQE solver. Orbital-optimization doesn't have to be used,\n",
    "but we do use it here, to compare with CASSCF."
   ]
  },
  {
   "cell_type": "code",
   "metadata": {
    "collapsed": false,
    "ExecuteTime": {
     "end_time": "2024-09-11T16:34:27.292381Z",
     "start_time": "2024-09-11T16:34:27.289093Z"
    }
   },
   "source": [
    "from qiskit.primitives import Estimator\n",
    "\n",
    "estimator = Estimator()\n",
    "\n",
    "solver = saoovqe.SAOOVQE(estimator=estimator,\n",
    "                         initial_circuits=initial_circuits,\n",
    "                         ansatz=ansatz,\n",
    "                         problem=problem,\n",
    "                         orbital_optimization_settings={})"
   ],
   "outputs": [
    {
     "name": "stderr",
     "output_type": "stream",
     "text": [
      "2024-09-11 18:34:27,290 - SAOOVQE.logger - INFO - SAOOVQE was created.\n"
     ]
    }
   ],
   "execution_count": 9
  },
  {
   "cell_type": "markdown",
   "metadata": {
    "collapsed": false
   },
   "source": [
    "Let's create a numerical optimizer, pass it to our solver and compute our energies now."
   ]
  },
  {
   "cell_type": "code",
   "metadata": {
    "collapsed": false,
    "ExecuteTime": {
     "end_time": "2024-09-11T16:36:03.763173Z",
     "start_time": "2024-09-11T16:34:27.293469Z"
    }
   },
   "source": [
    "from qiskit_algorithms.optimizers import SciPyOptimizer\n",
    "\n",
    "optimizer = SciPyOptimizer('SLSQP', options={'maxiter': 500, 'ftol': 1e-8})\n",
    "saoovqe_engs = solver.get_energy(optimizer)\n",
    "\n",
    "print(saoovqe_engs)"
   ],
   "outputs": [
    {
     "name": "stderr",
     "output_type": "stream",
     "text": [
      "2024-09-11 18:34:27,295 - SAOOVQE.logger - INFO - Computing energies...\n",
      "2024-09-11 18:34:28,447 - SAOOVQE.logger - INFO - SA-optimized ansatz parameters: [ 0.27262107  0.27261257 -0.01552155]\n",
      "2024-09-11 18:34:28,448 - SAOOVQE.logger - INFO - Starting Orbital-Optimization process...\n",
      "2024-09-11 18:34:47,598 - SAOOVQE.logger - INFO - SA-optimized ansatz parameters: [ 0.19536534  0.19537057 -0.013571  ]\n",
      "2024-09-11 18:34:47,599 - SAOOVQE.logger - INFO - Starting Orbital-Optimization process...\n",
      "2024-09-11 18:34:59,129 - SAOOVQE.logger - INFO - SA-optimized ansatz parameters: [ 0.15570819  0.1557069  -0.01271008]\n",
      "2024-09-11 18:34:59,129 - SAOOVQE.logger - INFO - Starting Orbital-Optimization process...\n",
      "2024-09-11 18:35:08,485 - SAOOVQE.logger - INFO - SA-optimized ansatz parameters: [ 0.13519766  0.1351797  -0.01244071]\n",
      "2024-09-11 18:35:08,485 - SAOOVQE.logger - INFO - Starting Orbital-Optimization process...\n",
      "2024-09-11 18:35:15,769 - SAOOVQE.logger - INFO - SA-optimized ansatz parameters: [ 0.12467805  0.1246706  -0.01234462]\n",
      "2024-09-11 18:35:15,769 - SAOOVQE.logger - INFO - Starting Orbital-Optimization process...\n",
      "2024-09-11 18:35:23,140 - SAOOVQE.logger - INFO - SA-optimized ansatz parameters: [ 0.11928859  0.11929456 -0.01230366]\n",
      "2024-09-11 18:35:23,140 - SAOOVQE.logger - INFO - Starting Orbital-Optimization process...\n",
      "2024-09-11 18:35:30,389 - SAOOVQE.logger - INFO - SA-optimized ansatz parameters: [ 0.11652572  0.11652626 -0.0122862 ]\n",
      "2024-09-11 18:35:30,390 - SAOOVQE.logger - INFO - Starting Orbital-Optimization process...\n",
      "2024-09-11 18:35:37,609 - SAOOVQE.logger - INFO - SA-optimized ansatz parameters: [ 0.11512725  0.11511994 -0.01227554]\n",
      "2024-09-11 18:35:37,610 - SAOOVQE.logger - INFO - Starting Orbital-Optimization process...\n",
      "2024-09-11 18:35:42,945 - SAOOVQE.logger - INFO - SA-optimized ansatz parameters: [ 0.11440723  0.11439609 -0.01227122]\n",
      "2024-09-11 18:35:42,946 - SAOOVQE.logger - INFO - Starting Orbital-Optimization process...\n",
      "2024-09-11 18:35:48,309 - SAOOVQE.logger - INFO - SA-optimized ansatz parameters: [ 0.11403701  0.1140328  -0.01226781]\n",
      "2024-09-11 18:35:48,310 - SAOOVQE.logger - INFO - Starting Orbital-Optimization process...\n",
      "2024-09-11 18:35:53,612 - SAOOVQE.logger - INFO - SA-optimized ansatz parameters: [ 0.11383157  0.11382764 -0.01226924]\n",
      "2024-09-11 18:35:53,613 - SAOOVQE.logger - INFO - Starting Orbital-Optimization process...\n",
      "2024-09-11 18:35:58,952 - SAOOVQE.logger - INFO - SA-optimized ansatz parameters: [ 0.11373465  0.113731   -0.0122676 ]\n",
      "2024-09-11 18:35:58,952 - SAOOVQE.logger - INFO - Starting Orbital-Optimization process...\n",
      "2024-09-11 18:36:03,344 - SAOOVQE.logger - INFO - Optimal phi angle for state-resolution was obtained (phi* = 4.471220923321482).\n"
     ]
    },
    {
     "name": "stdout",
     "output_type": "stream",
     "text": [
      "[-92.6821175  -92.63750373]\n"
     ]
    }
   ],
   "execution_count": 10
  },
  {
   "cell_type": "markdown",
   "metadata": {
    "collapsed": false
   },
   "source": [
    "Also, without further setting things up, we're ready to compute our gradients now!"
   ]
  },
  {
   "cell_type": "code",
   "metadata": {
    "ExecuteTime": {
     "end_time": "2024-09-11T16:36:03.769549Z",
     "start_time": "2024-09-11T16:36:03.764556Z"
    }
   },
   "source": [
    "import numpy as np\n",
    "test1 = problem.qubit_active_hamiltonian.to_matrix()\n",
    "\n",
    "np.linalg.eig(test1)[0]"
   ],
   "outputs": [
    {
     "data": {
      "text/plain": [
       "array([-92.41426525+0.j, -92.4723376 +0.j, -92.20442739+0.j,\n",
       "       -92.45870847+0.j, -92.45870847+0.j, -92.20442739+0.j,\n",
       "       -92.32709418+0.j, -92.63750373+0.j, -92.70970409+0.j,\n",
       "       -92.6821175 +0.j, -92.4723376 +0.j, -92.41426525+0.j,\n",
       "       -91.55009137+0.j, -92.70970409+0.j, -92.70970409+0.j,\n",
       "       -91.77355837+0.j])"
      ]
     },
     "execution_count": 11,
     "metadata": {},
     "output_type": "execute_result"
    }
   ],
   "execution_count": 11
  },
  {
   "cell_type": "code",
   "metadata": {
    "collapsed": false,
    "ExecuteTime": {
     "end_time": "2024-09-11T16:36:19.556896Z",
     "start_time": "2024-09-11T16:36:03.770721Z"
    }
   },
   "source": [
    "saoovqe_grads = []\n",
    "for state_idx in range(2):\n",
    "    saoovqe_grads.append(list())\n",
    "    for atom_idx in range(len(coords)):\n",
    "        grad = solver.eval_eng_gradient(state_idx, atom_idx)\n",
    "        print(grad)\n",
    "        saoovqe_grads[state_idx].append(grad)"
   ],
   "outputs": [
    {
     "name": "stderr",
     "output_type": "stream",
     "text": [
      "2024-09-11 18:36:03,773 - SAOOVQE.logger - INFO - Constructing gradient evaluators...\n"
     ]
    },
    {
     "name": "stdout",
     "output_type": "stream",
     "text": [
      "[array([0.16498942, 0.16491454, 0.00392844]), array([-0.16516283, -0.16508058, -0.00392605])]\n",
      "[-0.22493942 -0.04882642 -0.20114204]\n",
      "[array([0.16498942, 0.16491454, 0.00392844]), array([-0.16516283, -0.16508058, -0.00392605])]\n",
      "[0.07458217 0.01791828 0.23628032]\n",
      "[array([0.16498942, 0.16491454, 0.00392844]), array([-0.16516283, -0.16508058, -0.00392605])]\n",
      "[-0.00321928  0.02466436 -0.02606309]\n",
      "[array([0.16498942, 0.16491454, 0.00392844]), array([-0.16516283, -0.16508058, -0.00392605])]\n",
      "[-0.00620155 -0.02588584 -0.02038731]\n",
      "[array([0.16498942, 0.16491454, 0.00392844]), array([-0.16516283, -0.16508058, -0.00392605])]\n",
      "[0.15977807 0.03212962 0.01131212]\n",
      "[array([0.16498942, 0.16491454, 0.00392844]), array([-0.16516283, -0.16508058, -0.00392605])]\n",
      "[-0.04096521 -0.02472019 -0.54302075]\n",
      "[array([0.16498942, 0.16491454, 0.00392844]), array([-0.16516283, -0.16508058, -0.00392605])]\n",
      "[0.06486211 0.00105818 0.51658791]\n",
      "[array([0.16498942, 0.16491454, 0.00392844]), array([-0.16516283, -0.16508058, -0.00392605])]\n",
      "[-0.02674477  0.03138575 -0.02808689]\n",
      "[array([0.16498942, 0.16491454, 0.00392844]), array([-0.16516283, -0.16508058, -0.00392605])]\n",
      "[-0.03886841 -0.03016573 -0.02733649]\n",
      "[array([0.16498942, 0.16491454, 0.00392844]), array([-0.16516283, -0.16508058, -0.00392605])]\n",
      "[0.04171628 0.02244199 0.08185622]\n"
     ]
    }
   ],
   "execution_count": 12
  },
  {
   "cell_type": "markdown",
   "metadata": {
    "collapsed": false
   },
   "source": [
    "Perfect! For now, let's set our Psi4 CASSCF solver up. Let's start with re-writing our geometry specification in Psi4-convenient\n",
    "way and passing it to the toolkit."
   ]
  },
  {
   "cell_type": "code",
   "metadata": {
    "collapsed": false,
    "ExecuteTime": {
     "end_time": "2024-09-11T16:36:19.568289Z",
     "start_time": "2024-09-11T16:36:19.558309Z"
    }
   },
   "source": [
    "import psi4\n",
    "import numpy as np\n",
    "\n",
    "def gen_formaldimine_geom_psi4(alpha, phi):\n",
    "    variables = [1.498047, 1.066797, 0.987109, 118.359375, alpha, phi]\n",
    "\n",
    "    # Create Z-matrix\n",
    "    string_geo_dum = '''0 1\n",
    "                    N\n",
    "                    C 1 {0}\n",
    "                    H 2 {1}  1 {3}\n",
    "                    H 2 {1}  1 {3} 3 180\n",
    "                    H 1 {2}  2 {4} 3 {5}\n",
    "                    symmetry c1\n",
    "                    '''.format(*variables)\n",
    "\n",
    "    # Convert to Cartesian coordinates\n",
    "    psi4.core.set_output_file('out.txt', False)\n",
    "    molecule_dum = psi4.geometry(string_geo_dum)\n",
    "    molecule_dum.translate(psi4.core.Vector3(-molecule_dum.x(0), -molecule_dum.y(0), -molecule_dum.z(0)))\n",
    "    mol_geom_dum = molecule_dum.geometry().np * problem.unit_constants['Bohr_to_Angstrom']\n",
    "\n",
    "    if not np.isclose(mol_geom_dum[1, 1], 0.):\n",
    "        mol_geom_dum[:, [1, 2]] = mol_geom_dum[:, [2, 1]]\n",
    "        mol_geom_dum[4, 0] = -mol_geom_dum[4, 0]\n",
    "\n",
    "    string_geo = ''\n",
    "    for i, e in enumerate(mol_geom_dum):\n",
    "        string_geo += f'{molecule_dum.flabel(i)}, {e[0]}, {e[1]}, {e[2]}\\n'\n",
    "\n",
    "    string_geo += 'symmetry c1\\n' \\\n",
    "                  'nocom\\n' \\\n",
    "                  'noreorient\\n'\n",
    "\n",
    "    return string_geo\n",
    "\n",
    "psi4.geometry(gen_formaldimine_geom_psi4(130, 80))"
   ],
   "outputs": [
    {
     "data": {
      "text/plain": [
       "<psi4.core.Molecule at 0x7539f0a820f0>"
      ]
     },
     "execution_count": 13,
     "metadata": {},
     "output_type": "execute_result"
    }
   ],
   "execution_count": 13
  },
  {
   "cell_type": "code",
   "metadata": {
    "ExecuteTime": {
     "end_time": "2024-09-11T16:36:19.576892Z",
     "start_time": "2024-09-11T16:36:19.571255Z"
    }
   },
   "source": [
    "gen_formaldimine_geom_psi4(130, 80)"
   ],
   "outputs": [
    {
     "data": {
      "text/plain": [
       "'N, 0.0, 0.0, 0.0\\nC, 0.0, 0.0, 1.4980469996994747\\nH, 0.0, -0.9387659854697812, 2.004775983750454\\nH, 0.0, 0.9387659854697812, 2.004775983750454\\nH, -0.7446814523077703, -0.13130743207502396, -0.6345014344827823\\nsymmetry c1\\nnocom\\nnoreorient\\n'"
      ]
     },
     "execution_count": 14,
     "metadata": {},
     "output_type": "execute_result"
    }
   ],
   "execution_count": 14
  },
  {
   "cell_type": "markdown",
   "metadata": {
    "collapsed": false
   },
   "source": [
    "Now we'll specify all options for Psi4 CASSCF solver."
   ]
  },
  {
   "cell_type": "code",
   "metadata": {
    "ExecuteTime": {
     "end_time": "2024-09-11T16:36:19.581059Z",
     "start_time": "2024-09-11T16:36:19.578021Z"
    }
   },
   "source": [
    "problem._active_space_transformer.prepare_active_space(16,13, occupation_alpha=None, occupation_beta=None)"
   ],
   "outputs": [],
   "execution_count": 15
  },
  {
   "cell_type": "code",
   "metadata": {
    "collapsed": false,
    "ExecuteTime": {
     "end_time": "2024-09-11T16:36:19.586674Z",
     "start_time": "2024-09-11T16:36:19.582059Z"
    }
   },
   "source": [
    "n_orbs_frozen = len(problem.frozen_orbitals_indices)\n",
    "\n",
    "def psi4_casscf():\n",
    "    psi4.set_options({'basis': basis,\n",
    "                      'DETCI_FREEZE_CORE': False,\n",
    "                      'reference': 'RHF',\n",
    "                      'scf_type': 'pk',\n",
    "                      'num_roots': len(initial_circuits),\n",
    "                      'frozen_docc': [0],\n",
    "                      'restricted_docc': [n_orbs_frozen],\n",
    "                      'active': [n_orbs_active],\n",
    "                      'restricted_uocc': [solver.n_mo_optim - n_orbs_frozen - n_orbs_active],\n",
    "                      'frozen_uocc': [problem.virtual_orbitals_indices[-1] - solver.n_mo_optim + 1],\n",
    "                      'MAXITER': 1000,\n",
    "                      'DIIS': False,\n",
    "                      'D_CONVERGENCE': 1e-6,\n",
    "                      'E_CONVERGENCE': 1e-6,\n",
    "                      'S': 0,\n",
    "                      'avg_states': [0, 1],\n",
    "                      'avg_weights': [0.5, 0.5]})\n",
    "    psi4.energy('scf', return_wfn=True)\n",
    "    psi4.energy('casscf', return_wfn=True)"
   ],
   "outputs": [],
   "execution_count": 16
  },
  {
   "cell_type": "markdown",
   "metadata": {
    "collapsed": false
   },
   "source": [
    "And run CASSCF preceded by a common SCF computation!"
   ]
  },
  {
   "cell_type": "code",
   "metadata": {
    "ExecuteTime": {
     "end_time": "2024-09-11T16:36:19.593157Z",
     "start_time": "2024-09-11T16:36:19.587783Z"
    }
   },
   "source": [
    "psi4.variable(\"CURRENT DIPOLE\")"
   ],
   "outputs": [
    {
     "data": {
      "text/plain": [
       "array([-0.28390182, -0.15153309,  0.43273439])"
      ]
     },
     "execution_count": 17,
     "metadata": {},
     "output_type": "execute_result"
    }
   ],
   "execution_count": 17
  },
  {
   "cell_type": "code",
   "metadata": {
    "ExecuteTime": {
     "end_time": "2024-09-11T16:36:19.596876Z",
     "start_time": "2024-09-11T16:36:19.594070Z"
    }
   },
   "source": [
    "saoovqe_engs"
   ],
   "outputs": [
    {
     "data": {
      "text/plain": [
       "array([-92.6821175 , -92.63750373])"
      ]
     },
     "execution_count": 18,
     "metadata": {},
     "output_type": "execute_result"
    }
   ],
   "execution_count": 18
  },
  {
   "cell_type": "code",
   "metadata": {
    "collapsed": false,
    "ExecuteTime": {
     "end_time": "2024-09-11T16:36:20.213259Z",
     "start_time": "2024-09-11T16:36:19.597853Z"
    }
   },
   "source": [
    "psi4_casscf()\n",
    "\n",
    "psi4_eng0 = psi4.variable('CI ROOT 0 TOTAL ENERGY')\n",
    "psi4_eng1 = psi4.variable('CI ROOT 1 TOTAL ENERGY')"
   ],
   "outputs": [],
   "execution_count": 19
  },
  {
   "cell_type": "markdown",
   "metadata": {
    "collapsed": false
   },
   "source": [
    "Cool! Now we can check, if they're similar to our SA-OO-VQE-obtained energies..."
   ]
  },
  {
   "cell_type": "code",
   "metadata": {
    "collapsed": false,
    "ExecuteTime": {
     "end_time": "2024-09-11T16:36:20.216047Z",
     "start_time": "2024-09-11T16:36:20.213992Z"
    }
   },
   "source": [
    "print(psi4_eng0 - saoovqe_engs[0])\n",
    "print(psi4_eng1 - saoovqe_engs[1])"
   ],
   "outputs": [
    {
     "name": "stdout",
     "output_type": "stream",
     "text": [
      "8.627179127529416e-06\n",
      "-8.628366245488905e-06\n"
     ]
    }
   ],
   "execution_count": 20
  },
  {
   "cell_type": "markdown",
   "metadata": {
    "collapsed": false
   },
   "source": [
    "Congratulations! Now it seems, that our energies are really close. Let's compute some gradients\n",
    "via Psi4. In this case, we'll stick to simple stuff and utilize finite-differences approach.\n",
    "Specifically, we'll obtain derivatives w.r.t. the $\\alpha$ angle. So, first of all, let's generate\n",
    "shifted geometries."
   ]
  },
  {
   "cell_type": "code",
   "metadata": {
    "collapsed": false,
    "ExecuteTime": {
     "end_time": "2024-09-11T16:36:20.225452Z",
     "start_time": "2024-09-11T16:36:20.217457Z"
    }
   },
   "source": [
    "delta = 1e-5\n",
    "\n",
    "geom_plus = gen_formaldimine_geom_psi4(alpha=130+(delta/2), phi=80)\n",
    "geom_minus = gen_formaldimine_geom_psi4(alpha=130-(delta/2),phi=80)"
   ],
   "outputs": [],
   "execution_count": 21
  },
  {
   "cell_type": "markdown",
   "metadata": {
    "collapsed": false
   },
   "source": [
    "With geometries prepared, we can evaluate the corresponding energies."
   ]
  },
  {
   "cell_type": "code",
   "metadata": {
    "collapsed": false,
    "ExecuteTime": {
     "end_time": "2024-09-11T16:36:21.424102Z",
     "start_time": "2024-09-11T16:36:20.226569Z"
    }
   },
   "source": [
    "psi4.geometry(geom_plus)\n",
    "psi4_casscf()\n",
    "psi4_eng0_plus = psi4.variable('CI ROOT 0 TOTAL ENERGY')\n",
    "psi4_eng1_plus = psi4.variable('CI ROOT 1 TOTAL ENERGY')\n",
    "\n",
    "psi4.geometry(geom_minus)\n",
    "psi4_casscf()\n",
    "psi4_eng0_minus = psi4.variable('CI ROOT 0 TOTAL ENERGY')\n",
    "psi4_eng1_minus = psi4.variable('CI ROOT 1 TOTAL ENERGY')"
   ],
   "outputs": [],
   "execution_count": 22
  },
  {
   "cell_type": "markdown",
   "metadata": {
    "collapsed": false
   },
   "source": [
    "And finally, let's evaluate Psi4 gradients w.r.t. $\\alpha$."
   ]
  },
  {
   "cell_type": "code",
   "metadata": {
    "collapsed": false,
    "ExecuteTime": {
     "end_time": "2024-09-11T16:36:21.426839Z",
     "start_time": "2024-09-11T16:36:21.424733Z"
    }
   },
   "source": [
    "psi4_grad_0 = (psi4_eng0_plus - psi4_eng0_minus)/delta\n",
    "psi4_grad_1 = (psi4_eng1_plus - psi4_eng1_minus)/delta"
   ],
   "outputs": [],
   "execution_count": 23
  },
  {
   "cell_type": "markdown",
   "metadata": {
    "collapsed": false
   },
   "source": [
    "The gradients obtained directly from SA-OO-VQE are evaluated w.r.t. Cartesian coordinates, so we'll transform\n",
    "these to internal coordinate system to be able to compare the results to each other."
   ]
  },
  {
   "cell_type": "code",
   "metadata": {
    "collapsed": false,
    "ExecuteTime": {
     "end_time": "2024-09-11T16:36:21.432977Z",
     "start_time": "2024-09-11T16:36:21.427471Z"
    }
   },
   "source": [
    "def cartesian_to_inner(vector, R, phi, alpha):\n",
    "    phi_rad = np.deg2rad(phi)\n",
    "    alpha_rad = np.deg2rad(alpha)\n",
    "    v_R = -(vector[0] * np.sin(phi_rad) * np.sin(alpha_rad)) - (vector[1] * np.cos(phi_rad) * np.sin(alpha_rad)) + (vector[2] * np.cos(alpha_rad))\n",
    "    v_phi = -(vector[0] * R * np.cos(phi_rad) * np.sin(alpha_rad)) + (vector[1] * R * np.sin(phi_rad) * np.sin(alpha_rad))\n",
    "    v_alpha = -(vector[0] * R * np.sin(phi_rad) * np.cos(alpha_rad)) - (vector[1] * R * np.cos(phi_rad) * np.cos(alpha_rad)) \\\n",
    "              - (vector[2] * R * np.sin(alpha_rad))\n",
    "\n",
    "    return np.pi * np.array([v_R , v_phi, v_alpha]) / 180\n",
    "\n",
    "bond_length = np.sqrt(sum(np.array(coords[4])**2))\n",
    "saoovqe_grad_0_inner = cartesian_to_inner(saoovqe_grads[0][4], bond_length, 80, 130)\n",
    "saoovqe_grad_1_inner = cartesian_to_inner(saoovqe_grads[1][4], bond_length, 80, 130)\n",
    "\n",
    "print(saoovqe_grad_0_inner[2])\n",
    "print(saoovqe_grad_1_inner[2])\n",
    "print(psi4_grad_0)\n",
    "print(psi4_grad_1)"
   ],
   "outputs": [
    {
     "name": "stdout",
     "output_type": "stream",
     "text": [
      "0.001655015394339002\n",
      "-0.0005821997288253923\n",
      "0.0016561799043302015\n",
      "-0.0005835232741446816\n"
     ]
    }
   ],
   "execution_count": 24
  },
  {
   "cell_type": "markdown",
   "metadata": {
    "collapsed": false
   },
   "source": [
    "And bingo! Even the gradients seem pretty close, so they're hopefully correct :D"
   ]
  }
 ],
 "metadata": {
  "kernelspec": {
   "display_name": "Python 3",
   "language": "python",
   "name": "python3"
  },
  "language_info": {
   "codemirror_mode": {
    "name": "ipython",
    "version": 3
   },
   "file_extension": ".py",
   "mimetype": "text/x-python",
   "name": "python",
   "nbconvert_exporter": "python",
   "pygments_lexer": "ipython3",
   "version": "3.10.13"
  }
 },
 "nbformat": 4,
 "nbformat_minor": 0
}
