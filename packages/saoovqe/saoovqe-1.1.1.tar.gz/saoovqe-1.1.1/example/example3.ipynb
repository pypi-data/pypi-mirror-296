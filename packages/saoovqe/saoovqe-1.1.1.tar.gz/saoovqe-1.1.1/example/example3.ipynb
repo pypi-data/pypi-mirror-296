{
 "cells": [
  {
   "metadata": {},
   "cell_type": "markdown",
   "source": [
    "# Example 3: Computation of Energies with diabatization\n",
    "\n",
    "In this example it is shown, how to run the basic energy computations with novel approach for diabatization of orbitals."
   ],
   "id": "caab2890872ed853"
  },
  {
   "metadata": {},
   "cell_type": "markdown",
   "source": "First, we specify the geometry of our system.",
   "id": "1897506f207e0310"
  },
  {
   "metadata": {
    "ExecuteTime": {
     "end_time": "2024-09-11T16:33:42.563177Z",
     "start_time": "2024-09-11T16:33:42.558603Z"
    }
   },
   "cell_type": "code",
   "source": [
    "symbols = ['C', 'N', 'H', 'H', 'H']\n",
    "coords = [[-0.000000000, 0.000000000, -0.000000000],\n",
    "            [-0.000000000, 0.000000000, 1.412052000],\n",
    "            [-0.000000000, -0.944215264, -0.525349226],\n",
    "            [-0.000000000, 0.944215264, -0.525349226],\n",
    "            [-0.176643782, 0.000000000, 2.413848671]]"
   ],
   "id": "759bcd6c4184e4f8",
   "outputs": [],
   "execution_count": 1
  },
  {
   "metadata": {},
   "cell_type": "markdown",
   "source": "Now, let's define our system's properties.",
   "id": "3de40e7f536f8f2a"
  },
  {
   "metadata": {
    "ExecuteTime": {
     "end_time": "2024-09-11T16:33:42.583122Z",
     "start_time": "2024-09-11T16:33:42.578363Z"
    }
   },
   "cell_type": "code",
   "source": [
    "n_orbs_active = 2\n",
    "n_elec_active = 2\n",
    "charge = 0\n",
    "multiplicity = 1\n",
    "basis = 'sto-3g'"
   ],
   "id": "a2724ab6eaac547a",
   "outputs": [],
   "execution_count": 2
  },
  {
   "metadata": {},
   "cell_type": "markdown",
   "source": "For the diabatization process, we use previously obtained wavefunction. Let's load it now.",
   "id": "aa69484f0cd19855"
  },
  {
   "metadata": {
    "ExecuteTime": {
     "end_time": "2024-09-11T16:33:43.159495Z",
     "start_time": "2024-09-11T16:33:42.595647Z"
    }
   },
   "cell_type": "code",
   "source": [
    "import psi4\n",
    "\n",
    "load_wfn = psi4.core.Wavefunction.from_file(f'../tests/bruno_wfn_phi0_theta_180_sto3g')"
   ],
   "id": "1ec9a55cb0d1dc90",
   "outputs": [
    {
     "name": "stdout",
     "output_type": "stream",
     "text": [
      "   => Loading Basis Set <=\n",
      "\n",
      "    Name: STO-3G\n",
      "    Role: ORBITAL\n",
      "    Keyword: BASIS\n",
      "    atoms 1   entry C          line    61 file /home/martinb/anaconda3/envs/saoovqe-env/share/psi4/basis/sto-3g.gbs \n",
      "    atoms 2   entry N          line    71 file /home/martinb/anaconda3/envs/saoovqe-env/share/psi4/basis/sto-3g.gbs \n",
      "    atoms 3-5 entry H          line    19 file /home/martinb/anaconda3/envs/saoovqe-env/share/psi4/basis/sto-3g.gbs \n",
      "\n"
     ]
    }
   ],
   "execution_count": 3
  },
  {
   "metadata": {},
   "cell_type": "markdown",
   "source": "Now, we create our problem using our previously computed wavefunction, ",
   "id": "f0f0328e013d42ca"
  },
  {
   "metadata": {
    "ExecuteTime": {
     "end_time": "2024-09-11T16:33:46.696168Z",
     "start_time": "2024-09-11T16:33:43.161360Z"
    }
   },
   "cell_type": "code",
   "source": [
    "import saoovqe\n",
    "\n",
    "problem = saoovqe.ProblemSet.with_dia_orbs_from_prev_wfn(symbols, coords, charge, multiplicity, n_elec_active,\n",
    "                                                                 n_orbs_active, load_wfn, basis)\n"
   ],
   "id": "95cd170fecbd7441",
   "outputs": [
    {
     "name": "stderr",
     "output_type": "stream",
     "text": [
      "2024-09-11 18:33:46,635 - SAOOVQE.logger - INFO - SecondQuantizedProblem was created.\n"
     ]
    }
   ],
   "execution_count": 4
  },
  {
   "metadata": {},
   "cell_type": "markdown",
   "source": "create initial circuits and ansatz,",
   "id": "efafe4ee6f6c8a8d"
  },
  {
   "metadata": {
    "ExecuteTime": {
     "end_time": "2024-09-11T16:33:46.920140Z",
     "start_time": "2024-09-11T16:33:46.697239Z"
    }
   },
   "cell_type": "code",
   "source": [
    "n_states = 2\n",
    "initial_circuits = saoovqe.OrthogonalCircuitSet.from_problem_set(n_states, problem)\n",
    "\n",
    "repetitions = 1\n",
    "ansatz = saoovqe.Ansatz.from_problem_set(saoovqe.AnsatzType.GUCCSD,\n",
    "                                         problem,\n",
    "                                         repetitions,\n",
    "                                         qubit_mapper=problem.fermionic_mapper)"
   ],
   "id": "728897eef7a525ac",
   "outputs": [
    {
     "name": "stderr",
     "output_type": "stream",
     "text": [
      "2024-09-11 18:33:46,700 - SAOOVQE.logger - INFO - Circuits representing an orthogonal basis were created.\n",
      "2024-09-11 18:33:46,918 - SAOOVQE.logger - INFO - Ansatz was created.\n"
     ]
    }
   ],
   "execution_count": 5
  },
  {
   "metadata": {},
   "cell_type": "markdown",
   "source": "and finally, we create our solver.",
   "id": "2596eb0f7cd33f07"
  },
  {
   "metadata": {
    "ExecuteTime": {
     "end_time": "2024-09-11T16:33:46.924846Z",
     "start_time": "2024-09-11T16:33:46.921248Z"
    }
   },
   "cell_type": "code",
   "source": [
    "from qiskit.primitives import Estimator\n",
    "\n",
    "estimator = Estimator()\n",
    "saoovqe_solver = saoovqe.SAOOVQE(estimator,\n",
    "                                 initial_circuits,\n",
    "                                 ansatz,\n",
    "                                 problem,\n",
    "                                 orbital_optimization_settings={})"
   ],
   "id": "e2cb1d369fd3805e",
   "outputs": [
    {
     "name": "stderr",
     "output_type": "stream",
     "text": [
      "2024-09-11 18:33:46,922 - SAOOVQE.logger - INFO - SAOOVQE was created.\n"
     ]
    }
   ],
   "execution_count": 6
  },
  {
   "metadata": {},
   "cell_type": "markdown",
   "source": "As we now have all that is required, we calculate our energies.",
   "id": "db62e6794eb64a19"
  },
  {
   "metadata": {
    "ExecuteTime": {
     "end_time": "2024-09-11T16:34:07.065587Z",
     "start_time": "2024-09-11T16:33:46.926090Z"
    }
   },
   "cell_type": "code",
   "source": [
    "from qiskit_algorithms.optimizers import SciPyOptimizer\n",
    "\n",
    "energies = saoovqe_solver.get_energy(SciPyOptimizer('SLSQP', options={'maxiter': 500, 'ftol': 1e-8}))\n",
    "energies"
   ],
   "id": "a1f6460cedb94930",
   "outputs": [
    {
     "name": "stderr",
     "output_type": "stream",
     "text": [
      "2024-09-11 18:33:46,929 - SAOOVQE.logger - INFO - Computing energies...\n",
      "2024-09-11 18:33:47,531 - SAOOVQE.logger - INFO - SA-optimized ansatz parameters: [-5.62726438e-06 -3.75150959e-06 -1.51916900e-02]\n",
      "2024-09-11 18:33:47,532 - SAOOVQE.logger - INFO - Starting Orbital-Optimization process...\n",
      "2024-09-11 18:33:58,711 - SAOOVQE.logger - INFO - SA-optimized ansatz parameters: [-3.69676736e-07  1.69866605e-06 -1.37956050e-02]\n",
      "2024-09-11 18:33:58,712 - SAOOVQE.logger - INFO - Starting Orbital-Optimization process...\n",
      "2024-09-11 18:34:02,854 - SAOOVQE.logger - INFO - SA-optimized ansatz parameters: [-1.88358473e-06 -2.82537709e-06 -1.37837122e-02]\n",
      "2024-09-11 18:34:02,855 - SAOOVQE.logger - INFO - Starting Orbital-Optimization process...\n",
      "2024-09-11 18:34:06,643 - SAOOVQE.logger - INFO - Optimal phi angle for state-resolution was obtained (phi* = 3.141587367636102).\n"
     ]
    },
    {
     "data": {
      "text/plain": [
       "array([-92.69532965, -92.645587  ])"
      ]
     },
     "execution_count": 7,
     "metadata": {},
     "output_type": "execute_result"
    }
   ],
   "execution_count": 7
  },
  {
   "metadata": {},
   "cell_type": "raw",
   "source": "And now, we can compare them, with reference data:",
   "id": "8d68d6de06e845a7"
  },
  {
   "metadata": {
    "ExecuteTime": {
     "end_time": "2024-09-11T16:34:07.070329Z",
     "start_time": "2024-09-11T16:34:07.066425Z"
    }
   },
   "cell_type": "code",
   "source": [
    "import numpy as np\n",
    "\n",
    "np.allclose(np.array([-92.69532984620506, -92.64558680739152]), energies)"
   ],
   "id": "37b9cf74417a10a",
   "outputs": [
    {
     "data": {
      "text/plain": [
       "True"
      ]
     },
     "execution_count": 8,
     "metadata": {},
     "output_type": "execute_result"
    }
   ],
   "execution_count": 8
  },
  {
   "metadata": {},
   "cell_type": "markdown",
   "source": "And we can see, that the result is correct!",
   "id": "75dcd511f482c301"
  },
  {
   "metadata": {},
   "cell_type": "markdown",
   "source": "",
   "id": "6e66aa55df63851b"
  }
 ],
 "metadata": {
  "kernelspec": {
   "display_name": "Python 3",
   "language": "python",
   "name": "python3"
  },
  "language_info": {
   "codemirror_mode": {
    "name": "ipython",
    "version": 2
   },
   "file_extension": ".py",
   "mimetype": "text/x-python",
   "name": "python",
   "nbconvert_exporter": "python",
   "pygments_lexer": "ipython2",
   "version": "2.7.6"
  }
 },
 "nbformat": 4,
 "nbformat_minor": 5
}
