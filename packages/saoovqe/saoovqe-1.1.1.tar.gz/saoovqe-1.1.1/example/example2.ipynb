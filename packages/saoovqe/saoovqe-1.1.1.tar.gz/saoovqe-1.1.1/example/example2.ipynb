{
 "cells": [
  {
   "cell_type": "markdown",
   "metadata": {
    "collapsed": false
   },
   "source": [
    "# Example 2: Computation of Gradients and Non-adiabatic Couplings\n",
    "\n",
    "In this tutorial it is shown, how to use the SA-OO-VQE solver in a simple step-by-step manner on a molecule of\n",
    "formaldimine (methylene imine). It is shown, how to compute energies, gradients and non-adiabatic couplings\n",
    "in several different settings w.r.t. a different number of optimized orbitals."
   ]
  },
  {
   "cell_type": "markdown",
   "metadata": {
    "collapsed": false
   },
   "source": [
    "First of all, we'll specify geometry of the system."
   ]
  },
  {
   "cell_type": "code",
   "metadata": {
    "collapsed": false,
    "ExecuteTime": {
     "end_time": "2024-09-11T16:37:01.766256Z",
     "start_time": "2024-09-11T16:37:01.762746Z"
    }
   },
   "source": [
    "symbols = ['N', 'C', 'H', 'H', 'H']\n",
    "coords = [\n",
    "    [0.000000000000, 0.000000000000, 0.000000000000],\n",
    "    [0.000000000000, 0.000000000000, 1.498047000000],\n",
    "    [0.000000000000, -0.938765985000, 2.004775984000],\n",
    "    [0.000000000000, 0.938765985000, 2.004775984000],\n",
    "    [-0.744681452, -0.131307432, -0.634501434]\n",
    "]"
   ],
   "outputs": [],
   "execution_count": 1
  },
  {
   "cell_type": "markdown",
   "metadata": {
    "collapsed": false
   },
   "source": [
    "Now we'll specify its properties, active space and the basis for Psi4 chemistry backend."
   ]
  },
  {
   "cell_type": "code",
   "metadata": {
    "collapsed": false,
    "ExecuteTime": {
     "end_time": "2024-09-11T16:37:01.771232Z",
     "start_time": "2024-09-11T16:37:01.767772Z"
    }
   },
   "source": [
    "n_orbs_active = 2\n",
    "n_elec_active = 2\n",
    "charge = 0\n",
    "multiplicity = 1\n",
    "basis = 'sto-3g'"
   ],
   "outputs": [],
   "execution_count": 2
  },
  {
   "cell_type": "markdown",
   "metadata": {
    "collapsed": false
   },
   "source": [
    "The next step is construction of `ProblemSet` instance - object containing all the information and necessary method for\n",
    "our electronic structure problem."
   ]
  },
  {
   "cell_type": "code",
   "metadata": {
    "collapsed": false,
    "ExecuteTime": {
     "end_time": "2024-09-11T16:37:04.979693Z",
     "start_time": "2024-09-11T16:37:01.772231Z"
    }
   },
   "source": [
    "import saoovqe\n",
    "\n",
    "problem = saoovqe.problem.ProblemSet(\n",
    "    symbols=symbols,\n",
    "    coords=coords,\n",
    "    charge=charge,\n",
    "    multiplicity=multiplicity,\n",
    "    n_electrons_active=n_elec_active,\n",
    "    n_orbitals_active=n_orbs_active,\n",
    "    basis_name=basis\n",
    ")"
   ],
   "outputs": [
    {
     "name": "stderr",
     "output_type": "stream",
     "text": [
      "2024-09-11 18:37:04,977 - SAOOVQE.logger - INFO - SecondQuantizedProblem was created.\n"
     ]
    }
   ],
   "execution_count": 3
  },
  {
   "cell_type": "markdown",
   "metadata": {
    "collapsed": false
   },
   "source": [
    "Now we need to create a set of circuits representing orthogonal states to construct the whole circuits representing\n",
    "state vectors later."
   ]
  },
  {
   "cell_type": "code",
   "metadata": {
    "collapsed": false,
    "ExecuteTime": {
     "end_time": "2024-09-11T16:37:04.988317Z",
     "start_time": "2024-09-11T16:37:04.981105Z"
    }
   },
   "source": [
    "initial_circuits = saoovqe.OrthogonalCircuitSet.from_problem_set(n_states=2, problem=problem)"
   ],
   "outputs": [
    {
     "name": "stderr",
     "output_type": "stream",
     "text": [
      "2024-09-11 18:37:04,985 - SAOOVQE.logger - INFO - Circuits representing an orthogonal basis were created.\n"
     ]
    }
   ],
   "execution_count": 4
  },
  {
   "cell_type": "markdown",
   "metadata": {
    "collapsed": false
   },
   "source": [
    "The next necessary part is to define an ansatz - it'll be also used to construct the state vector circuits later."
   ]
  },
  {
   "cell_type": "code",
   "metadata": {
    "collapsed": false,
    "ExecuteTime": {
     "end_time": "2024-09-11T16:37:05.138124Z",
     "start_time": "2024-09-11T16:37:04.990439Z"
    }
   },
   "source": [
    "ansatz = saoovqe.Ansatz.from_problem_set(ansatz=saoovqe.AnsatzType.GUCCSD,\n",
    "                                         problem=problem,\n",
    "                                         repetitions=1,\n",
    "                                         qubit_mapper=problem.fermionic_mapper)"
   ],
   "outputs": [
    {
     "name": "stderr",
     "output_type": "stream",
     "text": [
      "2024-09-11 18:37:05,136 - SAOOVQE.logger - INFO - Ansatz was created.\n"
     ]
    }
   ],
   "execution_count": 5
  },
  {
   "cell_type": "markdown",
   "metadata": {
    "collapsed": false
   },
   "source": [
    "And finally, now we can create an instance of our SA-OO-VQE solver. One of the main points is, orbital-optimization\n",
    "can, but doesn't have to be used, or it can be used only on some molecular orbitals. We'll show all three cases here.\n",
    "For no orbital-optimization it's enough to pass `None` to `orbital_optimization_settings` (it's also a default value)."
   ]
  },
  {
   "cell_type": "code",
   "metadata": {
    "collapsed": false,
    "ExecuteTime": {
     "end_time": "2024-09-11T16:37:05.143943Z",
     "start_time": "2024-09-11T16:37:05.139436Z"
    }
   },
   "source": [
    "from qiskit.primitives import Estimator, Sampler\n",
    "\n",
    "estimator = Estimator()\n",
    "sampler = Sampler()\n",
    "\n",
    "solver_no_oo = saoovqe.SAOOVQE(estimator=estimator,\n",
    "                               initial_circuits=initial_circuits,\n",
    "                               ansatz=ansatz,\n",
    "                               problem=problem,\n",
    "                               orbital_optimization_settings=None)"
   ],
   "outputs": [
    {
     "name": "stderr",
     "output_type": "stream",
     "text": [
      "2024-09-11 18:37:05,141 - SAOOVQE.logger - INFO - SAOOVQE was created.\n"
     ]
    }
   ],
   "execution_count": 6
  },
  {
   "cell_type": "markdown",
   "metadata": {
    "collapsed": false
   },
   "source": [
    "To specify number of optimized orbitals we can pass a dictionary to the parameter."
   ]
  },
  {
   "cell_type": "code",
   "metadata": {
    "collapsed": false,
    "ExecuteTime": {
     "end_time": "2024-09-11T16:37:05.150555Z",
     "start_time": "2024-09-11T16:37:05.145294Z"
    }
   },
   "source": [
    "solver_oo_8 = saoovqe.SAOOVQE(estimator=estimator,\n",
    "                              initial_circuits=initial_circuits,\n",
    "                              ansatz=ansatz,\n",
    "                              problem=problem,\n",
    "                              orbital_optimization_settings={'n_mo_optim': 8})"
   ],
   "outputs": [
    {
     "name": "stderr",
     "output_type": "stream",
     "text": [
      "2024-09-11 18:37:05,148 - SAOOVQE.logger - INFO - SAOOVQE was created.\n"
     ]
    }
   ],
   "execution_count": 7
  },
  {
   "cell_type": "markdown",
   "metadata": {
    "collapsed": false
   },
   "source": [
    "And for all the orbitals to be optimized we can simply use its default behavior by passing an empty dictionary."
   ]
  },
  {
   "cell_type": "code",
   "metadata": {
    "collapsed": false,
    "ExecuteTime": {
     "end_time": "2024-09-11T16:37:05.155941Z",
     "start_time": "2024-09-11T16:37:05.151701Z"
    }
   },
   "source": [
    "solver_oo_full = saoovqe.SAOOVQE(estimator=estimator,\n",
    "                                 initial_circuits=initial_circuits,\n",
    "                                 ansatz=ansatz,\n",
    "                                 problem=problem,\n",
    "                                 orbital_optimization_settings={})"
   ],
   "outputs": [
    {
     "name": "stderr",
     "output_type": "stream",
     "text": [
      "2024-09-11 18:37:05,153 - SAOOVQE.logger - INFO - SAOOVQE was created.\n"
     ]
    }
   ],
   "execution_count": 8
  },
  {
   "cell_type": "markdown",
   "metadata": {
    "collapsed": false
   },
   "source": [
    "Let's compare the energies now! To make the numerical optimizations, we'll use `SLSQP` optimizer provided by `SciPy`.\n",
    "It may take a few minutes time now..."
   ]
  },
  {
   "cell_type": "code",
   "metadata": {
    "collapsed": false,
    "ExecuteTime": {
     "end_time": "2024-09-11T16:39:05.963653Z",
     "start_time": "2024-09-11T16:37:05.157049Z"
    }
   },
   "source": [
    "from qiskit_algorithms.optimizers import SciPyOptimizer\n",
    "import numpy as np\n",
    "\n",
    "optimizer = SciPyOptimizer('SLSQP', options={'maxiter': 500, 'ftol': 1e-8})\n",
    "energies_no_oo = solver_no_oo.get_energy(optimizer)\n",
    "energies_oo_8 = solver_oo_8.get_energy(optimizer)\n",
    "energies_oo_full = solver_oo_full.get_energy(optimizer)\n",
    "\n",
    "print('\\n============== State-Averaged Energies ==============')\n",
    "print(np.mean(energies_no_oo))\n",
    "print(np.mean(energies_oo_8))\n",
    "print(np.mean(energies_oo_full))"
   ],
   "outputs": [
    {
     "name": "stderr",
     "output_type": "stream",
     "text": [
      "2024-09-11 18:37:05,159 - SAOOVQE.logger - INFO - Computing energies...\n",
      "2024-09-11 18:37:06,468 - SAOOVQE.logger - INFO - SA-optimized ansatz parameters: [ 0.27262107  0.27261257 -0.01552155]\n",
      "2024-09-11 18:37:06,637 - SAOOVQE.logger - INFO - Optimal phi angle for state-resolution was obtained (phi* = 3.806882565485043).\n",
      "2024-09-11 18:37:07,069 - SAOOVQE.logger - INFO - Computing energies...\n",
      "2024-09-11 18:37:08,164 - SAOOVQE.logger - INFO - SA-optimized ansatz parameters: [ 0.27262107  0.27261257 -0.01552155]\n",
      "2024-09-11 18:37:08,165 - SAOOVQE.logger - INFO - Starting Orbital-Optimization process...\n",
      "2024-09-11 18:37:10,826 - SAOOVQE.logger - INFO - SA-optimized ansatz parameters: [ 0.25184031  0.25183824 -0.0144197 ]\n",
      "2024-09-11 18:37:10,827 - SAOOVQE.logger - INFO - Starting Orbital-Optimization process...\n",
      "2024-09-11 18:37:13,314 - SAOOVQE.logger - INFO - SA-optimized ansatz parameters: [ 0.2398365   0.23983421 -0.01432425]\n",
      "2024-09-11 18:37:13,315 - SAOOVQE.logger - INFO - Starting Orbital-Optimization process...\n",
      "2024-09-11 18:37:15,781 - SAOOVQE.logger - INFO - SA-optimized ansatz parameters: [ 0.23289745  0.23290533 -0.01427317]\n",
      "2024-09-11 18:37:15,782 - SAOOVQE.logger - INFO - Starting Orbital-Optimization process...\n",
      "2024-09-11 18:37:18,286 - SAOOVQE.logger - INFO - SA-optimized ansatz parameters: [ 0.22873697  0.22873636 -0.01424953]\n",
      "2024-09-11 18:37:18,287 - SAOOVQE.logger - INFO - Starting Orbital-Optimization process...\n",
      "2024-09-11 18:37:20,620 - SAOOVQE.logger - INFO - SA-optimized ansatz parameters: [ 0.2262231   0.22622706 -0.01423244]\n",
      "2024-09-11 18:37:20,621 - SAOOVQE.logger - INFO - Starting Orbital-Optimization process...\n",
      "2024-09-11 18:37:22,767 - SAOOVQE.logger - INFO - SA-optimized ansatz parameters: [ 0.22468009  0.22469193 -0.01422132]\n",
      "2024-09-11 18:37:22,768 - SAOOVQE.logger - INFO - Starting Orbital-Optimization process...\n",
      "2024-09-11 18:37:24,762 - SAOOVQE.logger - INFO - SA-optimized ansatz parameters: [ 0.22373528  0.22370758 -0.01421709]\n",
      "2024-09-11 18:37:24,763 - SAOOVQE.logger - INFO - Starting Orbital-Optimization process...\n",
      "2024-09-11 18:37:26,567 - SAOOVQE.logger - INFO - SA-optimized ansatz parameters: [ 0.22311847  0.22312719 -0.01421469]\n",
      "2024-09-11 18:37:26,568 - SAOOVQE.logger - INFO - Starting Orbital-Optimization process...\n",
      "2024-09-11 18:37:28,584 - SAOOVQE.logger - INFO - SA-optimized ansatz parameters: [ 0.22263363  0.22263204 -0.01422763]\n",
      "2024-09-11 18:37:28,584 - SAOOVQE.logger - INFO - Starting Orbital-Optimization process...\n",
      "2024-09-11 18:37:30,540 - SAOOVQE.logger - INFO - SA-optimized ansatz parameters: [ 0.22248278  0.22246652 -0.01420728]\n",
      "2024-09-11 18:37:30,540 - SAOOVQE.logger - INFO - Starting Orbital-Optimization process...\n",
      "2024-09-11 18:37:32,467 - SAOOVQE.logger - INFO - SA-optimized ansatz parameters: [ 0.22220912  0.22222643 -0.01422806]\n",
      "2024-09-11 18:37:32,468 - SAOOVQE.logger - INFO - Starting Orbital-Optimization process...\n",
      "2024-09-11 18:37:34,527 - SAOOVQE.logger - INFO - SA-optimized ansatz parameters: [ 0.22221731  0.2222195  -0.01420699]\n",
      "2024-09-11 18:37:34,527 - SAOOVQE.logger - INFO - Starting Orbital-Optimization process...\n",
      "2024-09-11 18:37:35,692 - SAOOVQE.logger - INFO - Optimal phi angle for state-resolution was obtained (phi* = 3.682843741549569).\n",
      "2024-09-11 18:37:36,085 - SAOOVQE.logger - INFO - Computing energies...\n",
      "2024-09-11 18:37:37,213 - SAOOVQE.logger - INFO - SA-optimized ansatz parameters: [ 0.27262107  0.27261257 -0.01552155]\n",
      "2024-09-11 18:37:37,214 - SAOOVQE.logger - INFO - Starting Orbital-Optimization process...\n",
      "2024-09-11 18:37:50,311 - SAOOVQE.logger - INFO - SA-optimized ansatz parameters: [ 0.1939682   0.19397392 -0.01358822]\n",
      "2024-09-11 18:37:50,312 - SAOOVQE.logger - INFO - Starting Orbital-Optimization process...\n",
      "2024-09-11 18:38:01,293 - SAOOVQE.logger - INFO - SA-optimized ansatz parameters: [ 0.15286638  0.15288386 -0.0126964 ]\n",
      "2024-09-11 18:38:01,294 - SAOOVQE.logger - INFO - Starting Orbital-Optimization process...\n",
      "2024-09-11 18:38:10,842 - SAOOVQE.logger - INFO - SA-optimized ansatz parameters: [ 0.13162815  0.13163506 -0.0124149 ]\n",
      "2024-09-11 18:38:10,842 - SAOOVQE.logger - INFO - Starting Orbital-Optimization process...\n",
      "2024-09-11 18:38:18,101 - SAOOVQE.logger - INFO - SA-optimized ansatz parameters: [ 0.12072821  0.12072601 -0.0123185 ]\n",
      "2024-09-11 18:38:18,102 - SAOOVQE.logger - INFO - Starting Orbital-Optimization process...\n",
      "2024-09-11 18:38:25,296 - SAOOVQE.logger - INFO - SA-optimized ansatz parameters: [ 0.11513806  0.11513531 -0.01227983]\n",
      "2024-09-11 18:38:25,297 - SAOOVQE.logger - INFO - Starting Orbital-Optimization process...\n",
      "2024-09-11 18:38:32,657 - SAOOVQE.logger - INFO - SA-optimized ansatz parameters: [ 0.11228727  0.11229864 -0.0122575 ]\n",
      "2024-09-11 18:38:32,658 - SAOOVQE.logger - INFO - Starting Orbital-Optimization process...\n",
      "2024-09-11 18:38:39,925 - SAOOVQE.logger - INFO - SA-optimized ansatz parameters: [ 0.11084927  0.11083833 -0.01224883]\n",
      "2024-09-11 18:38:39,926 - SAOOVQE.logger - INFO - Starting Orbital-Optimization process...\n",
      "2024-09-11 18:38:45,360 - SAOOVQE.logger - INFO - SA-optimized ansatz parameters: [ 0.11009228  0.11006969 -0.01224656]\n",
      "2024-09-11 18:38:45,361 - SAOOVQE.logger - INFO - Starting Orbital-Optimization process...\n",
      "2024-09-11 18:38:50,541 - SAOOVQE.logger - INFO - SA-optimized ansatz parameters: [ 0.10968918  0.10969423 -0.01224469]\n",
      "2024-09-11 18:38:50,542 - SAOOVQE.logger - INFO - Starting Orbital-Optimization process...\n",
      "2024-09-11 18:38:55,980 - SAOOVQE.logger - INFO - SA-optimized ansatz parameters: [ 0.10950869  0.10951686 -0.01224063]\n",
      "2024-09-11 18:38:55,981 - SAOOVQE.logger - INFO - Starting Orbital-Optimization process...\n",
      "2024-09-11 18:39:01,116 - SAOOVQE.logger - INFO - SA-optimized ansatz parameters: [ 0.10942307  0.10941466 -0.01223969]\n",
      "2024-09-11 18:39:01,116 - SAOOVQE.logger - INFO - Starting Orbital-Optimization process...\n",
      "2024-09-11 18:39:05,612 - SAOOVQE.logger - INFO - Optimal phi angle for state-resolution was obtained (phi* = 4.471841267410188).\n"
     ]
    },
    {
     "name": "stdout",
     "output_type": "stream",
     "text": [
      "\n",
      "============== State-Averaged Energies ==============\n",
      "-92.6425659307685\n",
      "-92.64414484313264\n",
      "-92.65981061303728\n"
     ]
    }
   ],
   "execution_count": 9
  },
  {
   "cell_type": "markdown",
   "metadata": {
    "collapsed": false
   },
   "source": [
    "And now, let's have a look at the gradients of the potential energy surface for all the particles at both relevant\n",
    "states."
   ]
  },
  {
   "cell_type": "code",
   "metadata": {
    "collapsed": false,
    "ExecuteTime": {
     "end_time": "2024-09-11T16:39:22.313877Z",
     "start_time": "2024-09-11T16:39:05.965155Z"
    }
   },
   "source": [
    "print('\\n============== Gradients ==============')\n",
    "for state_idx in range(2):\n",
    "    for atom_idx in range(len(symbols)):\n",
    "        print(state_idx, atom_idx, solver_oo_full.eval_eng_gradient(state_idx, atom_idx))"
   ],
   "outputs": [
    {
     "name": "stderr",
     "output_type": "stream",
     "text": [
      "2024-09-11 18:39:05,966 - SAOOVQE.logger - INFO - Constructing gradient evaluators...\n"
     ]
    },
    {
     "name": "stdout",
     "output_type": "stream",
     "text": [
      "\n",
      "============== Gradients ==============\n",
      "[array([0.1594999 , 0.15941297, 0.00392104]), array([-0.15975057, -0.15964672, -0.00392346])]\n",
      "0 0 [-0.22489509 -0.04953975 -0.20136349]\n",
      "[array([0.1594999 , 0.15941297, 0.00392104]), array([-0.15975057, -0.15964672, -0.00392346])]\n",
      "0 1 [0.07450464 0.01798229 0.23643613]\n",
      "[array([0.1594999 , 0.15941297, 0.00392104]), array([-0.15975057, -0.15964672, -0.00392346])]\n",
      "0 2 [-0.00249513  0.02463421 -0.02604222]\n",
      "[array([0.1594999 , 0.15941297, 0.00392104]), array([-0.15975057, -0.15964672, -0.00392346])]\n",
      "0 3 [-0.00682759 -0.02588031 -0.02034392]\n",
      "[array([0.1594999 , 0.15941297, 0.00392104]), array([-0.15975057, -0.15964672, -0.00392346])]\n",
      "0 4 [0.15971316 0.03280356 0.0113135 ]\n",
      "[array([0.1594999 , 0.15941297, 0.00392104]), array([-0.15975057, -0.15964672, -0.00392346])]\n",
      "1 0 [-0.0410096  -0.02400584 -0.54280118]\n",
      "[array([0.1594999 , 0.15941297, 0.00392104]), array([-0.15975057, -0.15964672, -0.00392346])]\n",
      "1 1 [0.06493983 0.00099405 0.51643413]\n",
      "[array([0.1594999 , 0.15941297, 0.00392104]), array([-0.15975057, -0.15964672, -0.00392346])]\n",
      "1 2 [-0.02746993  0.0314159  -0.02810777]\n",
      "[array([0.1594999 , 0.15941297, 0.00392104]), array([-0.15975057, -0.15964672, -0.00392346])]\n",
      "1 3 [-0.0382415  -0.03017123 -0.02737991]\n",
      "[array([0.1594999 , 0.15941297, 0.00392104]), array([-0.15975057, -0.15964672, -0.00392346])]\n",
      "1 4 [0.0417812  0.02176712 0.08185474]\n"
     ]
    }
   ],
   "execution_count": 10
  },
  {
   "cell_type": "markdown",
   "metadata": {
    "collapsed": false
   },
   "source": [
    "And the non-adiabatic couplings."
   ]
  },
  {
   "cell_type": "code",
   "metadata": {
    "collapsed": false,
    "ExecuteTime": {
     "end_time": "2024-09-11T16:39:25.388493Z",
     "start_time": "2024-09-11T16:39:22.314733Z"
    }
   },
   "source": [
    "print('\\n============== Total non-adiabatic couplings ==============')\n",
    "for atom_idx in range(len(symbols)):\n",
    "    print(atom_idx, solver_oo_full.eval_nac(atom_idx))"
   ],
   "outputs": [
    {
     "name": "stdout",
     "output_type": "stream",
     "text": [
      "\n",
      "============== Total non-adiabatic couplings ==============\n",
      "0 [-0.55768231  2.37527181  1.29031111]\n",
      "1 [-0.12649155 -1.09991067 -1.32599432]\n",
      "2 [0.010722   0.01867561 0.22103471]\n",
      "3 [ 0.27471929  0.08494871 -0.10622852]\n",
      "4 [ 0.36415499 -1.27159027 -0.07587189]\n"
     ]
    }
   ],
   "execution_count": 11
  },
  {
   "cell_type": "markdown",
   "metadata": {
    "collapsed": false
   },
   "source": [
    "And finally, considering NACs, we can also have a look at CI and CSF NACs separately."
   ]
  },
  {
   "cell_type": "code",
   "metadata": {
    "collapsed": false,
    "ExecuteTime": {
     "end_time": "2024-09-11T16:39:25.394539Z",
     "start_time": "2024-09-11T16:39:25.389630Z"
    }
   },
   "source": [
    "print('\\n============== CI non-adiabatic couplings ==============')\n",
    "for atom_idx in range(len(symbols)):\n",
    "    print(atom_idx, solver_oo_full.ci_nacs[atom_idx])\n",
    "\n",
    "print('\\n============== CSF non-adiabatic couplings ==============')\n",
    "for atom_idx in range(len(symbols)):\n",
    "    print(atom_idx, solver_oo_full.csf_nacs[atom_idx])"
   ],
   "outputs": [
    {
     "name": "stdout",
     "output_type": "stream",
     "text": [
      "\n",
      "============== CI non-adiabatic couplings ==============\n",
      "0 [-0.51633172  2.1620211   1.29018778]\n",
      "1 [-0.11974115 -1.06874766 -1.32508811]\n",
      "2 [-0.03526327  0.02012146  0.22513544]\n",
      "3 [ 0.31514566  0.08634093 -0.11030773]\n",
      "4 [ 0.35619048 -1.19973583 -0.07992739]\n",
      "\n",
      "============== CSF non-adiabatic couplings ==============\n",
      "0 [-4.13505881e-02  2.13250719e-01  1.23333343e-04]\n",
      "1 [-0.0067504  -0.03116302 -0.00090621]\n",
      "2 [ 0.04598526 -0.00144585 -0.00410074]\n",
      "3 [-0.04042637 -0.00139221  0.00407921]\n",
      "4 [ 0.00796451 -0.07185444  0.0040555 ]\n"
     ]
    }
   ],
   "execution_count": 12
  },
  {
   "cell_type": "markdown",
   "metadata": {
    "collapsed": false
   },
   "source": []
  }
 ],
 "metadata": {
  "kernelspec": {
   "display_name": "Python 3",
   "language": "python",
   "name": "python3"
  },
  "language_info": {
   "codemirror_mode": {
    "name": "ipython",
    "version": 3
   },
   "file_extension": ".py",
   "mimetype": "text/x-python",
   "name": "python",
   "nbconvert_exporter": "python",
   "pygments_lexer": "ipython3",
   "version": "3.10.13"
  }
 },
 "nbformat": 4,
 "nbformat_minor": 0
}
