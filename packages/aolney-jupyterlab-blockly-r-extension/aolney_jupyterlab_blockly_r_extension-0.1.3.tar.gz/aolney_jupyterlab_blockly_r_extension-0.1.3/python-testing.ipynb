{
 "cells": [
  {
   "cell_type": "markdown",
   "id": "d996901b-d382-459b-acd5-402e8cdee3c4",
   "metadata": {},
   "source": [
    "# Python test"
   ]
  },
  {
   "cell_type": "code",
   "execution_count": 2,
   "id": "636a99e1-120e-422e-9c6c-fe4c7d272dc5",
   "metadata": {},
   "outputs": [],
   "source": [
    "import pandas as pd\n",
    "\n",
    "#<xml xmlns=\"https://developers.google.com/blockly/xml\"><variables><variable id=\"Ps[iIy)|Bo9CNbw4FAV/\">pd</variable></variables><block type=\"importAs_Python\" id=\"=:,6mPFsb3q@}Hwmz~8Q\" x=\"16\" y=\"8\"><field name=\"libraryName\">pandas</field><field name=\"libraryAlias\" id=\"Ps[iIy)|Bo9CNbw4FAV/\">pd</field></block></xml>"
   ]
  },
  {
   "cell_type": "code",
   "execution_count": null,
   "id": "18e8ef0a-d0d5-43d7-8617-855d444a2ac3",
   "metadata": {},
   "outputs": [],
   "source": []
  }
 ],
 "metadata": {
  "kernelspec": {
   "display_name": "Python 3 (ipykernel)",
   "language": "python",
   "name": "python3"
  },
  "language_info": {
   "codemirror_mode": {
    "name": "ipython",
    "version": 3
   },
   "file_extension": ".py",
   "mimetype": "text/x-python",
   "name": "python",
   "nbconvert_exporter": "python",
   "pygments_lexer": "ipython3",
   "version": "3.10.13"
  }
 },
 "nbformat": 4,
 "nbformat_minor": 5
}
