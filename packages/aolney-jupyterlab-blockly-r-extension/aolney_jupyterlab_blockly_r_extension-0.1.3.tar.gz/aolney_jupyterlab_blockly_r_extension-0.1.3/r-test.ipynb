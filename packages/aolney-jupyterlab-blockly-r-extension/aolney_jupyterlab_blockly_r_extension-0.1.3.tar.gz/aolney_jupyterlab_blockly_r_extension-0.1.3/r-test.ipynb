{
 "cells": [
  {
   "cell_type": "code",
   "execution_count": 14,
   "id": "ef97509f-ce30-416a-b95e-aefcbbb40fb4",
   "metadata": {},
   "outputs": [],
   "source": [
    "library(forcats)\n",
    "\n",
    "#<xml xmlns=\"https://developers.google.com/blockly/xml\"><variables><variable id=\"|d`f[O/+|3~`?TT1YPMe\">forcats</variable></variables><block type=\"import_R\" id=\"^,I$sEI2zIn8GowFGZja\" x=\"16\" y=\"-142\"><field name=\"libraryName\" id=\"|d`f[O/+|3~`?TT1YPMe\">forcats</field></block></xml>"
   ]
  },
  {
   "cell_type": "code",
   "execution_count": 2,
   "id": "109d0d7d-8b96-4392-ade0-553ebf7afb3b",
   "metadata": {},
   "outputs": [
    {
     "ename": "ERROR",
     "evalue": "Error in library(irkernel): there is no package called ‘irkernel’\n",
     "output_type": "error",
     "traceback": [
      "Error in library(irkernel): there is no package called ‘irkernel’\nTraceback:\n",
      "1. library(irkernel)"
     ]
    }
   ],
   "source": [
    "library(irkernel)"
   ]
  },
  {
   "cell_type": "code",
   "execution_count": 1,
   "id": "e0244fbd-34ad-4531-8b85-a540437effc7",
   "metadata": {},
   "outputs": [
    {
     "ename": "ERROR",
     "evalue": "Error in packageVersion(\"irkernel\"): there is no package called ‘irkernel’\n",
     "output_type": "error",
     "traceback": [
      "Error in packageVersion(\"irkernel\"): there is no package called ‘irkernel’\nTraceback:\n",
      "1. packageVersion(\"irkernel\")"
     ]
    }
   ],
   "source": [
    "packageVersion(\"irkernel\")"
   ]
  },
  {
   "cell_type": "code",
   "execution_count": 30,
   "id": "0aaddb65-7c60-40ae-87ae-253810372d2a",
   "metadata": {},
   "outputs": [],
   "source": [
    "library(readr)\n",
    "library(dplyr)\n",
    "\n",
    "#<xml xmlns=\"https://developers.google.com/blockly/xml\"><variables><variable id=\"=bMEf9)[-gP]{idUmVG-\">readr</variable><variable id=\"NJ`!1DB+W)#.e?bIVUbP\">dplyr</variable></variables><block type=\"import_R\" id=\"pG?,aIH=V_[qz$.L{B4]\" x=\"49\" y=\"34\"><field name=\"libraryName\" id=\"=bMEf9)[-gP]{idUmVG-\">readr</field><next><block type=\"import_R\" id=\"y+43z;K9vj|pO2%be|UT\"><field name=\"libraryName\" id=\"NJ`!1DB+W)#.e?bIVUbP\">dplyr</field></block></next></block></xml>"
   ]
  },
  {
   "cell_type": "code",
   "execution_count": 31,
   "id": "bcf34649-d67f-40a0-babb-1f316c9a4b36",
   "metadata": {},
   "outputs": [
    {
     "data": {
      "text/html": [
       "<table class=\"dataframe\">\n",
       "<caption>A tibble: 3 × 2</caption>\n",
       "<thead>\n",
       "\t<tr><th scope=col>name</th><th scope=col>plays</th></tr>\n",
       "\t<tr><th scope=col>&lt;chr&gt;</th><th scope=col>&lt;chr&gt;</th></tr>\n",
       "</thead>\n",
       "<tbody>\n",
       "\t<tr><td>John </td><td>guitar</td></tr>\n",
       "\t<tr><td>Paul </td><td>bass  </td></tr>\n",
       "\t<tr><td>Keith</td><td>guitar</td></tr>\n",
       "</tbody>\n",
       "</table>\n"
      ],
      "text/latex": [
       "A tibble: 3 × 2\n",
       "\\begin{tabular}{ll}\n",
       " name & plays\\\\\n",
       " <chr> & <chr>\\\\\n",
       "\\hline\n",
       "\t John  & guitar\\\\\n",
       "\t Paul  & bass  \\\\\n",
       "\t Keith & guitar\\\\\n",
       "\\end{tabular}\n"
      ],
      "text/markdown": [
       "\n",
       "A tibble: 3 × 2\n",
       "\n",
       "| name &lt;chr&gt; | plays &lt;chr&gt; |\n",
       "|---|---|\n",
       "| John  | guitar |\n",
       "| Paul  | bass   |\n",
       "| Keith | guitar |\n",
       "\n"
      ],
      "text/plain": [
       "  name  plays \n",
       "1 John  guitar\n",
       "2 Paul  bass  \n",
       "3 Keith guitar"
      ]
     },
     "metadata": {},
     "output_type": "display_data"
    }
   ],
   "source": [
    "dplyr::band_instruments"
   ]
  },
  {
   "cell_type": "code",
   "execution_count": 2,
   "id": "ca2ce1b8-f732-400a-a38c-b4d74e55c792",
   "metadata": {},
   "outputs": [
    {
     "name": "stderr",
     "output_type": "stream",
     "text": [
      "\u001b[1mRows: \u001b[22m\u001b[34m150\u001b[39m \u001b[1mColumns: \u001b[22m\u001b[34m5\u001b[39m\n",
      "\u001b[36m──\u001b[39m \u001b[1mColumn specification\u001b[22m \u001b[36m────────────────────────────────────────────────────────────────────────────────\u001b[39m\n",
      "\u001b[1mDelimiter:\u001b[22m \",\"\n",
      "\u001b[31mchr\u001b[39m (1): variety\n",
      "\u001b[32mdbl\u001b[39m (4): sepal.length, sepal.width, petal.length, petal.width\n",
      "\n",
      "\u001b[36mℹ\u001b[39m Use `spec()` to retrieve the full column specification for this data.\n",
      "\u001b[36mℹ\u001b[39m Specify the column types or set `show_col_types = FALSE` to quiet this message.\n"
     ]
    },
    {
     "data": {
      "text/html": [
       "<table class=\"dataframe\">\n",
       "<caption>A spec_tbl_df: 150 × 5</caption>\n",
       "<thead>\n",
       "\t<tr><th scope=col>sepal.length</th><th scope=col>sepal.width</th><th scope=col>petal.length</th><th scope=col>petal.width</th><th scope=col>variety</th></tr>\n",
       "\t<tr><th scope=col>&lt;dbl&gt;</th><th scope=col>&lt;dbl&gt;</th><th scope=col>&lt;dbl&gt;</th><th scope=col>&lt;dbl&gt;</th><th scope=col>&lt;chr&gt;</th></tr>\n",
       "</thead>\n",
       "<tbody>\n",
       "\t<tr><td>5.1</td><td>3.5</td><td>1.4</td><td>0.2</td><td>Setosa</td></tr>\n",
       "\t<tr><td>4.9</td><td>3.0</td><td>1.4</td><td>0.2</td><td>Setosa</td></tr>\n",
       "\t<tr><td>4.7</td><td>3.2</td><td>1.3</td><td>0.2</td><td>Setosa</td></tr>\n",
       "\t<tr><td>4.6</td><td>3.1</td><td>1.5</td><td>0.2</td><td>Setosa</td></tr>\n",
       "\t<tr><td>5.0</td><td>3.6</td><td>1.4</td><td>0.2</td><td>Setosa</td></tr>\n",
       "\t<tr><td>5.4</td><td>3.9</td><td>1.7</td><td>0.4</td><td>Setosa</td></tr>\n",
       "\t<tr><td>4.6</td><td>3.4</td><td>1.4</td><td>0.3</td><td>Setosa</td></tr>\n",
       "\t<tr><td>5.0</td><td>3.4</td><td>1.5</td><td>0.2</td><td>Setosa</td></tr>\n",
       "\t<tr><td>4.4</td><td>2.9</td><td>1.4</td><td>0.2</td><td>Setosa</td></tr>\n",
       "\t<tr><td>4.9</td><td>3.1</td><td>1.5</td><td>0.1</td><td>Setosa</td></tr>\n",
       "\t<tr><td>5.4</td><td>3.7</td><td>1.5</td><td>0.2</td><td>Setosa</td></tr>\n",
       "\t<tr><td>4.8</td><td>3.4</td><td>1.6</td><td>0.2</td><td>Setosa</td></tr>\n",
       "\t<tr><td>4.8</td><td>3.0</td><td>1.4</td><td>0.1</td><td>Setosa</td></tr>\n",
       "\t<tr><td>4.3</td><td>3.0</td><td>1.1</td><td>0.1</td><td>Setosa</td></tr>\n",
       "\t<tr><td>5.8</td><td>4.0</td><td>1.2</td><td>0.2</td><td>Setosa</td></tr>\n",
       "\t<tr><td>5.7</td><td>4.4</td><td>1.5</td><td>0.4</td><td>Setosa</td></tr>\n",
       "\t<tr><td>5.4</td><td>3.9</td><td>1.3</td><td>0.4</td><td>Setosa</td></tr>\n",
       "\t<tr><td>5.1</td><td>3.5</td><td>1.4</td><td>0.3</td><td>Setosa</td></tr>\n",
       "\t<tr><td>5.7</td><td>3.8</td><td>1.7</td><td>0.3</td><td>Setosa</td></tr>\n",
       "\t<tr><td>5.1</td><td>3.8</td><td>1.5</td><td>0.3</td><td>Setosa</td></tr>\n",
       "\t<tr><td>5.4</td><td>3.4</td><td>1.7</td><td>0.2</td><td>Setosa</td></tr>\n",
       "\t<tr><td>5.1</td><td>3.7</td><td>1.5</td><td>0.4</td><td>Setosa</td></tr>\n",
       "\t<tr><td>4.6</td><td>3.6</td><td>1.0</td><td>0.2</td><td>Setosa</td></tr>\n",
       "\t<tr><td>5.1</td><td>3.3</td><td>1.7</td><td>0.5</td><td>Setosa</td></tr>\n",
       "\t<tr><td>4.8</td><td>3.4</td><td>1.9</td><td>0.2</td><td>Setosa</td></tr>\n",
       "\t<tr><td>5.0</td><td>3.0</td><td>1.6</td><td>0.2</td><td>Setosa</td></tr>\n",
       "\t<tr><td>5.0</td><td>3.4</td><td>1.6</td><td>0.4</td><td>Setosa</td></tr>\n",
       "\t<tr><td>5.2</td><td>3.5</td><td>1.5</td><td>0.2</td><td>Setosa</td></tr>\n",
       "\t<tr><td>5.2</td><td>3.4</td><td>1.4</td><td>0.2</td><td>Setosa</td></tr>\n",
       "\t<tr><td>4.7</td><td>3.2</td><td>1.6</td><td>0.2</td><td>Setosa</td></tr>\n",
       "\t<tr><td>⋮</td><td>⋮</td><td>⋮</td><td>⋮</td><td>⋮</td></tr>\n",
       "\t<tr><td>6.9</td><td>3.2</td><td>5.7</td><td>2.3</td><td>Virginica</td></tr>\n",
       "\t<tr><td>5.6</td><td>2.8</td><td>4.9</td><td>2.0</td><td>Virginica</td></tr>\n",
       "\t<tr><td>7.7</td><td>2.8</td><td>6.7</td><td>2.0</td><td>Virginica</td></tr>\n",
       "\t<tr><td>6.3</td><td>2.7</td><td>4.9</td><td>1.8</td><td>Virginica</td></tr>\n",
       "\t<tr><td>6.7</td><td>3.3</td><td>5.7</td><td>2.1</td><td>Virginica</td></tr>\n",
       "\t<tr><td>7.2</td><td>3.2</td><td>6.0</td><td>1.8</td><td>Virginica</td></tr>\n",
       "\t<tr><td>6.2</td><td>2.8</td><td>4.8</td><td>1.8</td><td>Virginica</td></tr>\n",
       "\t<tr><td>6.1</td><td>3.0</td><td>4.9</td><td>1.8</td><td>Virginica</td></tr>\n",
       "\t<tr><td>6.4</td><td>2.8</td><td>5.6</td><td>2.1</td><td>Virginica</td></tr>\n",
       "\t<tr><td>7.2</td><td>3.0</td><td>5.8</td><td>1.6</td><td>Virginica</td></tr>\n",
       "\t<tr><td>7.4</td><td>2.8</td><td>6.1</td><td>1.9</td><td>Virginica</td></tr>\n",
       "\t<tr><td>7.9</td><td>3.8</td><td>6.4</td><td>2.0</td><td>Virginica</td></tr>\n",
       "\t<tr><td>6.4</td><td>2.8</td><td>5.6</td><td>2.2</td><td>Virginica</td></tr>\n",
       "\t<tr><td>6.3</td><td>2.8</td><td>5.1</td><td>1.5</td><td>Virginica</td></tr>\n",
       "\t<tr><td>6.1</td><td>2.6</td><td>5.6</td><td>1.4</td><td>Virginica</td></tr>\n",
       "\t<tr><td>7.7</td><td>3.0</td><td>6.1</td><td>2.3</td><td>Virginica</td></tr>\n",
       "\t<tr><td>6.3</td><td>3.4</td><td>5.6</td><td>2.4</td><td>Virginica</td></tr>\n",
       "\t<tr><td>6.4</td><td>3.1</td><td>5.5</td><td>1.8</td><td>Virginica</td></tr>\n",
       "\t<tr><td>6.0</td><td>3.0</td><td>4.8</td><td>1.8</td><td>Virginica</td></tr>\n",
       "\t<tr><td>6.9</td><td>3.1</td><td>5.4</td><td>2.1</td><td>Virginica</td></tr>\n",
       "\t<tr><td>6.7</td><td>3.1</td><td>5.6</td><td>2.4</td><td>Virginica</td></tr>\n",
       "\t<tr><td>6.9</td><td>3.1</td><td>5.1</td><td>2.3</td><td>Virginica</td></tr>\n",
       "\t<tr><td>5.8</td><td>2.7</td><td>5.1</td><td>1.9</td><td>Virginica</td></tr>\n",
       "\t<tr><td>6.8</td><td>3.2</td><td>5.9</td><td>2.3</td><td>Virginica</td></tr>\n",
       "\t<tr><td>6.7</td><td>3.3</td><td>5.7</td><td>2.5</td><td>Virginica</td></tr>\n",
       "\t<tr><td>6.7</td><td>3.0</td><td>5.2</td><td>2.3</td><td>Virginica</td></tr>\n",
       "\t<tr><td>6.3</td><td>2.5</td><td>5.0</td><td>1.9</td><td>Virginica</td></tr>\n",
       "\t<tr><td>6.5</td><td>3.0</td><td>5.2</td><td>2.0</td><td>Virginica</td></tr>\n",
       "\t<tr><td>6.2</td><td>3.4</td><td>5.4</td><td>2.3</td><td>Virginica</td></tr>\n",
       "\t<tr><td>5.9</td><td>3.0</td><td>5.1</td><td>1.8</td><td>Virginica</td></tr>\n",
       "</tbody>\n",
       "</table>\n"
      ],
      "text/latex": [
       "A spec\\_tbl\\_df: 150 × 5\n",
       "\\begin{tabular}{lllll}\n",
       " sepal.length & sepal.width & petal.length & petal.width & variety\\\\\n",
       " <dbl> & <dbl> & <dbl> & <dbl> & <chr>\\\\\n",
       "\\hline\n",
       "\t 5.1 & 3.5 & 1.4 & 0.2 & Setosa\\\\\n",
       "\t 4.9 & 3.0 & 1.4 & 0.2 & Setosa\\\\\n",
       "\t 4.7 & 3.2 & 1.3 & 0.2 & Setosa\\\\\n",
       "\t 4.6 & 3.1 & 1.5 & 0.2 & Setosa\\\\\n",
       "\t 5.0 & 3.6 & 1.4 & 0.2 & Setosa\\\\\n",
       "\t 5.4 & 3.9 & 1.7 & 0.4 & Setosa\\\\\n",
       "\t 4.6 & 3.4 & 1.4 & 0.3 & Setosa\\\\\n",
       "\t 5.0 & 3.4 & 1.5 & 0.2 & Setosa\\\\\n",
       "\t 4.4 & 2.9 & 1.4 & 0.2 & Setosa\\\\\n",
       "\t 4.9 & 3.1 & 1.5 & 0.1 & Setosa\\\\\n",
       "\t 5.4 & 3.7 & 1.5 & 0.2 & Setosa\\\\\n",
       "\t 4.8 & 3.4 & 1.6 & 0.2 & Setosa\\\\\n",
       "\t 4.8 & 3.0 & 1.4 & 0.1 & Setosa\\\\\n",
       "\t 4.3 & 3.0 & 1.1 & 0.1 & Setosa\\\\\n",
       "\t 5.8 & 4.0 & 1.2 & 0.2 & Setosa\\\\\n",
       "\t 5.7 & 4.4 & 1.5 & 0.4 & Setosa\\\\\n",
       "\t 5.4 & 3.9 & 1.3 & 0.4 & Setosa\\\\\n",
       "\t 5.1 & 3.5 & 1.4 & 0.3 & Setosa\\\\\n",
       "\t 5.7 & 3.8 & 1.7 & 0.3 & Setosa\\\\\n",
       "\t 5.1 & 3.8 & 1.5 & 0.3 & Setosa\\\\\n",
       "\t 5.4 & 3.4 & 1.7 & 0.2 & Setosa\\\\\n",
       "\t 5.1 & 3.7 & 1.5 & 0.4 & Setosa\\\\\n",
       "\t 4.6 & 3.6 & 1.0 & 0.2 & Setosa\\\\\n",
       "\t 5.1 & 3.3 & 1.7 & 0.5 & Setosa\\\\\n",
       "\t 4.8 & 3.4 & 1.9 & 0.2 & Setosa\\\\\n",
       "\t 5.0 & 3.0 & 1.6 & 0.2 & Setosa\\\\\n",
       "\t 5.0 & 3.4 & 1.6 & 0.4 & Setosa\\\\\n",
       "\t 5.2 & 3.5 & 1.5 & 0.2 & Setosa\\\\\n",
       "\t 5.2 & 3.4 & 1.4 & 0.2 & Setosa\\\\\n",
       "\t 4.7 & 3.2 & 1.6 & 0.2 & Setosa\\\\\n",
       "\t ⋮ & ⋮ & ⋮ & ⋮ & ⋮\\\\\n",
       "\t 6.9 & 3.2 & 5.7 & 2.3 & Virginica\\\\\n",
       "\t 5.6 & 2.8 & 4.9 & 2.0 & Virginica\\\\\n",
       "\t 7.7 & 2.8 & 6.7 & 2.0 & Virginica\\\\\n",
       "\t 6.3 & 2.7 & 4.9 & 1.8 & Virginica\\\\\n",
       "\t 6.7 & 3.3 & 5.7 & 2.1 & Virginica\\\\\n",
       "\t 7.2 & 3.2 & 6.0 & 1.8 & Virginica\\\\\n",
       "\t 6.2 & 2.8 & 4.8 & 1.8 & Virginica\\\\\n",
       "\t 6.1 & 3.0 & 4.9 & 1.8 & Virginica\\\\\n",
       "\t 6.4 & 2.8 & 5.6 & 2.1 & Virginica\\\\\n",
       "\t 7.2 & 3.0 & 5.8 & 1.6 & Virginica\\\\\n",
       "\t 7.4 & 2.8 & 6.1 & 1.9 & Virginica\\\\\n",
       "\t 7.9 & 3.8 & 6.4 & 2.0 & Virginica\\\\\n",
       "\t 6.4 & 2.8 & 5.6 & 2.2 & Virginica\\\\\n",
       "\t 6.3 & 2.8 & 5.1 & 1.5 & Virginica\\\\\n",
       "\t 6.1 & 2.6 & 5.6 & 1.4 & Virginica\\\\\n",
       "\t 7.7 & 3.0 & 6.1 & 2.3 & Virginica\\\\\n",
       "\t 6.3 & 3.4 & 5.6 & 2.4 & Virginica\\\\\n",
       "\t 6.4 & 3.1 & 5.5 & 1.8 & Virginica\\\\\n",
       "\t 6.0 & 3.0 & 4.8 & 1.8 & Virginica\\\\\n",
       "\t 6.9 & 3.1 & 5.4 & 2.1 & Virginica\\\\\n",
       "\t 6.7 & 3.1 & 5.6 & 2.4 & Virginica\\\\\n",
       "\t 6.9 & 3.1 & 5.1 & 2.3 & Virginica\\\\\n",
       "\t 5.8 & 2.7 & 5.1 & 1.9 & Virginica\\\\\n",
       "\t 6.8 & 3.2 & 5.9 & 2.3 & Virginica\\\\\n",
       "\t 6.7 & 3.3 & 5.7 & 2.5 & Virginica\\\\\n",
       "\t 6.7 & 3.0 & 5.2 & 2.3 & Virginica\\\\\n",
       "\t 6.3 & 2.5 & 5.0 & 1.9 & Virginica\\\\\n",
       "\t 6.5 & 3.0 & 5.2 & 2.0 & Virginica\\\\\n",
       "\t 6.2 & 3.4 & 5.4 & 2.3 & Virginica\\\\\n",
       "\t 5.9 & 3.0 & 5.1 & 1.8 & Virginica\\\\\n",
       "\\end{tabular}\n"
      ],
      "text/markdown": [
       "\n",
       "A spec_tbl_df: 150 × 5\n",
       "\n",
       "| sepal.length &lt;dbl&gt; | sepal.width &lt;dbl&gt; | petal.length &lt;dbl&gt; | petal.width &lt;dbl&gt; | variety &lt;chr&gt; |\n",
       "|---|---|---|---|---|\n",
       "| 5.1 | 3.5 | 1.4 | 0.2 | Setosa |\n",
       "| 4.9 | 3.0 | 1.4 | 0.2 | Setosa |\n",
       "| 4.7 | 3.2 | 1.3 | 0.2 | Setosa |\n",
       "| 4.6 | 3.1 | 1.5 | 0.2 | Setosa |\n",
       "| 5.0 | 3.6 | 1.4 | 0.2 | Setosa |\n",
       "| 5.4 | 3.9 | 1.7 | 0.4 | Setosa |\n",
       "| 4.6 | 3.4 | 1.4 | 0.3 | Setosa |\n",
       "| 5.0 | 3.4 | 1.5 | 0.2 | Setosa |\n",
       "| 4.4 | 2.9 | 1.4 | 0.2 | Setosa |\n",
       "| 4.9 | 3.1 | 1.5 | 0.1 | Setosa |\n",
       "| 5.4 | 3.7 | 1.5 | 0.2 | Setosa |\n",
       "| 4.8 | 3.4 | 1.6 | 0.2 | Setosa |\n",
       "| 4.8 | 3.0 | 1.4 | 0.1 | Setosa |\n",
       "| 4.3 | 3.0 | 1.1 | 0.1 | Setosa |\n",
       "| 5.8 | 4.0 | 1.2 | 0.2 | Setosa |\n",
       "| 5.7 | 4.4 | 1.5 | 0.4 | Setosa |\n",
       "| 5.4 | 3.9 | 1.3 | 0.4 | Setosa |\n",
       "| 5.1 | 3.5 | 1.4 | 0.3 | Setosa |\n",
       "| 5.7 | 3.8 | 1.7 | 0.3 | Setosa |\n",
       "| 5.1 | 3.8 | 1.5 | 0.3 | Setosa |\n",
       "| 5.4 | 3.4 | 1.7 | 0.2 | Setosa |\n",
       "| 5.1 | 3.7 | 1.5 | 0.4 | Setosa |\n",
       "| 4.6 | 3.6 | 1.0 | 0.2 | Setosa |\n",
       "| 5.1 | 3.3 | 1.7 | 0.5 | Setosa |\n",
       "| 4.8 | 3.4 | 1.9 | 0.2 | Setosa |\n",
       "| 5.0 | 3.0 | 1.6 | 0.2 | Setosa |\n",
       "| 5.0 | 3.4 | 1.6 | 0.4 | Setosa |\n",
       "| 5.2 | 3.5 | 1.5 | 0.2 | Setosa |\n",
       "| 5.2 | 3.4 | 1.4 | 0.2 | Setosa |\n",
       "| 4.7 | 3.2 | 1.6 | 0.2 | Setosa |\n",
       "| ⋮ | ⋮ | ⋮ | ⋮ | ⋮ |\n",
       "| 6.9 | 3.2 | 5.7 | 2.3 | Virginica |\n",
       "| 5.6 | 2.8 | 4.9 | 2.0 | Virginica |\n",
       "| 7.7 | 2.8 | 6.7 | 2.0 | Virginica |\n",
       "| 6.3 | 2.7 | 4.9 | 1.8 | Virginica |\n",
       "| 6.7 | 3.3 | 5.7 | 2.1 | Virginica |\n",
       "| 7.2 | 3.2 | 6.0 | 1.8 | Virginica |\n",
       "| 6.2 | 2.8 | 4.8 | 1.8 | Virginica |\n",
       "| 6.1 | 3.0 | 4.9 | 1.8 | Virginica |\n",
       "| 6.4 | 2.8 | 5.6 | 2.1 | Virginica |\n",
       "| 7.2 | 3.0 | 5.8 | 1.6 | Virginica |\n",
       "| 7.4 | 2.8 | 6.1 | 1.9 | Virginica |\n",
       "| 7.9 | 3.8 | 6.4 | 2.0 | Virginica |\n",
       "| 6.4 | 2.8 | 5.6 | 2.2 | Virginica |\n",
       "| 6.3 | 2.8 | 5.1 | 1.5 | Virginica |\n",
       "| 6.1 | 2.6 | 5.6 | 1.4 | Virginica |\n",
       "| 7.7 | 3.0 | 6.1 | 2.3 | Virginica |\n",
       "| 6.3 | 3.4 | 5.6 | 2.4 | Virginica |\n",
       "| 6.4 | 3.1 | 5.5 | 1.8 | Virginica |\n",
       "| 6.0 | 3.0 | 4.8 | 1.8 | Virginica |\n",
       "| 6.9 | 3.1 | 5.4 | 2.1 | Virginica |\n",
       "| 6.7 | 3.1 | 5.6 | 2.4 | Virginica |\n",
       "| 6.9 | 3.1 | 5.1 | 2.3 | Virginica |\n",
       "| 5.8 | 2.7 | 5.1 | 1.9 | Virginica |\n",
       "| 6.8 | 3.2 | 5.9 | 2.3 | Virginica |\n",
       "| 6.7 | 3.3 | 5.7 | 2.5 | Virginica |\n",
       "| 6.7 | 3.0 | 5.2 | 2.3 | Virginica |\n",
       "| 6.3 | 2.5 | 5.0 | 1.9 | Virginica |\n",
       "| 6.5 | 3.0 | 5.2 | 2.0 | Virginica |\n",
       "| 6.2 | 3.4 | 5.4 | 2.3 | Virginica |\n",
       "| 5.9 | 3.0 | 5.1 | 1.8 | Virginica |\n",
       "\n"
      ],
      "text/plain": [
       "    sepal.length sepal.width petal.length petal.width variety  \n",
       "1   5.1          3.5         1.4          0.2         Setosa   \n",
       "2   4.9          3.0         1.4          0.2         Setosa   \n",
       "3   4.7          3.2         1.3          0.2         Setosa   \n",
       "4   4.6          3.1         1.5          0.2         Setosa   \n",
       "5   5.0          3.6         1.4          0.2         Setosa   \n",
       "6   5.4          3.9         1.7          0.4         Setosa   \n",
       "7   4.6          3.4         1.4          0.3         Setosa   \n",
       "8   5.0          3.4         1.5          0.2         Setosa   \n",
       "9   4.4          2.9         1.4          0.2         Setosa   \n",
       "10  4.9          3.1         1.5          0.1         Setosa   \n",
       "11  5.4          3.7         1.5          0.2         Setosa   \n",
       "12  4.8          3.4         1.6          0.2         Setosa   \n",
       "13  4.8          3.0         1.4          0.1         Setosa   \n",
       "14  4.3          3.0         1.1          0.1         Setosa   \n",
       "15  5.8          4.0         1.2          0.2         Setosa   \n",
       "16  5.7          4.4         1.5          0.4         Setosa   \n",
       "17  5.4          3.9         1.3          0.4         Setosa   \n",
       "18  5.1          3.5         1.4          0.3         Setosa   \n",
       "19  5.7          3.8         1.7          0.3         Setosa   \n",
       "20  5.1          3.8         1.5          0.3         Setosa   \n",
       "21  5.4          3.4         1.7          0.2         Setosa   \n",
       "22  5.1          3.7         1.5          0.4         Setosa   \n",
       "23  4.6          3.6         1.0          0.2         Setosa   \n",
       "24  5.1          3.3         1.7          0.5         Setosa   \n",
       "25  4.8          3.4         1.9          0.2         Setosa   \n",
       "26  5.0          3.0         1.6          0.2         Setosa   \n",
       "27  5.0          3.4         1.6          0.4         Setosa   \n",
       "28  5.2          3.5         1.5          0.2         Setosa   \n",
       "29  5.2          3.4         1.4          0.2         Setosa   \n",
       "30  4.7          3.2         1.6          0.2         Setosa   \n",
       "⋮   ⋮            ⋮           ⋮            ⋮           ⋮        \n",
       "121 6.9          3.2         5.7          2.3         Virginica\n",
       "122 5.6          2.8         4.9          2.0         Virginica\n",
       "123 7.7          2.8         6.7          2.0         Virginica\n",
       "124 6.3          2.7         4.9          1.8         Virginica\n",
       "125 6.7          3.3         5.7          2.1         Virginica\n",
       "126 7.2          3.2         6.0          1.8         Virginica\n",
       "127 6.2          2.8         4.8          1.8         Virginica\n",
       "128 6.1          3.0         4.9          1.8         Virginica\n",
       "129 6.4          2.8         5.6          2.1         Virginica\n",
       "130 7.2          3.0         5.8          1.6         Virginica\n",
       "131 7.4          2.8         6.1          1.9         Virginica\n",
       "132 7.9          3.8         6.4          2.0         Virginica\n",
       "133 6.4          2.8         5.6          2.2         Virginica\n",
       "134 6.3          2.8         5.1          1.5         Virginica\n",
       "135 6.1          2.6         5.6          1.4         Virginica\n",
       "136 7.7          3.0         6.1          2.3         Virginica\n",
       "137 6.3          3.4         5.6          2.4         Virginica\n",
       "138 6.4          3.1         5.5          1.8         Virginica\n",
       "139 6.0          3.0         4.8          1.8         Virginica\n",
       "140 6.9          3.1         5.4          2.1         Virginica\n",
       "141 6.7          3.1         5.6          2.4         Virginica\n",
       "142 6.9          3.1         5.1          2.3         Virginica\n",
       "143 5.8          2.7         5.1          1.9         Virginica\n",
       "144 6.8          3.2         5.9          2.3         Virginica\n",
       "145 6.7          3.3         5.7          2.5         Virginica\n",
       "146 6.7          3.0         5.2          2.3         Virginica\n",
       "147 6.3          2.5         5.0          1.9         Virginica\n",
       "148 6.5          3.0         5.2          2.0         Virginica\n",
       "149 6.2          3.4         5.4          2.3         Virginica\n",
       "150 5.9          3.0         5.1          1.8         Virginica"
      ]
     },
     "metadata": {},
     "output_type": "display_data"
    }
   ],
   "source": [
    "dplyr::\n",
    "\n",
    "dplyr::starwars()\n",
    "\n",
    "df = readr::read_csv(\"https://gist.githubusercontent.com/netj/8836201/raw/6f9306ad21398ea43cba4f7d537619d0e07d5ae3/iris.csv\")\n",
    "\n",
    "df\n",
    "\n",
    "#<xml xmlns=\"https://developers.google.com/blockly/xml\"><variables><variable id=\"vxNe9dxW3cg{*%R6^eq6\">df</variable><variable id=\"NJ`!1DB+W)#.e?bIVUbP\">dplyr</variable><variable id=\"=bMEf9)[-gP]{idUmVG-\">readr</variable></variables><block type=\"varGetProperty_R\" id=\"jGvR7JKI1^h:sTNe6H7;\" x=\"8\" y=\"-2\"><field name=\"VAR\" id=\"NJ`!1DB+W)#.e?bIVUbP\">dplyr</field><field name=\"MEMBER\"></field></block><block type=\"varDoMethod_R\" id=\"$R?nlj_pD[d5qoJb|Va{\" x=\"8\" y=\"44\"><mutation items=\"1\"></mutation><field name=\"VAR\" id=\"NJ`!1DB+W)#.e?bIVUbP\">dplyr</field><field name=\"MEMBER\">starwars</field><data>starwars</data></block><block type=\"variables_set\" id=\"ZIk_^LX$JY=djm~+Bpt!\" x=\"65\" y=\"128\"><field name=\"VAR\" id=\"vxNe9dxW3cg{*%R6^eq6\">df</field><value name=\"VALUE\"><block type=\"varDoMethod_R\" id=\"U6g+y,7,yv)vePVG`9T)\"><mutation items=\"1\"></mutation><field name=\"VAR\" id=\"=bMEf9)[-gP]{idUmVG-\">readr</field><field name=\"MEMBER\">read_csv</field><data>read_csv</data><value name=\"ADD0\"><block type=\"text\" id=\"#%7]y9dA7Z$6!G8:g]I3\"><field name=\"TEXT\">https://gist.githubusercontent.com/netj/8836201/raw/6f9306ad21398ea43cba4f7d537619d0e07d5ae3/iris.csv</field></block></value></block></value></block><block type=\"variables_get\" id=\"PwtD|)Oa1gQLq$})1b!Z\" x=\"65\" y=\"211\"><field name=\"VAR\" id=\"vxNe9dxW3cg{*%R6^eq6\">df</field></block></xml>"
   ]
  },
  {
   "cell_type": "code",
   "execution_count": 1,
   "id": "956b04a3-c4f9-4a3c-b926-64a085c62ee8",
   "metadata": {},
   "outputs": [],
   "source": [
    "library(stats)\n",
    "\n",
    "#<xml xmlns=\"https://developers.google.com/blockly/xml\"><variables><variable id=\"*LI!|!#dZJUB[(J8U.I{\">stats</variable></variables><block type=\"import_R\" id=\"d|fOG.myYstFusT[bu;T\" x=\"16\" y=\"8\"><field name=\"libraryName\" id=\"*LI!|!#dZJUB[(J8U.I{\">stats</field></block></xml>"
   ]
  },
  {
   "cell_type": "code",
   "execution_count": 29,
   "id": "fea66166-b4be-43ca-9040-d195b5a62def",
   "metadata": {},
   "outputs": [
    {
     "data": {
      "text/plain": [
       "R Help on ‘common_by’\n",
       "\n",
       "common_by                package:dplyr                 R Documentation\n",
       "\n",
       "_\bE_\bx_\bt_\br_\ba_\bc_\bt _\bo_\bu_\bt _\bc_\bo_\bm_\bm_\bo_\bn _\bb_\by _\bv_\ba_\br_\bi_\ba_\bb_\bl_\be_\bs\n",
       "\n",
       "_\bD_\be_\bs_\bc_\br_\bi_\bp_\bt_\bi_\bo_\bn:\n",
       "\n",
       "     Extract out common by variables\n",
       "\n",
       "_\bU_\bs_\ba_\bg_\be:\n",
       "\n",
       "     common_by(by = NULL, x, y)\n",
       "     "
      ]
     },
     "metadata": {},
     "output_type": "display_data"
    }
   ],
   "source": [
    "help(common_by) %>% print"
   ]
  },
  {
   "cell_type": "code",
   "execution_count": 2,
   "id": "f36069cf-5190-4733-b3ee-3e8ca23ed36c",
   "metadata": {},
   "outputs": [
    {
     "data": {
      "text/plain": [
       "[1] ‘1.3.2’"
      ]
     },
     "metadata": {},
     "output_type": "display_data"
    }
   ],
   "source": [
    "packageVersion(\"IRkernel\")"
   ]
  },
  {
   "cell_type": "code",
   "execution_count": 1,
   "id": "346fe3db-22be-4fb1-a956-3ff6eb61f37a",
   "metadata": {},
   "outputs": [],
   "source": [
    "library(base)\n",
    "\n",
    "#<xml xmlns=\"https://developers.google.com/blockly/xml\"><variables><variable id=\",=yXom{3#QY05j6pIruh\">base</variable></variables><block type=\"import_R\" id=\"56t.|F^thnrH+@/Tsj~=\" x=\"16\" y=\"-134\"><field name=\"libraryName\" id=\",=yXom{3#QY05j6pIruh\">base</field></block></xml>"
   ]
  },
  {
   "cell_type": "code",
   "execution_count": null,
   "id": "e309f140-a1b0-477c-854e-cb4d9dda3841",
   "metadata": {},
   "outputs": [],
   "source": []
  }
 ],
 "metadata": {
  "kernelspec": {
   "display_name": "R",
   "language": "R",
   "name": "ir"
  },
  "language_info": {
   "codemirror_mode": "r",
   "file_extension": ".r",
   "mimetype": "text/x-r-source",
   "name": "R",
   "pygments_lexer": "r",
   "version": "4.2.1"
  }
 },
 "nbformat": 4,
 "nbformat_minor": 5
}
