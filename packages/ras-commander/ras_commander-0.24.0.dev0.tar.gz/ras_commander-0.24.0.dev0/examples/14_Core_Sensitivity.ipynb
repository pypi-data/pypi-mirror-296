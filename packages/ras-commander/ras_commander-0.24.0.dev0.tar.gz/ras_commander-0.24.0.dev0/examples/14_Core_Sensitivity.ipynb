{
 "cells": [
  {
   "cell_type": "code",
   "execution_count": null,
   "metadata": {},
   "outputs": [],
   "source": [
    "#%pip install ras-commander pandas requests pathlib matplotlib"
   ]
  },
  {
   "cell_type": "code",
   "execution_count": null,
   "metadata": {},
   "outputs": [],
   "source": [
    "import time\n",
    "import pandas as pd\n",
    "import matplotlib.pyplot as plt\n",
    "from pathlib import Path\n",
    "from ras_commander import RasExamples, init_ras_project, RasCommander, RasPlan, RasGeo\n",
    "\n",
    "# Step 1: Initialize RasExamples and extract the Muncie project\n",
    "ras_examples = RasExamples()\n",
    "ras_examples.extract_project([\"Muncie\"])\n",
    "\n",
    "# Use Path.cwd() to get the current working directory in a Jupyter Notebook\n",
    "current_directory = Path.cwd()\n",
    "project_path = current_directory / \"example_projects\" / \"Muncie\"\n",
    "\n",
    "# Step 2: Initialize the Muncie Project using init_ras_project (from ras_commander)\n",
    "muncie_project = init_ras_project(project_path, \"6.5\")\n",
    "\n",
    "# Step 3: Initialize a DataFrame to store execution results\n",
    "results = []\n",
    "\n",
    "# Step 4: Iterate over each plan and core count\n",
    "for plan_number in muncie_project.plan_df['plan_number'].unique():\n",
    "    print(f\"Running sensitivity analysis for Plan {plan_number}\")\n",
    "    \n",
    "    # Clear geompre files before running the plan\n",
    "    plan_path = RasPlan.get_plan_path(plan_number)\n",
    "    RasGeo.clear_geompre_files(plan_path)\n",
    "    \n",
    "    for cores in range(1, 9):\n",
    "        # Set core count for this plan\n",
    "        RasPlan.set_num_cores(plan_number, cores)\n",
    "        \n",
    "        # Time the execution of the plan\n",
    "        start_time = time.time()\n",
    "        RasCommander.compute_plan(plan_number)\n",
    "        execution_time = time.time() - start_time\n",
    "        \n",
    "        # Store the results\n",
    "        results.append({\n",
    "            \"plan_number\": plan_number,\n",
    "            \"cores\": cores,\n",
    "            \"execution_time\": execution_time\n",
    "        })\n",
    "\n",
    "\n"
   ]
  },
  {
   "cell_type": "code",
   "execution_count": null,
   "metadata": {},
   "outputs": [],
   "source": [
    "# Step 5: Convert results into a DataFrame\n",
    "results_df = pd.DataFrame(results)\n",
    "\n",
    "# Step 6: Extract plan title, shortid, and description\n",
    "plan_info_df = muncie_project.plan_df[['plan_number', 'title', 'shortid', 'description']]\n",
    "\n",
    "# Merge the execution results with the plan information\n",
    "merged_df = pd.merge(results_df, plan_info_df, on='plan_number')\n",
    "\n",
    "# Step 7: Calculate unit runtime (based on 1 core execution time)\n",
    "merged_df['unit_runtime'] = merged_df.groupby('plan_number')['execution_time'].transform(lambda x: x / x.iloc[0])\n",
    "\n",
    "# Display the results dataframe for verification\n",
    "print(\"merged_df DataFrame:\")\n",
    "print(merged_df)\n",
    "\n",
    "# Step 8: Plot a line chart for unit runtime vs. cores for each plan\n",
    "plt.figure(figsize=(10, 6))\n",
    "for plan in merged_df['plan_number'].unique():\n",
    "    plan_data = merged_df[merged_df['plan_number'] == plan]\n",
    "    plt.plot(plan_data['cores'], plan_data['unit_runtime'], label=f\"Plan {plan}\")\n",
    "\n",
    "plt.xlabel(\"Number of Cores\")\n",
    "plt.ylabel(\"Unit Runtime (Relative to 1 Core)\")\n",
    "plt.title(\"Core Count Sensitivity Analysis\")\n",
    "plt.legend(title=\"Plan Title\")\n",
    "plt.grid(True)\n",
    "plt.show()"
   ]
  }
 ],
 "metadata": {
  "kernelspec": {
   "display_name": "releasecmdr311",
   "language": "python",
   "name": "python3"
  },
  "language_info": {
   "codemirror_mode": {
    "name": "ipython",
    "version": 3
   },
   "file_extension": ".py",
   "mimetype": "text/x-python",
   "name": "python",
   "nbconvert_exporter": "python",
   "pygments_lexer": "ipython3",
   "version": "3.11.9"
  }
 },
 "nbformat": 4,
 "nbformat_minor": 2
}
