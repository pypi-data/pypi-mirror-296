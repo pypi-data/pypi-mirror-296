{
 "cells": [
  {
   "cell_type": "code",
   "execution_count": null,
   "metadata": {},
   "outputs": [],
   "source": []
  },
  {
   "cell_type": "markdown",
   "metadata": {},
   "source": [
    "## Developer Notes and Future Feature Improvements in ras_commander\n",
    "\n",
    "This analysis compiles all developer notes and future feature improvements identified within the code comments of the ras_commander library. \n",
    "\n",
    "**RasPrj.py:**\n",
    "\n",
    "- **RasPrj.initialize():**\n",
    "    - Developer note:  External users should use the `init_ras_project` function instead of directly calling the `initialize` method.\n",
    "    - Developer note: To add variables to the default `ras` object, add them to the `initialize` method. \n",
    "- **RasPrj.clear_geompre_files():**\n",
    "    - Future development: Expand functionality to:\n",
    "        - Clear IB tables.\n",
    "        - Clear geometry preprocessor tables from the geometry HDF.\n",
    "        - Reliably remove geometry preprocessor files for both 1D and 2D projects. \n",
    "\n",
    "**RasPlan.py:**\n",
    "\n",
    "- **RasPlan.set_num_cores():**\n",
    "    - Developer note: Recommended `num_cores` settings are 2 (most efficient) to 8 (most performant). More details in the HEC-Commander repository blog post \"Benchmarking is All You Need\".\n",
    "    - Developer note: Windows has a maximum of 64 cores allocatable to a single `Ras.exe` process.\n",
    "- **RasPlan.update_plan_file():**\n",
    "    - Developer note: Rename this to `update_plan_entries`.\n",
    "    - Future development: Allow access by plan number instead of requiring the full plan file path. \n",
    "\n",
    "**RasUtils.py:**\n",
    "\n",
    "- **RasUtils (Class):**\n",
    "    - Developer note: Add new utility functions that don't clearly fit into other classes to this class.\n",
    "- **RasUtils.get_prj_entries():** \n",
    "    - Developer note: Update the logic to use the updated `RasPrj` instance and its dataframes.  \n",
    "\n",
    "\n",
    "**General Observations:**\n",
    "\n",
    "-  Several functions rely on file paths instead of plan/geometry/flow numbers. This should be streamlined for user convenience.\n",
    "-  Additional functions are needed to provide more control over plan execution:\n",
    "    - Execute a list of plan entries.\n",
    "    - Execute plans only if the results file doesn't exist.\n",
    "    - Delete a plan's HDF results file based on the plan number. \n",
    "- The library currently lacks robust support for accessing and manipulating data within the HDF results files. This is a critical area for future development.\n",
    "\n",
    "**Additional Potential Improvements:**\n",
    "\n",
    "- Implement support for modifying 2D infiltration overrides.\n",
    "- Add functionality for changing 2D Manning's n tables.\n",
    "- Provide a way to modify common plan keys programmatically.\n",
    "- Implement functionality for changing common unsteady flow keys. \n",
    "- Explore support for executing HEC-RAS on remote desktops. \n",
    "- Expand documentation and examples, particularly for newer features and more complex use cases. \n",
    "\n",
    "This comprehensive analysis should guide future development efforts for the ras_commander library, ensuring that it addresses user needs and remains a powerful tool for automating HEC-RAS operations. \n"
   ]
  }
 ],
 "metadata": {
  "language_info": {
   "name": "python"
  }
 },
 "nbformat": 4,
 "nbformat_minor": 2
}
