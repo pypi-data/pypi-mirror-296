{
 "cells": [
  {
   "cell_type": "code",
   "execution_count": 1,
   "metadata": {},
   "outputs": [
    {
     "name": "stdout",
     "output_type": "stream",
     "text": [
      "ras_commander imported successfully\n"
     ]
    }
   ],
   "source": [
    "import sys\n",
    "from pathlib import Path\n",
    "\n",
    "# Flexible imports to allow for development without installation\n",
    "try:\n",
    "    # Try to import from the installed package\n",
    "    from ras_commander import init_ras_project, RasExamples, RasCommander, RasPlan, RasGeo, RasUnsteady, RasUtils, ras\n",
    "except ImportError:\n",
    "    # If the import fails, add the parent directory to the Python path\n",
    "    import os\n",
    "    current_file = Path(os.getcwd()).resolve()\n",
    "    parent_directory = current_file.parent\n",
    "    sys.path.append(str(parent_directory))\n",
    "    \n",
    "    # Now try to import again\n",
    "    from ras_commander import init_ras_project, RasExamples, RasCommander, RasPlan, RasGeo, RasUnsteady, RasUtils, ras\n",
    "\n",
    "print(\"ras_commander imported successfully\")\n"
   ]
  },
  {
   "cell_type": "code",
   "execution_count": 2,
   "metadata": {},
   "outputs": [
    {
     "name": "stdout",
     "output_type": "stream",
     "text": [
      "Example projects folder: c:\\Users\\billk\\Desktop\\AWS Webinar AI for HEC-RAS\\ras_commander\\ras_commander workspace6\\examples\\example_projects\n",
      "Found zip file: c:\\Users\\billk\\Desktop\\AWS Webinar AI for HEC-RAS\\ras_commander\\ras_commander workspace6\\examples\\Example_Projects_6_5.zip\n",
      "Loading project data from CSV...\n",
      "Loaded 66 projects from CSV, use list_categories() and list_projects() to explore them\n",
      "----- RasExamples Extracting Project -----\n",
      "Extracting project 'Balde Eagle Creek'\n",
      "Project 'Balde Eagle Creek' already exists. Deleting existing folder...\n",
      "Existing folder for project 'Balde Eagle Creek' has been deleted.\n",
      "Successfully extracted project 'Balde Eagle Creek' to c:\\Users\\billk\\Desktop\\AWS Webinar AI for HEC-RAS\\ras_commander\\ras_commander workspace6\\examples\\example_projects\\Balde Eagle Creek\n",
      "----- RasExamples Extracting Project -----\n",
      "Extracting project 'BaldEagleCrkMulti2D'\n",
      "Project 'BaldEagleCrkMulti2D' already exists. Deleting existing folder...\n",
      "Existing folder for project 'BaldEagleCrkMulti2D' has been deleted.\n",
      "Successfully extracted project 'BaldEagleCrkMulti2D' to c:\\Users\\billk\\Desktop\\AWS Webinar AI for HEC-RAS\\ras_commander\\ras_commander workspace6\\examples\\example_projects\\BaldEagleCrkMulti2D\n",
      "----- RasExamples Extracting Project -----\n",
      "Extracting project 'Muncie'\n",
      "Project 'Muncie' already exists. Deleting existing folder...\n",
      "Existing folder for project 'Muncie' has been deleted.\n",
      "Successfully extracted project 'Muncie' to c:\\Users\\billk\\Desktop\\AWS Webinar AI for HEC-RAS\\ras_commander\\ras_commander workspace6\\examples\\example_projects\\Muncie\n"
     ]
    },
    {
     "data": {
      "text/plain": [
       "[WindowsPath('c:/Users/billk/Desktop/AWS Webinar AI for HEC-RAS/ras_commander/ras_commander workspace6/examples/example_projects/Balde Eagle Creek'),\n",
       " WindowsPath('c:/Users/billk/Desktop/AWS Webinar AI for HEC-RAS/ras_commander/ras_commander workspace6/examples/example_projects/BaldEagleCrkMulti2D'),\n",
       " WindowsPath('c:/Users/billk/Desktop/AWS Webinar AI for HEC-RAS/ras_commander/ras_commander workspace6/examples/example_projects/Muncie')]"
      ]
     },
     "execution_count": 2,
     "metadata": {},
     "output_type": "execute_result"
    }
   ],
   "source": [
    "# The First Code Cell is All You Need\n",
    "\n",
    "# This is what this Class was intended to do: Help me make repeatable workflows around HEC-RAS Example Projects for testing and demonstration purposes. \n",
    "# Replace the Example_Projects_6_5.zip with your own zip file in the same format and you will be able to load them by folder name for repeatable workflows.\n",
    "# Just make sure all project folders have unique folder names. \n",
    "\n",
    "# Extract specific projects\n",
    "ras_examples = RasExamples()\n",
    "ras_examples.extract_project([\"Balde Eagle Creek\", \"BaldEagleCrkMulti2D\", \"Muncie\"])"
   ]
  },
  {
   "cell_type": "code",
   "execution_count": 3,
   "metadata": {},
   "outputs": [
    {
     "name": "stdout",
     "output_type": "stream",
     "text": [
      "Example projects folder: c:\\Users\\billk\\Desktop\\AWS Webinar AI for HEC-RAS\\ras_commander\\ras_commander workspace6\\examples\\example_projects\n",
      "Found zip file: c:\\Users\\billk\\Desktop\\AWS Webinar AI for HEC-RAS\\ras_commander\\ras_commander workspace6\\examples\\Example_Projects_6_5.zip\n",
      "Loading project data from CSV...\n",
      "Loaded 66 projects from CSV, use list_categories() and list_projects() to explore them\n",
      "Example projects are already downloaded.\n",
      "ras_examples.folder_df:\n"
     ]
    },
    {
     "data": {
      "text/html": [
       "<div>\n",
       "<style scoped>\n",
       "    .dataframe tbody tr th:only-of-type {\n",
       "        vertical-align: middle;\n",
       "    }\n",
       "\n",
       "    .dataframe tbody tr th {\n",
       "        vertical-align: top;\n",
       "    }\n",
       "\n",
       "    .dataframe thead th {\n",
       "        text-align: right;\n",
       "    }\n",
       "</style>\n",
       "<table border=\"1\" class=\"dataframe\">\n",
       "  <thead>\n",
       "    <tr style=\"text-align: right;\">\n",
       "      <th></th>\n",
       "      <th>Category</th>\n",
       "      <th>Project</th>\n",
       "    </tr>\n",
       "  </thead>\n",
       "  <tbody>\n",
       "    <tr>\n",
       "      <th>0</th>\n",
       "      <td>1D Sediment Transport</td>\n",
       "      <td>BSTEM - Simple Example</td>\n",
       "    </tr>\n",
       "    <tr>\n",
       "      <th>1</th>\n",
       "      <td>1D Sediment Transport</td>\n",
       "      <td>Dredging Example</td>\n",
       "    </tr>\n",
       "    <tr>\n",
       "      <th>2</th>\n",
       "      <td>1D Sediment Transport</td>\n",
       "      <td>Reservoir Video Tutorial</td>\n",
       "    </tr>\n",
       "    <tr>\n",
       "      <th>3</th>\n",
       "      <td>1D Sediment Transport</td>\n",
       "      <td>SIAM Example</td>\n",
       "    </tr>\n",
       "    <tr>\n",
       "      <th>4</th>\n",
       "      <td>1D Sediment Transport</td>\n",
       "      <td>Simple Sediment Transport Example</td>\n",
       "    </tr>\n",
       "    <tr>\n",
       "      <th>...</th>\n",
       "      <td>...</td>\n",
       "      <td>...</td>\n",
       "    </tr>\n",
       "    <tr>\n",
       "      <th>61</th>\n",
       "      <td>Applications Guide</td>\n",
       "      <td>Example 6 - Floodway Determination</td>\n",
       "    </tr>\n",
       "    <tr>\n",
       "      <th>62</th>\n",
       "      <td>Applications Guide</td>\n",
       "      <td>Example 7 - Multiple Plans</td>\n",
       "    </tr>\n",
       "    <tr>\n",
       "      <th>63</th>\n",
       "      <td>Applications Guide</td>\n",
       "      <td>Example 8 - Looped Network</td>\n",
       "    </tr>\n",
       "    <tr>\n",
       "      <th>64</th>\n",
       "      <td>Applications Guide</td>\n",
       "      <td>Example 9 - Mixed Flow Analysis</td>\n",
       "    </tr>\n",
       "    <tr>\n",
       "      <th>65</th>\n",
       "      <td>Water Quality</td>\n",
       "      <td>Nutrient Example</td>\n",
       "    </tr>\n",
       "  </tbody>\n",
       "</table>\n",
       "<p>66 rows × 2 columns</p>\n",
       "</div>"
      ],
      "text/plain": [
       "                 Category                             Project\n",
       "0   1D Sediment Transport              BSTEM - Simple Example\n",
       "1   1D Sediment Transport                    Dredging Example\n",
       "2   1D Sediment Transport            Reservoir Video Tutorial\n",
       "3   1D Sediment Transport                        SIAM Example\n",
       "4   1D Sediment Transport   Simple Sediment Transport Example\n",
       "..                    ...                                 ...\n",
       "61     Applications Guide  Example 6 - Floodway Determination\n",
       "62     Applications Guide          Example 7 - Multiple Plans\n",
       "63     Applications Guide          Example 8 - Looped Network\n",
       "64     Applications Guide     Example 9 - Mixed Flow Analysis\n",
       "65          Water Quality                    Nutrient Example\n",
       "\n",
       "[66 rows x 2 columns]"
      ]
     },
     "metadata": {},
     "output_type": "display_data"
    }
   ],
   "source": [
    "# Initialize RasExamples (it will use the current working directory by default)\n",
    "ras_examples = RasExamples()\n",
    "\n",
    "# Check if example projects are already downloaded\n",
    "if ras_examples.projects_dir.exists():\n",
    "    print(\"Example projects are already downloaded.\")\n",
    "    print(\"ras_examples.folder_df:\")\n",
    "    display(ras_examples.folder_df)\n",
    "else:\n",
    "    print(\"Downloading example projects...\")\n",
    "    ras_examples.get_example_projects()\n",
    "    print(\"ras_examples.folder_df:\")\n",
    "    display(ras_examples.folder_df)\n"
   ]
  },
  {
   "cell_type": "code",
   "execution_count": 4,
   "metadata": {},
   "outputs": [
    {
     "name": "stdout",
     "output_type": "stream",
     "text": [
      "Available categories: 1D Sediment Transport, 1D Steady Flow Hydraulics, 1D Unsteady Flow Hydraulics, 2D Sediment Transport, 2D Unsteady Flow Hydraulics, Applications Guide, Water Quality\n",
      "\n",
      "Available categories:\n",
      "- 1D Sediment Transport\n",
      "- 1D Steady Flow Hydraulics\n",
      "- 1D Unsteady Flow Hydraulics\n",
      "- 2D Sediment Transport\n",
      "- 2D Unsteady Flow Hydraulics\n",
      "- Applications Guide\n",
      "- Water Quality\n"
     ]
    }
   ],
   "source": [
    "# List all categories\n",
    "categories = ras_examples.list_categories()\n",
    "print(\"\\nAvailable categories:\")\n",
    "for category in categories:\n",
    "    print(f\"- {category}\")\n",
    "\n"
   ]
  },
  {
   "cell_type": "code",
   "execution_count": 5,
   "metadata": {},
   "outputs": [
    {
     "name": "stdout",
     "output_type": "stream",
     "text": [
      "\n",
      "Projects in '1D Unsteady Flow Hydraulics':\n",
      "- Balde Eagle Creek\n",
      "- Bridge Hydraulics\n",
      "- ContractionExpansionMinorLosses\n",
      "- Culvert Hydraulics\n",
      "- Culverts with Flap Gates\n",
      "- Dam Breaching\n",
      "- Elevation Controled Gates\n",
      "- Inline Structure with Gated Spillways\n",
      "- Internal Stage and Flow Boundary Condition\n",
      "- JunctionHydraulics\n",
      "- Lateral Strcuture with Gates\n",
      "- Lateral Structure connected to a River Reach\n",
      "- Lateral Structure Overflow Weir\n",
      "- Lateral Structure with Culverts\n",
      "- Lateral Structure with Culverts and Gates\n",
      "- Levee Breaching\n",
      "- Mixed Flow Regime\n",
      "- Multiple Reaches with Hydraulic Structures\n",
      "- NavigationDam\n",
      "- Pumping Station\n",
      "- Pumping Station with Rules\n",
      "- Rule Operations\n",
      "- Simplified Physical Breaching\n",
      "- Storage Area Hydraulic Connection\n",
      "- UngagedAreaInflows\n",
      "- Unsteady Flow Encroachment Analysis\n"
     ]
    }
   ],
   "source": [
    "\n",
    "# List projects in a specific category\n",
    "category = \"1D Unsteady Flow Hydraulics\"\n",
    "projects = ras_examples.list_projects(category)\n",
    "print(f\"\\nProjects in '{category}':\")\n",
    "for project in projects:\n",
    "    print(f\"- {project}\")\n"
   ]
  },
  {
   "cell_type": "code",
   "execution_count": 6,
   "metadata": {},
   "outputs": [
    {
     "name": "stdout",
     "output_type": "stream",
     "text": [
      "\n",
      "All available projects:\n",
      "- BSTEM - Simple Example\n",
      "- Dredging Example\n",
      "- Reservoir Video Tutorial\n",
      "- SIAM Example\n",
      "- Simple Sediment Transport Example\n",
      "- Unsteady Sediment with Concentration Rules\n",
      "- Video Tutorial (Sediment Intro)\n",
      "- Baxter RAS Mapper\n",
      "- Chapter 4 Example Data\n",
      "- ConSpan Culvert\n",
      "- Mixed Flow Regime Channel\n",
      "- Wailupe GeoRAS\n",
      "- Balde Eagle Creek\n",
      "- Bridge Hydraulics\n",
      "- ContractionExpansionMinorLosses\n",
      "- Culvert Hydraulics\n",
      "- Culverts with Flap Gates\n",
      "- Dam Breaching\n",
      "- Elevation Controled Gates\n",
      "- Inline Structure with Gated Spillways\n",
      "- Internal Stage and Flow Boundary Condition\n",
      "- JunctionHydraulics\n",
      "- Lateral Strcuture with Gates\n",
      "- Lateral Structure connected to a River Reach\n",
      "- Lateral Structure Overflow Weir\n",
      "- Lateral Structure with Culverts\n",
      "- Lateral Structure with Culverts and Gates\n",
      "- Levee Breaching\n",
      "- Mixed Flow Regime\n",
      "- Multiple Reaches with Hydraulic Structures\n",
      "- NavigationDam\n",
      "- Pumping Station\n",
      "- Pumping Station with Rules\n",
      "- Rule Operations\n",
      "- Simplified Physical Breaching\n",
      "- Storage Area Hydraulic Connection\n",
      "- UngagedAreaInflows\n",
      "- Unsteady Flow Encroachment Analysis\n",
      "- Chippewa_2D\n",
      "- BaldEagleCrkMulti2D\n",
      "- Muncie\n",
      "- Example 1 - Critical Creek\n",
      "- Example 10 - Stream Junction\n",
      "- Example 11 - Bridge Scour\n",
      "- Example 12 - Inline Structure\n",
      "- Example 13 - Singler Bridge (WSPRO)\n",
      "- Example 14 - Ice Covered River\n",
      "- Example 15 - Split Flow Junction with Lateral Weir\n",
      "- Example 16 - Channel Modification\n",
      "- Example 17 - Unsteady Flow Application\n",
      "- Example 18 - Advanced Inline Structure\n",
      "- Example 19 - Hydrologic Routing - ModPuls\n",
      "- Example 2 - Beaver Creek\n",
      "- Example 20 - HagerLatWeir\n",
      "- Example 21 - Overflow Gates\n",
      "- Example 22 - Groundwater Interflow\n",
      "- Example 23 - Urban Modeling\n",
      "- Example 24 - Mannings-n-Calibration\n",
      "- Example 3 - Single Culvert\n",
      "- Example 4 - Multiple Culverts\n",
      "- Example 5 - Multiple Openings\n",
      "- Example 6 - Floodway Determination\n",
      "- Example 7 - Multiple Plans\n",
      "- Example 8 - Looped Network\n",
      "- Example 9 - Mixed Flow Analysis\n",
      "- Nutrient Example\n"
     ]
    }
   ],
   "source": [
    "# List all projects\n",
    "all_projects = ras_examples.list_projects()\n",
    "print(\"\\nAll available projects:\")\n",
    "for project in all_projects:\n",
    "    print(f\"- {project}\")\n"
   ]
  },
  {
   "cell_type": "code",
   "execution_count": 7,
   "metadata": {},
   "outputs": [
    {
     "name": "stdout",
     "output_type": "stream",
     "text": [
      "----- RasExamples Extracting Project -----\n",
      "Extracting project 'Balde Eagle Creek'\n",
      "Project 'Balde Eagle Creek' already exists. Deleting existing folder...\n",
      "Existing folder for project 'Balde Eagle Creek' has been deleted.\n",
      "Successfully extracted project 'Balde Eagle Creek' to c:\\Users\\billk\\Desktop\\AWS Webinar AI for HEC-RAS\\ras_commander\\ras_commander workspace6\\examples\\example_projects\\Balde Eagle Creek\n",
      "----- RasExamples Extracting Project -----\n",
      "Extracting project 'BaldEagleCrkMulti2D'\n",
      "Project 'BaldEagleCrkMulti2D' already exists. Deleting existing folder...\n",
      "Existing folder for project 'BaldEagleCrkMulti2D' has been deleted.\n",
      "Successfully extracted project 'BaldEagleCrkMulti2D' to c:\\Users\\billk\\Desktop\\AWS Webinar AI for HEC-RAS\\ras_commander\\ras_commander workspace6\\examples\\example_projects\\BaldEagleCrkMulti2D\n",
      "----- RasExamples Extracting Project -----\n",
      "Extracting project 'Muncie'\n",
      "Project 'Muncie' already exists. Deleting existing folder...\n",
      "Existing folder for project 'Muncie' has been deleted.\n",
      "Successfully extracted project 'Muncie' to c:\\Users\\billk\\Desktop\\AWS Webinar AI for HEC-RAS\\ras_commander\\ras_commander workspace6\\examples\\example_projects\\Muncie\n"
     ]
    }
   ],
   "source": [
    "# Extract specific projects\n",
    "projects_to_extract = [\"Balde Eagle Creek\", \"BaldEagleCrkMulti2D\", \"Muncie\"]\n",
    "extracted_paths = ras_examples.extract_project(projects_to_extract)\n"
   ]
  }
 ],
 "metadata": {
  "kernelspec": {
   "display_name": "cmdr_workspace",
   "language": "python",
   "name": "python3"
  },
  "language_info": {
   "codemirror_mode": {
    "name": "ipython",
    "version": 3
   },
   "file_extension": ".py",
   "mimetype": "text/x-python",
   "name": "python",
   "nbconvert_exporter": "python",
   "pygments_lexer": "ipython3",
   "version": "3.11.9"
  }
 },
 "nbformat": 4,
 "nbformat_minor": 2
}
