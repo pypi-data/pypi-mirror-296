{
 "cells": [
  {
   "cell_type": "markdown",
   "metadata": {},
   "source": [
    "# Notebook for running all the examples in the examples folder\n",
    "\n",
    "This notebook also serves as a test of the ras_commander package using the HEC-RAS Project Examples provided by HEC.\n",
    "\n",
    "Example project names can be found in the example_projects.csv file after the examples are run.\n",
    "\n",
    "To use a different example, change the project name in the examples and run them directly or run this notebook.  \n"
   ]
  },
  {
   "cell_type": "markdown",
   "metadata": {},
   "source": [
    "The notebook format provides a convenient way to run all the examples to ensure that no features are broken after code revisions.  \n"
   ]
  },
  {
   "cell_type": "markdown",
   "metadata": {},
   "source": [
    "-----"
   ]
  },
  {
   "cell_type": "markdown",
   "metadata": {},
   "source": [
    "This table is a valuable reference for formulating examples and anticipating script behavior.\n",
    "\n",
    "| Project           | Type     | Existing Numbers | Next Available |\n",
    "|-------------------|----------|-------------------|----------------|\n",
    "| Balde Eagle Creek | Plan     | 01, 02            | 03             |\n",
    "|                   | Flow     | 01, 02            | 03             |\n",
    "|                   | Unsteady | 02                | 01, 03         |\n",
    "|                   | Geometry | 01                | 02             |\n",
    "| Muncie            | Plan     | 01, 03, 04        | 02, 05         |\n",
    "|                   | Flow     | 01                | 02             |\n",
    "|                   | Unsteady | 01                | 02             |\n",
    "|                   | Geometry | 01, 02, 04        | 03, 05         |\n",
    "\n",
    "Notes:\n",
    "1. For Balde Eagle Creek's Unsteady entries, 01 is available before 03. The library should use the lowest available number when creating new entries.\n",
    "2. For Muncie's Plan entries, both 02 and 05 are available. The library should use 02 first.\n",
    "3. For Muncie's Geometry entries, 03 is available before 05.\n",
    "\n",
    "When writing examples or scripts:\n",
    "1. Use existing numbers when referencing current plans, flows, unsteady setups, or geometries.\n",
    "2. When creating new entries (e.g., cloning), use the \"Next Available\" number and then increment for subsequent creations.\n",
    "3. After operations that create new entries, verify that the ras object has been updated to reflect these changes.\n",
    "\n",
    "This approach will help ensure that examples run as expected and that we're always working with valid, up-to-date data in our scripts."
   ]
  },
  {
   "cell_type": "markdown",
   "metadata": {},
   "source": [
    "-----"
   ]
  },
  {
   "cell_type": "markdown",
   "metadata": {},
   "source": [
    "# RAS-Commander (ras_commander) library examples"
   ]
  },
  {
   "cell_type": "markdown",
   "metadata": {},
   "source": [
    "### The Examples Below Have Been Tested and Verified."
   ]
  },
  {
   "cell_type": "markdown",
   "metadata": {},
   "source": [
    "-----"
   ]
  },
  {
   "cell_type": "code",
   "execution_count": null,
   "metadata": {},
   "outputs": [],
   "source": [
    "#!pip install pandas pathlib requests"
   ]
  },
  {
   "cell_type": "code",
   "execution_count": null,
   "metadata": {},
   "outputs": [],
   "source": [
    "# Example 1: Import and execute 01_project_initialization.py\n",
    "print(\"Executing 01_project_initialization.py:\")\n",
    "%run 01_project_initialization.py\n",
    "print(\"\\n\")"
   ]
  },
  {
   "cell_type": "markdown",
   "metadata": {},
   "source": [
    "-----"
   ]
  },
  {
   "cell_type": "code",
   "execution_count": null,
   "metadata": {},
   "outputs": [],
   "source": [
    "import time\n",
    "\n",
    "# wait 10 seconds\n",
    "time.sleep(10)"
   ]
  },
  {
   "cell_type": "code",
   "execution_count": null,
   "metadata": {},
   "outputs": [],
   "source": [
    "# Example 2: Import and execute 02_plan_operations.py\n",
    "print(\"Executing 02_plan_operations.py:\")\n",
    "%run 02_plan_operations.py\n",
    "print(\"\\n\")"
   ]
  },
  {
   "cell_type": "markdown",
   "metadata": {},
   "source": [
    "-----"
   ]
  },
  {
   "cell_type": "code",
   "execution_count": null,
   "metadata": {},
   "outputs": [],
   "source": [
    "# wait 10 seconds\n",
    "time.sleep(10)"
   ]
  },
  {
   "cell_type": "code",
   "execution_count": null,
   "metadata": {},
   "outputs": [],
   "source": [
    "# Example 3: Import and execute 03_geometry_operations.py\n",
    "print(\"Executing 03_geometry_operations.py:\")\n",
    "%run 03_geometry_operations.py\n",
    "print(\"\\n\")"
   ]
  },
  {
   "cell_type": "markdown",
   "metadata": {},
   "source": [
    "-----"
   ]
  },
  {
   "cell_type": "code",
   "execution_count": null,
   "metadata": {},
   "outputs": [],
   "source": [
    "# wait 10 seconds\n",
    "time.sleep(10)"
   ]
  },
  {
   "cell_type": "code",
   "execution_count": null,
   "metadata": {},
   "outputs": [],
   "source": [
    "# Example 4: Import and execute 04_unsteady_flow_operations.py\n",
    "print(\"Executing 04_unsteady_flow_operations.py:\")\n",
    "%run 04_unsteady_flow_operations.py\n",
    "print(\"\\n\")"
   ]
  },
  {
   "cell_type": "markdown",
   "metadata": {},
   "source": [
    "-----"
   ]
  },
  {
   "cell_type": "code",
   "execution_count": null,
   "metadata": {},
   "outputs": [],
   "source": [
    "# wait 10 seconds\n",
    "time.sleep(10)"
   ]
  },
  {
   "cell_type": "code",
   "execution_count": null,
   "metadata": {},
   "outputs": [],
   "source": [
    "# Example 5: Import and execute 05_utility_functions.py\n",
    "print(\"Executing 05_utility_functions.py:\")\n",
    "%run 05_utility_functions.py\n",
    "print(\"\\n\")"
   ]
  },
  {
   "cell_type": "markdown",
   "metadata": {},
   "source": [
    "-----"
   ]
  },
  {
   "cell_type": "code",
   "execution_count": null,
   "metadata": {},
   "outputs": [],
   "source": [
    "# wait 10 seconds\n",
    "time.sleep(10)"
   ]
  },
  {
   "cell_type": "code",
   "execution_count": null,
   "metadata": {},
   "outputs": [],
   "source": [
    "# Example 6: Import and execute 06_single_plan_execution.py\n",
    "print(\"Executing 06_single_plan_execution.py:\")\n",
    "%run 06_single_plan_execution.py\n",
    "print(\"\\n\")"
   ]
  },
  {
   "cell_type": "markdown",
   "metadata": {},
   "source": [
    "-----"
   ]
  },
  {
   "cell_type": "code",
   "execution_count": null,
   "metadata": {},
   "outputs": [],
   "source": [
    "# wait 10 seconds\n",
    "time.sleep(10)"
   ]
  },
  {
   "cell_type": "code",
   "execution_count": null,
   "metadata": {},
   "outputs": [],
   "source": [
    "# Example 7: Import and execute 07_sequential_plan_execution.py\n",
    "print(\"Executing 07_sequential_plan_execution.py:\")\n",
    "%run 07_sequential_plan_execution.py\n",
    "print(\"\\n\")"
   ]
  },
  {
   "cell_type": "markdown",
   "metadata": {},
   "source": [
    "-----"
   ]
  },
  {
   "cell_type": "code",
   "execution_count": null,
   "metadata": {},
   "outputs": [],
   "source": [
    "# wait 10 seconds\n",
    "time.sleep(10)"
   ]
  },
  {
   "cell_type": "code",
   "execution_count": null,
   "metadata": {},
   "outputs": [],
   "source": [
    "# Example 8: Import and execute 08_parallel_execution.py\n",
    "print(\"Executing 08_parallel_execution.py:\")\n",
    "%run 08_parallel_execution.py\n",
    "print(\"\\n\")"
   ]
  },
  {
   "cell_type": "markdown",
   "metadata": {},
   "source": [
    "-----"
   ]
  },
  {
   "cell_type": "code",
   "execution_count": null,
   "metadata": {},
   "outputs": [],
   "source": [
    "# wait 10 seconds\n",
    "time.sleep(10)"
   ]
  },
  {
   "cell_type": "code",
   "execution_count": null,
   "metadata": {},
   "outputs": [],
   "source": [
    "# Example 9: Import and execute 09_specifying_plans.py\n",
    "print(\"Executing 09_specifying_plans.py:\")\n",
    "%run 09_specifying_plans.py\n",
    "print(\"\\n\")"
   ]
  },
  {
   "cell_type": "markdown",
   "metadata": {},
   "source": [
    "-----"
   ]
  }
 ],
 "metadata": {
  "kernelspec": {
   "display_name": "cmdr311",
   "language": "python",
   "name": "python3"
  },
  "language_info": {
   "codemirror_mode": {
    "name": "ipython",
    "version": 3
   },
   "file_extension": ".py",
   "mimetype": "text/x-python",
   "name": "python",
   "nbconvert_exporter": "python",
   "pygments_lexer": "ipython3",
   "version": "3.11.9"
  }
 },
 "nbformat": 4,
 "nbformat_minor": 2
}
