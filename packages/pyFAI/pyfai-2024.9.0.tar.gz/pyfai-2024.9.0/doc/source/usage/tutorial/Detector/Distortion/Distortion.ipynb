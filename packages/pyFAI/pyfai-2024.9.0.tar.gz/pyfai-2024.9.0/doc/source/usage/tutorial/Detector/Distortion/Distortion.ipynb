{
 "cells": [
  {
   "cell_type": "markdown",
   "metadata": {},
   "source": [
    "# Detector distortion corrections\n",
    "\n",
    "This tutorial shows how to correct images for spatial distortion. Some tutorial examples rely on files available in http://www.silx.org/pub/pyFAI/testimages/ and will be downloaded during this tutorial. The required minimum version of pyFAI is 0.12.0.\n",
    "\n",
    "## Detector definitions\n",
    "\n",
    "PyFAI features an impressive list of 64 detector definitions contributed often by manufacturers and some other reverse engineerd by scientists. \n",
    "Each of them is defined as an invividual class which contains a way to calculate the mask (invalid pixels, gaps,…) and a method to calculate the pixel positions in Cartesian coordinates. \n"
   ]
  },
  {
   "cell_type": "code",
   "execution_count": 10,
   "metadata": {},
   "outputs": [
    {
     "name": "stdout",
     "output_type": "stream",
     "text": [
      "pyFAI version: 2024.9.0-dev0\n",
      "Number of detectors registered: 296 with 108 unique detectors\n",
      "\n",
      "List of all supported detectors:\n",
      "Detector Quantum 210\t PixelSize= 51µm, 51µm\t BottomRight (3)\n",
      "Detector Quantum 270\t PixelSize= 64.8µm, 64.8µm\t BottomRight (3)\n",
      "Detector Quantum 315\t PixelSize= 51µm, 51µm\t BottomRight (3)\n",
      "Detector Quantum 4\t PixelSize= 82µm, 82µm\t BottomRight (3)\n",
      "Detector Aarhus\t PixelSize= 24.893µm, 24.893µm\t BottomRight (3)\n",
      "Detector ApexII%s\t PixelSize= 12µm, 12µm\n",
      "Detector aca1300\t PixelSize= 3.750e-06, 3.750e-06 m\n",
      "Detector CirPAD\t PixelSize= 1.300e-04, 1.300e-04 m\t BottomRight (3)\n",
      "Undefined detector\n",
      "Detector Dexela 2923%s\t PixelSize= 75µm, 75µm\n",
      "Detector Eiger 16M\t PixelSize= 75µm, 75µm\t BottomRight (3)\n",
      "Detector Eiger 1M\t PixelSize= 75µm, 75µm\t BottomRight (3)\n",
      "Detector Eiger2 CdTe 16M\t PixelSize= 75µm, 75µm\t BottomRight (3)\n",
      "Detector Eiger2 CdTe 1M\t PixelSize= 75µm, 75µm\t BottomRight (3)\n",
      "Detector Eiger2 CdTe 1M-W\t PixelSize= 75µm, 75µm\t BottomRight (3)\n",
      "Detector Eiger2 CdTe 2M-W\t PixelSize= 75µm, 75µm\t BottomRight (3)\n",
      "Detector Eiger2 CdTe 4M\t PixelSize= 75µm, 75µm\t BottomRight (3)\n",
      "Detector Eiger2 CdTe 500k\t PixelSize= 75µm, 75µm\t BottomRight (3)\n",
      "Detector Eiger2 CdTe 9M\t PixelSize= 75µm, 75µm\t BottomRight (3)\n",
      "Detector Eiger2 16M\t PixelSize= 75µm, 75µm\t BottomRight (3)\n",
      "Detector Eiger2 1M\t PixelSize= 75µm, 75µm\t BottomRight (3)\n",
      "Detector Eiger2 1M-W\t PixelSize= 75µm, 75µm\t BottomRight (3)\n",
      "Detector Eiger2 250k\t PixelSize= 75µm, 75µm\t BottomRight (3)\n",
      "Detector Eiger2 2M-W\t PixelSize= 75µm, 75µm\t BottomRight (3)\n",
      "Detector Eiger2 4M\t PixelSize= 75µm, 75µm\t BottomRight (3)\n",
      "Detector Eiger2 500k\t PixelSize= 75µm, 75µm\t BottomRight (3)\n",
      "Detector Eiger2 9M\t PixelSize= 75µm, 75µm\t BottomRight (3)\n",
      "Detector Eiger 4M\t PixelSize= 75µm, 75µm\t BottomRight (3)\n",
      "Detector Eiger 500k\t PixelSize= 75µm, 75µm\t BottomRight (3)\n",
      "Detector Eiger 9M\t PixelSize= 75µm, 75µm\t BottomRight (3)\n",
      "Detector FReLoN\t PixelSize= 5µm, 5µm\t BottomRight (3)\n",
      "Detector Fairchild%s\t PixelSize= 15µm, 15µm\n",
      "Detector HF-130k\t PixelSize= 15µm, 15µm\t BottomRight (3)\n",
      "Detector HF-1M\t PixelSize= 15µm, 15µm\t BottomRight (3)\n",
      "Detector HF-262k\t PixelSize= 15µm, 15µm\t BottomRight (3)\n",
      "Detector HF-2.4M\t PixelSize= 15µm, 15µm\t BottomRight (3)\n",
      "Detector HF-4M\t PixelSize= 15µm, 15µm\t BottomRight (3)\n",
      "Detector HF-9.4M\t PixelSize= 15µm, 15µm\t BottomRight (3)\n",
      "Detector Imxpad S10\t PixelSize= 1.300e-04, 1.300e-04 m\t BottomRight (3)\n",
      "Detector Imxpad S140\t PixelSize= 1.300e-04, 1.300e-04 m\t BottomRight (3)\n",
      "Detector Imxpad S70\t PixelSize= 1.300e-04, 1.300e-04 m\t BottomRight (3)\n",
      "Detector Imxpad S70 V\t PixelSize= 1.300e-04, 1.300e-04 m\t BottomRight (3)\n",
      "Detector Jungfrau 500k%s\t PixelSize= 75µm, 75µm\n",
      "Detector Jungfrau 1M\t PixelSize= 75µm, 75µm\t BottomRight (3)\n",
      "Detector Jungfrau 4M\t PixelSize= 75µm, 75µm\t BottomRight (3)\n",
      "Detector Jungfrau 8M%s\t PixelSize= 75µm, 75µm\n",
      "Detector Jungfrau 16M cor%s\t PixelSize= 75µm, 75µm\n",
      "Detector Lambda 10M\t PixelSize= 55µm, 55µm\n",
      "Detector Lambda 250k\t PixelSize= 55µm, 55µm\n",
      "Detector Lambda 2M\t PixelSize= 55µm, 55µm\n",
      "Detector Lambda 60k\t PixelSize= 55µm, 55µm\n",
      "Detector Lambda 750k\t PixelSize= 55µm, 55µm\n",
      "Detector Lambda 7.5M\t PixelSize= 55µm, 55µm\n",
      "Detector MAR 345\t PixelSize= 1.000e-04, 1.000e-04 m\n",
      "Detector MAR 555\t PixelSize= 139µm, 139µm\t BottomRight (3)\n",
      "Detector Maxipix 1x1\t PixelSize= 55µm, 55µm\n",
      "Detector Maxipix 2x2\t PixelSize= 55µm, 55µm\n",
      "Detector Maxipix 5x1\t PixelSize= 55µm, 55µm\n",
      "Detector Mythen 1280\t PixelSize= 8mm, 5µm\t BottomRight (3)\n",
      "Detector Perkin detector%s\t PixelSize= 2µm, 2µm\n",
      "Detector Pilatus 100k\t PixelSize= 172µm, 172µm\t BottomRight (3)\n",
      "Detector Pilatus 1M\t PixelSize= 172µm, 172µm\t BottomRight (3)\n",
      "Detector Pilatus 200k\t PixelSize= 172µm, 172µm\t BottomRight (3)\n",
      "Detector Pilatus 2M\t PixelSize= 172µm, 172µm\t BottomRight (3)\n",
      "Detector Pilatus 300k\t PixelSize= 172µm, 172µm\t BottomRight (3)\n",
      "Detector Pilatus 300kw\t PixelSize= 172µm, 172µm\t BottomRight (3)\n",
      "Detector Pilatus4 1M\t PixelSize= 15µm, 15µm\t BottomRight (3)\n",
      "Detector Pilatus4 260k\t PixelSize= 15µm, 15µm\t BottomRight (3)\n",
      "Detector Pilatus4 260kw\t PixelSize= 15µm, 15µm\t BottomRight (3)\n",
      "Detector Pilatus4 2M\t PixelSize= 15µm, 15µm\t BottomRight (3)\n",
      "Detector Pilatus4 4M\t PixelSize= 15µm, 15µm\t BottomRight (3)\n",
      "Detector Pilatus4 1M CdTe\t PixelSize= 172µm, 172µm\t BottomRight (3)\n",
      "Detector Pilatus4 260k CdTe\t PixelSize= 172µm, 172µm\t BottomRight (3)\n",
      "Detector Pilatus4 260kw CdTe\t PixelSize= 172µm, 172µm\t BottomRight (3)\n",
      "Detector Pilatus4 2M CdTe\t PixelSize= 172µm, 172µm\t BottomRight (3)\n",
      "Detector Pilatus4 4M CdTe\t PixelSize= 172µm, 172µm\t BottomRight (3)\n",
      "Detector Pilatus 6M\t PixelSize= 172µm, 172µm\t BottomRight (3)\n",
      "Detector Pilatus 900k\t PixelSize= 172µm, 172µm\t BottomRight (3)\n",
      "Detector Pilatus CdTe 1M\t PixelSize= 172µm, 172µm\t BottomRight (3)\n",
      "Detector Pilatus CdTe 2M\t PixelSize= 172µm, 172µm\t BottomRight (3)\n",
      "Detector Pilatus CdTe 300k\t PixelSize= 172µm, 172µm\t BottomRight (3)\n",
      "Detector Pilatus CdTe 300kw\t PixelSize= 172µm, 172µm\t BottomRight (3)\n",
      "Detector Pilatus CdTe 900kw\t PixelSize= 172µm, 172µm\t BottomRight (3)\n",
      "Hexagonal-pixel detector Pixirad-1\t Pitch= 6.000e-05 m\n",
      "Hexagonal-pixel detector Pixirad-2\t Pitch= 6.000e-05 m\n",
      "Hexagonal-pixel detector Pixirad-4\t Pitch= 6.000e-05 m\n",
      "Hexagonal-pixel detector Pixirad-8\t Pitch= 6.000e-05 m\n",
      "Detector Pixium 4700%s\t PixelSize= 308µm, 308µm\n",
      "Detector RapidII\t PixelSize= 1µm, 1µm\t BottomRight (3)\n",
      "Detector Picam v1\t PixelSize= 1.4µm, 1.4µm\t BottomRight (3)\n",
      "Detector Picam v2\t PixelSize= 1.12µm, 1.12µm\t BottomRight (3)\n",
      "Detector Rayonix133\t PixelSize= 6.400e-05, 6.400e-05 m\t BottomRight (3)\n",
      "Detector Rayonix LX170\t PixelSize= 4.427e-05, 4.427e-05 m\t BottomRight (3)\n",
      "Detector Rayonix LX255\t PixelSize= 4.427e-05, 4.427e-05 m\t BottomRight (3)\n",
      "Detector Rayonix MX170\t PixelSize= 4.427e-05, 4.427e-05 m\t BottomRight (3)\n",
      "Detector Rayonix MX225\t PixelSize= 7.324e-05, 7.324e-05 m\t BottomRight (3)\n",
      "Detector Rayonix MX225HS\t PixelSize= 7.813e-05, 7.813e-05 m\t BottomRight (3)\n",
      "Detector Rayonix MX300\t PixelSize= 7.324e-05, 7.324e-05 m\t BottomRight (3)\n",
      "Detector Rayonix MX300HS\t PixelSize= 7.813e-05, 7.813e-05 m\t BottomRight (3)\n",
      "Detector Rayonix MX325\t PixelSize= 7.935e-05, 7.935e-05 m\t BottomRight (3)\n",
      "Detector Rayonix MX340HS\t PixelSize= 8.854e-05, 8.854e-05 m\t BottomRight (3)\n",
      "Detector Rayonix MX425HS\t PixelSize= 4.427e-05, 4.427e-05 m\t BottomRight (3)\n",
      "Detector Rayonix SX165\t PixelSize= 3.950e-05, 3.950e-05 m\t BottomRight (3)\n",
      "Detector Rayonix SX200\t PixelSize= 4.800e-05, 4.800e-05 m\t BottomRight (3)\n",
      "Detector Rayonix SX30HS\t PixelSize= 1.563e-05, 1.563e-05 m\t BottomRight (3)\n",
      "Detector Rayonix SX85HS\t PixelSize= 4.427e-05, 4.427e-05 m\t BottomRight (3)\n",
      "Detector Titan 2k x 2k%s\t PixelSize= 6µm, 6µm\n",
      "Detector Xpad S540 flat\t PixelSize= 1.300e-04, 1.300e-04 m\t BottomRight (3)(3)\n"
     ]
    }
   ],
   "source": [
    "import time, os, numpy\n",
    "start_time = time.perf_counter()\n",
    "import pyFAI, pyFAI.detectors\n",
    "print(f\"pyFAI version: {pyFAI.version}\")\n",
    "all_detectors = list(set(pyFAI.detectors.ALL_DETECTORS.values()))\n",
    "#Sort detectors according to their name\n",
    "all_detectors.sort(key=lambda i:i.__name__)\n",
    "nb_det = len(all_detectors)\n",
    "print(\"Number of detectors registered: %i with %i unique detectors\"%(len(pyFAI.detectors.ALL_DETECTORS),nb_det))\n",
    "print()\n",
    "print(\"List of all supported detectors:\")\n",
    "for i in all_detectors:\n",
    "    print(i())"
   ]
  },
  {
   "cell_type": "markdown",
   "metadata": {},
   "source": [
    "## Defining a detector from a spline file \n",
    "For optically coupled CCD detectors, the geometrical distortion is often described by a two-dimensional cubic spline (as in FIT2D) which can be imported into the relevant detector instance and used to calculate the actual pixel position in space (and masked pixels).\n",
    "\n",
    "At the ESRF, mainly FReLoN detectors [J.-C. Labiche, ESRF Newsletter 25, 41 (1996)] are used with spline files describing the distortion of the fiber optic taper.\n",
    "\n",
    "Let's download such a file and create a detector from it. Users at ESRF may declare a proxy to connect to the internet. "
   ]
  },
  {
   "cell_type": "code",
   "execution_count": 11,
   "metadata": {},
   "outputs": [
    {
     "name": "stdout",
     "output_type": "stream",
     "text": [
      "/tmp/pyFAI_testdata_edgar1993a/halfccd.spline\n"
     ]
    }
   ],
   "source": [
    "import os\n",
    "from silx.resources import ExternalResources\n",
    "downloader = ExternalResources(\"pyFAI\", \"http://www.silx.org/pub/pyFAI/testimages\", \"PYFAI_DATA\")\n",
    "spline_file = downloader.getfile(\"halfccd.spline\")\n",
    "print(spline_file)"
   ]
  },
  {
   "cell_type": "code",
   "execution_count": 12,
   "metadata": {},
   "outputs": [
    {
     "name": "stdout",
     "output_type": "stream",
     "text": [
      "Detector FReLoN\t Spline= /tmp/pyFAI_testdata_edgar1993a/halfccd.spline\t PixelSize= 48.42252µm, 46.84483µm\t BottomRight (3)\n",
      "Shape: 1025, 2048\n"
     ]
    }
   ],
   "source": [
    "hd = pyFAI.detectors.FReLoN(splineFile=spline_file)\n",
    "print(hd)\n",
    "print(\"Shape: %i, %i\"% hd.shape)"
   ]
  },
  {
   "cell_type": "markdown",
   "metadata": {},
   "source": [
    "*Note:* the unusual shape of this detector. This is probably a human error when calibrating the detector distortion in FIT2D.\n",
    "\n",
    "### Visualizing the mask\n",
    "Every detector object contains a mask attribute, defining pixels which are invalid. \n",
    "For FReLoN detector (a spline-files-defined detectors), all pixels having an offset such that the pixel falls out of the initial detector are considered as invalid. \n",
    "\n",
    "Masked pixel have non-null values can be displayed like this: "
   ]
  },
  {
   "cell_type": "code",
   "execution_count": 13,
   "metadata": {},
   "outputs": [],
   "source": [
    "# %matplotlib widget\n",
    "#For documentation purpose, `inline` is used to enforce the storage of the image in the notebook\n",
    "%matplotlib inline\n",
    "from matplotlib.pyplot import subplots\n",
    "from pyFAI.gui import jupyter"
   ]
  },
  {
   "cell_type": "code",
   "execution_count": 14,
   "metadata": {},
   "outputs": [
    {
     "data": {
      "image/png": "[encoded data removed]",
      "text/plain": [
       "<Figure size 640x480 with 1 Axes>"
      ]
     },
     "metadata": {},
     "output_type": "display_data"
    }
   ],
   "source": [
    "jupyter.display(hd.mask, label=\"Mask\")\n",
    "pass"
   ]
  },
  {
   "cell_type": "markdown",
   "metadata": {},
   "source": [
    "\n",
    "## Detector definition files as NeXus files\n",
    "\n",
    "Any detector object in pyFAI can be saved into an HDF5 file following the NeXus convention [Könnecke et al., 2015, J. Appl. Cryst. 48, 301-305.]. Detector objects can subsequently be restored from disk, making complex detector definitions less error prone. "
   ]
  },
  {
   "cell_type": "code",
   "execution_count": 17,
   "metadata": {},
   "outputs": [
    {
     "data": {
      "text/plain": [
       "pyFAI.detectors._common.NexusDetector"
      ]
     },
     "execution_count": 17,
     "metadata": {},
     "output_type": "execute_result"
    }
   ],
   "source": [
    "type(new_det)"
   ]
  },
  {
   "cell_type": "code",
   "execution_count": 20,
   "metadata": {},
   "outputs": [
    {
     "data": {
      "text/plain": [
       "\u001b[0;31mSignature:\u001b[0m \u001b[0mnew_det\u001b[0m\u001b[0;34m.\u001b[0m\u001b[0m__repr__\u001b[0m\u001b[0;34m(\u001b[0m\u001b[0;34m)\u001b[0m\u001b[0;34m\u001b[0m\u001b[0;34m\u001b[0m\u001b[0m\n",
       "\u001b[0;31mDocstring:\u001b[0m\n",
       "Nice representation of the instance\n",
       "        \n",
       "\u001b[0;31mSource:\u001b[0m   \n",
       "    \u001b[0;32mdef\u001b[0m \u001b[0m__repr__\u001b[0m\u001b[0;34m(\u001b[0m\u001b[0mself\u001b[0m\u001b[0;34m)\u001b[0m\u001b[0;34m:\u001b[0m\u001b[0;34m\u001b[0m\n",
       "\u001b[0;34m\u001b[0m        \u001b[0mtxt\u001b[0m \u001b[0;34m=\u001b[0m \u001b[0;34mf\"{self.name} detector from NeXus file: {self._filename}\\t\"\u001b[0m\u001b[0;34m\u001b[0m\n",
       "\u001b[0;34m\u001b[0m        \u001b[0mtxt\u001b[0m \u001b[0;34m+=\u001b[0m \u001b[0;34mf\"PixelSize= {to_eng(self._pixel1)}m, {to_eng(self._pixel2)}m\"\u001b[0m\u001b[0;34m\u001b[0m\n",
       "\u001b[0;34m\u001b[0m        \u001b[0;32mif\u001b[0m \u001b[0mself\u001b[0m\u001b[0;34m.\u001b[0m\u001b[0morientation\u001b[0m\u001b[0;34m:\u001b[0m\u001b[0;34m\u001b[0m\n",
       "\u001b[0;34m\u001b[0m            \u001b[0mtxt\u001b[0m \u001b[0;34m+=\u001b[0m \u001b[0;34mf\"\\t {self.orientation.name} ({self.orientation.value})\"\u001b[0m\u001b[0;34m\u001b[0m\u001b[0;34m\u001b[0m\u001b[0m\n",
       "\u001b[0;31mFile:\u001b[0m      /home/edgar1993a/miniforge3/envs/ewoks/lib/python3.10/site-packages/pyFAI/detectors/_common.py\n",
       "\u001b[0;31mType:\u001b[0m      method"
      ]
     },
     "metadata": {},
     "output_type": "display_data"
    }
   ],
   "source": [
    "new_det.__repr__??"
   ]
  },
  {
   "cell_type": "code",
   "execution_count": 16,
   "metadata": {},
   "outputs": [
    {
     "ename": "TypeError",
     "evalue": "__str__ returned non-string (type NoneType)",
     "output_type": "error",
     "traceback": [
      "\u001b[0;31m---------------------------------------------------------------------------\u001b[0m",
      "\u001b[0;31mTypeError\u001b[0m                                 Traceback (most recent call last)",
      "Cell \u001b[0;32mIn[16], line 4\u001b[0m\n\u001b[1;32m      2\u001b[0m hd\u001b[38;5;241m.\u001b[39msave(h5_file)\n\u001b[1;32m      3\u001b[0m new_det \u001b[38;5;241m=\u001b[39m pyFAI\u001b[38;5;241m.\u001b[39mdetector_factory(h5_file)\n\u001b[0;32m----> 4\u001b[0m \u001b[38;5;28;43mprint\u001b[39;49m\u001b[43m(\u001b[49m\u001b[43mnew_det\u001b[49m\u001b[43m)\u001b[49m\n\u001b[1;32m      5\u001b[0m \u001b[38;5;28mprint\u001b[39m(\u001b[38;5;124m\"\u001b[39m\u001b[38;5;124mMask is the same: \u001b[39m\u001b[38;5;124m\"\u001b[39m, numpy\u001b[38;5;241m.\u001b[39mallclose(new_det\u001b[38;5;241m.\u001b[39mmask, hd\u001b[38;5;241m.\u001b[39mmask))\n\u001b[1;32m      6\u001b[0m \u001b[38;5;28mprint\u001b[39m(\u001b[38;5;124m\"\u001b[39m\u001b[38;5;124mPixel positions are the same: \u001b[39m\u001b[38;5;124m\"\u001b[39m, numpy\u001b[38;5;241m.\u001b[39mallclose(new_det\u001b[38;5;241m.\u001b[39mget_pixel_corners(), hd\u001b[38;5;241m.\u001b[39mget_pixel_corners()))\n",
      "\u001b[0;31mTypeError\u001b[0m: __str__ returned non-string (type NoneType)"
     ]
    }
   ],
   "source": [
    "h5_file = \"halfccd.h5\"\n",
    "hd.save(h5_file)\n",
    "new_det = pyFAI.detector_factory(h5_file)\n",
    "print(new_det)\n",
    "print(\"Mask is the same: \", numpy.allclose(new_det.mask, hd.mask))\n",
    "print(\"Pixel positions are the same: \", numpy.allclose(new_det.get_pixel_corners(), hd.get_pixel_corners()))\n",
    "print(\"Number of masked pixels\", new_det.mask.sum())"
   ]
  },
  {
   "cell_type": "markdown",
   "metadata": {},
   "source": [
    "Pixels of an area detector are saved as a four-dimensional dataset: i.e. a two-dimensional array of vertices pointing to every corner of each pixel, generating an array of dimension (Ny, Nx, Nc, 3), where Nx and Ny are the dimensions of the detector, Nc is the number of corners of each pixel, usually four, and the last entry contains the coordinates of the vertex itself (in the order: Z, Y, X). \n",
    "\n",
    "This kind of definition, while relying on large description files, can address some of the most complex detector layouts. They will be presented a bit later in this tutorial."
   ]
  },
  {
   "cell_type": "code",
   "execution_count": 7,
   "metadata": {},
   "outputs": [
    {
     "name": "stdout",
     "output_type": "stream",
     "text": [
      "Size of Spline-file: 1183\n",
      "Size of Nexus-file: 108279290\n"
     ]
    }
   ],
   "source": [
    "print(\"Size of Spline-file:\", os.stat(spline_file).st_size)\n",
    "print(\"Size of Nexus-file:\", os.stat(h5_file).st_size)"
   ]
  },
  {
   "cell_type": "markdown",
   "metadata": {},
   "source": [
    "The HDF5 file is indeed much larger than the spline file. \n",
    "\n",
    "## Modify a detector and saving\n",
    "\n",
    "One may want to define a new mask (or flat-field) for its detector and save the mask with the detector definition. \n",
    "Here, we create a copy of the detector and reset its mask to enable all pixels in the detector and save the new  detector instance into another file."
   ]
  },
  {
   "cell_type": "code",
   "execution_count": 8,
   "metadata": {},
   "outputs": [
    {
     "name": "stdout",
     "output_type": "stream",
     "text": [
      "No pixels are masked 0\n"
     ]
    }
   ],
   "source": [
    "import copy\n",
    "nomask_file = \"nomask.h5\"\n",
    "nomask = copy.deepcopy(new_det)\n",
    "nomask.mask = numpy.zeros_like(new_det.mask)\n",
    "nomask.save(nomask_file)\n",
    "nomask = pyFAI.detector_factory(\"nomask.h5\")\n",
    "print(\"No pixels are masked\",nomask.mask.sum())"
   ]
  },
  {
   "cell_type": "markdown",
   "metadata": {},
   "source": [
    "**Wrap up**\n",
    "\n",
    "In this section we have seen how detectors are defined in pyFAI, how they can be created, either from the list of the parametrized ones, or from spline files, or from NeXus detector files. \n",
    "We have also seen how to save and subsequently restore a detector instance, preserving the modifications made."
   ]
  },
  {
   "cell_type": "markdown",
   "metadata": {},
   "source": [
    "## Distortion correction\n",
    "\n",
    "Once the position of every single pixel in space is known, one can benefit from the regridding engine of pyFAI adapted to image distortion correction tasks. \n",
    "The *pyFAI.distortion.Distortion* class is the equivalent of the *pyFAI.AzimuthalIntegrator* for distortion. \n",
    "Provided with a detector definition, it enables the correction of a set of images by using the same kind of look-up tables as for azimuthal integration."
   ]
  },
  {
   "cell_type": "code",
   "execution_count": 9,
   "metadata": {},
   "outputs": [
    {
     "ename": "TypeError",
     "evalue": "sequence item 1: expected str instance, NoneType found",
     "output_type": "error",
     "traceback": [
      "\u001b[0;31m---------------------------------------------------------------------------\u001b[0m",
      "\u001b[0;31mTypeError\u001b[0m                                 Traceback (most recent call last)",
      "Cell \u001b[0;32mIn[9], line 3\u001b[0m\n\u001b[1;32m      1\u001b[0m \u001b[38;5;28;01mfrom\u001b[39;00m \u001b[38;5;21;01mpyFAI\u001b[39;00m\u001b[38;5;21;01m.\u001b[39;00m\u001b[38;5;21;01mdistortion\u001b[39;00m \u001b[38;5;28;01mimport\u001b[39;00m Distortion\n\u001b[1;32m      2\u001b[0m dis \u001b[38;5;241m=\u001b[39m Distortion(nomask)\n\u001b[0;32m----> 3\u001b[0m \u001b[38;5;28;43mprint\u001b[39;49m\u001b[43m(\u001b[49m\u001b[43mdis\u001b[49m\u001b[43m)\u001b[49m\n",
      "File \u001b[0;32m/home/edgar1993a/miniforge3/envs/ewoks/lib/python3.10/site-packages/pyFAI/distortion.py:144\u001b[0m, in \u001b[0;36mDistortion.__repr__\u001b[0;34m(self)\u001b[0m\n\u001b[1;32m    143\u001b[0m \u001b[38;5;28;01mdef\u001b[39;00m \u001b[38;5;21m__repr__\u001b[39m(\u001b[38;5;28mself\u001b[39m):\n\u001b[0;32m--> 144\u001b[0m     \u001b[38;5;28;01mreturn\u001b[39;00m \u001b[43mos\u001b[49m\u001b[38;5;241;43m.\u001b[39;49m\u001b[43mlinesep\u001b[49m\u001b[38;5;241;43m.\u001b[39;49m\u001b[43mjoin\u001b[49m\u001b[43m(\u001b[49m\u001b[43m[\u001b[49m\u001b[38;5;124;43m\"\u001b[39;49m\u001b[38;5;124;43mDistortion correction \u001b[39;49m\u001b[38;5;132;43;01m%s\u001b[39;49;00m\u001b[38;5;124;43m on device \u001b[39;49m\u001b[38;5;132;43;01m%s\u001b[39;49;00m\u001b[38;5;124;43m for detector shape \u001b[39;49m\u001b[38;5;132;43;01m%s\u001b[39;49;00m\u001b[38;5;124;43m:\u001b[39;49m\u001b[38;5;124;43m\"\u001b[39;49m\u001b[43m \u001b[49m\u001b[38;5;241;43m%\u001b[39;49m\u001b[43m \u001b[49m\u001b[43m(\u001b[49m\u001b[38;5;28;43mself\u001b[39;49m\u001b[38;5;241;43m.\u001b[39;49m\u001b[43mmethod\u001b[49m\u001b[43m,\u001b[49m\u001b[43m \u001b[49m\u001b[38;5;28;43mself\u001b[39;49m\u001b[38;5;241;43m.\u001b[39;49m\u001b[43mdevice\u001b[49m\u001b[43m,\u001b[49m\u001b[43m \u001b[49m\u001b[38;5;28;43mself\u001b[39;49m\u001b[38;5;241;43m.\u001b[39;49m\u001b[43m_shape_out\u001b[49m\u001b[43m)\u001b[49m\u001b[43m,\u001b[49m\n\u001b[1;32m    145\u001b[0m \u001b[43m                            \u001b[49m\u001b[38;5;28;43mself\u001b[39;49m\u001b[38;5;241;43m.\u001b[39;49m\u001b[43mdetector\u001b[49m\u001b[38;5;241;43m.\u001b[39;49m\u001b[38;5;21;43m__repr__\u001b[39;49m\u001b[43m(\u001b[49m\u001b[43m)\u001b[49m\u001b[43m]\u001b[49m\u001b[43m)\u001b[49m\n",
      "\u001b[0;31mTypeError\u001b[0m: sequence item 1: expected str instance, NoneType found"
     ]
    }
   ],
   "source": [
    "from pyFAI.distortion import Distortion\n",
    "dis = Distortion(nomask)\n",
    "print(dis)"
   ]
  },
  {
   "cell_type": "markdown",
   "metadata": {},
   "source": [
    "### FReLoN detector\n",
    "\n",
    "First load the image to be corrected, then correct it for geometric distortion.\n"
   ]
  },
  {
   "cell_type": "code",
   "execution_count": null,
   "metadata": {},
   "outputs": [],
   "source": [
    "halfccd_img = downloader.getfile(\"halfccd.edf\")\n",
    "import fabio\n",
    "raw = fabio.open(halfccd_img).data\n",
    "cor = dis.correct(raw, dummy=raw.min())\n",
    "\n",
    "#Then display raw and corrected imagesimages \n",
    "fig, ax = subplots(2, figsize=(8,8))\n",
    "\n",
    "jupyter.display(raw, label=\"Raw Image\", ax=ax[0])\n",
    "jupyter.display(cor, label=\"Corrected image\", ax=ax[1])\n",
    "pass"
   ]
  },
  {
   "cell_type": "markdown",
   "metadata": {},
   "source": [
    "**Nota:** in this case the image size (1024 lines) does not match the detector's number of lines (1025) hence pyFAI complains about it. \n",
    "Here, pyFAI patched the image on an empty image of the right size so that the processing can occur. \n",
    "\n",
    "In this example, the size of the pixels and the shape of the detector are preserved, discarding all pixels falling outside the detector's grid. \n",
    "\n",
    "One may want all pixels' intensity to be preserved in the transformation. By allowing the output array to be large enough to accomodate all pixels, the total intensity can be kept. For this, just enable the \"resize\" option in the constructor of *Distortion*:"
   ]
  },
  {
   "cell_type": "code",
   "execution_count": null,
   "metadata": {},
   "outputs": [],
   "source": [
    "dis1 = Distortion(hd, resize=True)\n",
    "cor = dis1.correct(raw)\n",
    "print(dis1)\n",
    "print(\"After correction, the image has a different shape\", cor.shape)"
   ]
  },
  {
   "cell_type": "code",
   "execution_count": null,
   "metadata": {},
   "outputs": [],
   "source": [
    "fig, ax = subplots(2,figsize=(8,8))\n",
    "jupyter.display(raw, label=\"Raw Image\", ax=ax[0])\n",
    "jupyter.display(cor, label=\"Corrected image\", ax=ax[1])\n",
    "pass"
   ]
  },
  {
   "cell_type": "markdown",
   "metadata": {},
   "source": [
    "### Example of Pixel-detectors: \n",
    "\n",
    "#### XPad Flat detector\n",
    "\n",
    "There is a striking example in the cover image of this article: http://scripts.iucr.org/cgi-bin/paper?S1600576715004306 where a detector made of multiple modules is *eating up* some rings. \n",
    "The first example will be about the regeneration of an \"eyes friendly\" version of this image."
   ]
  },
  {
   "cell_type": "code",
   "execution_count": null,
   "metadata": {},
   "outputs": [],
   "source": [
    "xpad_file = downloader.getfile(\"LaB6_18.57keV_frame_13.edf\")\n",
    "xpad = pyFAI.detector_factory(\"Xpad_flat\")\n",
    "print(xpad)\n",
    "xpad_dis = Distortion(xpad, resize=True)\n",
    "\n",
    "raw = fabio.open(xpad_file).data\n",
    "cor = xpad_dis.correct(raw)\n",
    "print(\"Shape as input and output:\", raw.shape, cor.shape)\n",
    "print(\"Conservation of the total intensity:\", raw.sum(dtype=\"float64\"), cor.sum(dtype=\"float64\"))\n",
    "\n",
    "#then display images side by side\n",
    "fig, ax = subplots(1, 2, figsize=(8,8))\n",
    "jupyter.display(raw, label=\"Raw Image\", ax=ax[0])\n",
    "jupyter.display(cor, label=\"Corrected image\", ax=ax[1])\n",
    "pass"
   ]
  },
  {
   "cell_type": "markdown",
   "metadata": {},
   "source": [
    "#### WOS XPad detector\n",
    "\n",
    "This is a new **WAXS opened for SAXS** pixel detector from ImXPad (available at ESRF-BM02/D2AM CRG beamline). \n",
    "It looks like two of *XPad_flat* detectors side by side with some modules shifted in order to create a hole to accomodate a flight-tube which gathers the SAXS photons to a second detector further away.\n",
    "\n",
    "The detector definition for this specific detector has directly been put down using the metrology informations from the manufacturer and saved as a NeXus detector definition file. \n"
   ]
  },
  {
   "cell_type": "code",
   "execution_count": null,
   "metadata": {},
   "outputs": [],
   "source": [
    "wos_det = downloader.getfile(\"WOS.h5\")\n",
    "wos_img = downloader.getfile(\"WOS.edf\")\n",
    "wos = pyFAI.detector_factory(wos_det)\n",
    "print(wos)\n",
    "wos_dis = Distortion(wos, resize=True)\n",
    "\n",
    "raw = fabio.open(wos_img).data\n",
    "cor = wos_dis.correct(raw)\n",
    "print(\"Shape as input: %s and output: %s\"%( raw.shape, cor.shape))\n",
    "print(\"Conservation of the total intensity: %.4e vs %.4e \"%(raw.sum(dtype=\"float64\"), cor.sum(dtype=\"float64\")))\n",
    "#then display images side by side\n",
    "fig, ax = subplots(2, figsize=(8,8))\n",
    "jupyter.display(raw, label=\"Raw Image\", ax=ax[0])\n",
    "jupyter.display(cor, label=\"Corrected image\", ax=ax[1])\n",
    "pass"
   ]
  },
  {
   "cell_type": "markdown",
   "metadata": {},
   "source": [
    "**Nota:** Do not use this detector definition file to process data from the WOS@D2AM as it has not (yet) been fully validated and may contain some errors in the pixel positioning.\n",
    "\n",
    "## Conclusion\n",
    "\n",
    "PyFAI provides a very comprehensive list of detector definitions, is versatile enough to address most area detectors on the market, and features a powerful regridding engine, both combined together into the distortion correction tool which ensures the conservation of the signal during the transformation (the number of photons counted is preserved during the transformation)\n",
    "\n",
    "Distortion correction should not be used for pre-processing images prior to azimuthal integration as it re-bins the image, thus induces a broadening of the peaks. The AzimuthalIntegrator object performs all this together with integration, it has hence a better precision.\n",
    "\n",
    "This tutorial did not answer the question *how to calibrate the distortion of a given detector ?* which is addressed in another tutorial called **detector calibration**."
   ]
  },
  {
   "cell_type": "code",
   "execution_count": null,
   "metadata": {},
   "outputs": [],
   "source": [
    "print(f\"Total execution time: {time.perf_counter() - start_time:.3f} s\")"
   ]
  }
 ],
 "metadata": {
  "kernelspec": {
   "display_name": "Python 3 (ipykernel)",
   "language": "python",
   "name": "python3"
  },
  "language_info": {
   "codemirror_mode": {
    "name": "ipython",
    "version": 3
   },
   "file_extension": ".py",
   "mimetype": "text/x-python",
   "name": "python",
   "nbconvert_exporter": "python",
   "pygments_lexer": "ipython3",
   "version": "3.10.14"
  }
 },
 "nbformat": 4,
 "nbformat_minor": 4
}
